{
 "cells": [
  {
   "cell_type": "markdown",
   "id": "3fe2040e",
   "metadata": {
    "papermill": {
     "duration": 0.078963,
     "end_time": "2022-03-31T22:14:09.386664",
     "exception": false,
     "start_time": "2022-03-31T22:14:09.307701",
     "status": "completed"
    },
    "tags": []
   },
   "source": [
    "# Prerequisites"
   ]
  },
  {
   "cell_type": "code",
   "execution_count": 1,
   "metadata": {},
   "outputs": [
    {
     "name": "stderr",
     "output_type": "stream",
     "text": [
      "/home/marco/miniconda3/envs/nlp2022-hw2/lib/python3.9/site-packages/tqdm/auto.py:22: TqdmWarning: IProgress not found. Please update jupyter and ipywidgets. See https://ipywidgets.readthedocs.io/en/stable/user_install.html\n",
      "  from .autonotebook import tqdm as notebook_tqdm\n"
     ]
    }
   ],
   "source": [
    "import os, sys\n",
    "\n",
    "import numpy as np\n",
    "import tqdm\n",
    "import torch"
   ]
  },
  {
   "cell_type": "markdown",
   "id": "5424a631",
   "metadata": {
    "papermill": {
     "duration": 0.049244,
     "end_time": "2022-03-31T22:14:12.552634",
     "exception": false,
     "start_time": "2022-03-31T22:14:12.503390",
     "status": "completed"
    },
    "tags": []
   },
   "source": [
    "Important paths for the notebook:"
   ]
  },
  {
   "cell_type": "code",
   "execution_count": 2,
   "metadata": {},
   "outputs": [],
   "source": [
    "app_root = '../../../../'\n",
    "test_name = 'test1'\n",
    "datasets_path = os.path.join(app_root, 'data')\n",
    "model_dir_path = os.path.join(app_root, 'model', test_name)\n",
    "\n",
    "datasets_paths = {}\n",
    "for lang in os.listdir(datasets_path):\n",
    "    dataset_lang_path = os.path.join(datasets_path, lang)\n",
    "    if os.path.isdir(dataset_lang_path):\n",
    "        datasets_paths[lang] = {}\n",
    "        for d_type in os.listdir(dataset_lang_path):\n",
    "            d_name = d_type.split('.')[0]\n",
    "            datasets_paths[lang][d_name] = os.path.join(dataset_lang_path, d_type)"
   ]
  },
  {
   "cell_type": "code",
   "execution_count": 3,
   "metadata": {},
   "outputs": [
    {
     "data": {
      "text/plain": [
       "'cuda'"
      ]
     },
     "execution_count": 3,
     "metadata": {},
     "output_type": "execute_result"
    }
   ],
   "source": [
    "sys.path.append('../../../')\n",
    "\n",
    "%load_ext autoreload\n",
    "%autoreload 2\n",
    "\n",
    "device = 'cuda' if torch.cuda.is_available() else 'cpu'\n",
    "device"
   ]
  },
  {
   "cell_type": "markdown",
   "id": "c7bc95ee",
   "metadata": {
    "papermill": {
     "duration": 0.048851,
     "end_time": "2022-03-31T22:14:13.015246",
     "exception": false,
     "start_time": "2022-03-31T22:14:12.966395",
     "status": "completed"
    },
    "tags": []
   },
   "source": [
    "Setting the seed for reproducibility:"
   ]
  },
  {
   "cell_type": "code",
   "execution_count": 4,
   "metadata": {},
   "outputs": [],
   "source": [
    "SEED = 28\n",
    "\n",
    "# random.seed(SEED) # not used\n",
    "np.random.seed(SEED)\n",
    "torch.manual_seed(SEED)\n",
    "torch.backends.cudnn.deterministic = True"
   ]
  },
  {
   "cell_type": "code",
   "execution_count": 5,
   "metadata": {},
   "outputs": [],
   "source": [
    "global_params = {\n",
    "    'batch_size': 32,\n",
    "    'PAD_TOKEN': '<pad>',\n",
    "    'UNK_TOKEN': '<unk>',\n",
    "    'sentence_len': 126, # maximum length from french dataset\n",
    "}"
   ]
  },
  {
   "cell_type": "markdown",
   "metadata": {},
   "source": [
    "# Word Embedding"
   ]
  },
  {
   "cell_type": "markdown",
   "metadata": {},
   "source": [
    "A first initial test will be to start with the model used in the Homework #1, and so we need to generate the word embedding from GloVe"
   ]
  },
  {
   "cell_type": "code",
   "execution_count": 6,
   "metadata": {},
   "outputs": [],
   "source": [
    "embedding_word_freeze = True"
   ]
  },
  {
   "cell_type": "code",
   "execution_count": 7,
   "metadata": {},
   "outputs": [],
   "source": [
    "from stud.modelsTests.utils.gensim_embedding_generator import generate_embedding_and_vocab, save_embedding_layer\n",
    "\n",
    "embedding_layer, vocabulary = generate_embedding_and_vocab(\n",
    "                                gensim_name = 'glove-wiki-gigaword-300', \n",
    "                                freeze = embedding_word_freeze, \n",
    "                                pad_token = global_params['PAD_TOKEN'], \n",
    "                                unk_token = global_params['UNK_TOKEN'])"
   ]
  },
  {
   "cell_type": "code",
   "execution_count": 8,
   "metadata": {},
   "outputs": [
    {
     "data": {
      "text/plain": [
       "(400002, 300)"
      ]
     },
     "execution_count": 8,
     "metadata": {},
     "output_type": "execute_result"
    }
   ],
   "source": [
    "embedding_layer.num_embeddings, embedding_layer.embedding_dim"
   ]
  },
  {
   "cell_type": "code",
   "execution_count": 9,
   "metadata": {},
   "outputs": [
    {
     "data": {
      "text/plain": [
       "('<pad>', '<unk>')"
      ]
     },
     "execution_count": 9,
     "metadata": {},
     "output_type": "execute_result"
    }
   ],
   "source": [
    "vocabulary['index_to_key'][-2], vocabulary['index_to_key'][-1]"
   ]
  },
  {
   "cell_type": "code",
   "execution_count": 10,
   "metadata": {},
   "outputs": [
    {
     "data": {
      "text/plain": [
       "(400000, 400001)"
      ]
     },
     "execution_count": 10,
     "metadata": {},
     "output_type": "execute_result"
    }
   ],
   "source": [
    "vocabulary['key_to_index'][global_params['PAD_TOKEN']], vocabulary['key_to_index'][global_params['UNK_TOKEN']]"
   ]
  },
  {
   "cell_type": "code",
   "execution_count": 11,
   "metadata": {},
   "outputs": [
    {
     "data": {
      "text/plain": [
       "('<pad>', 400000, '<unk>', 400001)"
      ]
     },
     "execution_count": 11,
     "metadata": {},
     "output_type": "execute_result"
    }
   ],
   "source": [
    "vocabulary['pad_token'], vocabulary['pad_id'], vocabulary['unk_token'], vocabulary['unk_id']"
   ]
  },
  {
   "cell_type": "code",
   "execution_count": 12,
   "metadata": {},
   "outputs": [],
   "source": [
    "save_embedding_layer(embedding_layer, os.path.join(model_dir_path, 'word_embedding.pth'))"
   ]
  },
  {
   "cell_type": "markdown",
   "id": "5a9214a0",
   "metadata": {
    "papermill": {
     "duration": 0.049393,
     "end_time": "2022-03-31T22:14:13.226777",
     "exception": false,
     "start_time": "2022-03-31T22:14:13.177384",
     "status": "completed"
    },
    "tags": []
   },
   "source": [
    "# Dataset Analysis"
   ]
  },
  {
   "cell_type": "code",
   "execution_count": 13,
   "metadata": {},
   "outputs": [],
   "source": [
    "from stud.modelsTests.dataset.SRLDataset_word_embedding import SRLDataset_word_embedding"
   ]
  },
  {
   "cell_type": "code",
   "execution_count": 14,
   "metadata": {},
   "outputs": [],
   "source": [
    "import matplotlib.pyplot as plt\n",
    "\n",
    "def print_counter_distribution(counter):\n",
    "    plt.figure(figsize=(22, 6))\n",
    "    plt.xticks(rotation=15)\n",
    "    plt.bar(counter.keys(),counter.values(), width=0.4)\n",
    "    plt.show()"
   ]
  },
  {
   "cell_type": "markdown",
   "metadata": {},
   "source": [
    "For now, we will use only english as starting point with vocabulary, but knowing that the maximum length of a sentence is 126 (french dataset):"
   ]
  },
  {
   "cell_type": "code",
   "execution_count": 15,
   "metadata": {},
   "outputs": [],
   "source": [
    "dataset_train_en = SRLDataset_word_embedding(   datasets_paths['EN']['train'], \n",
    "                                                word_vocabulary = vocabulary, \n",
    "                                                baselines_file_path = os.path.join(app_root,'data/baselines.json'),\n",
    "                                                max_length_sentence = global_params['sentence_len'])\n",
    "dataset_train_es = SRLDataset_word_embedding(   datasets_paths['ES']['train'], \n",
    "                                                word_vocabulary = vocabulary, \n",
    "                                                labels = dataset_train_en.labels,\n",
    "                                                max_length_sentence = global_params['sentence_len'])\n",
    "dataset_train_fr = SRLDataset_word_embedding(   datasets_paths['FR']['train'], \n",
    "                                                word_vocabulary = vocabulary, \n",
    "                                                labels = dataset_train_en.labels,\n",
    "                                                max_length_sentence = global_params['sentence_len'])"
   ]
  },
  {
   "cell_type": "code",
   "execution_count": 16,
   "metadata": {},
   "outputs": [],
   "source": [
    "SRLDataset_word_embedding.save_dict(\n",
    "    os.path.join(model_dir_path, 'EN_word_vocabulary.npy'), \n",
    "    dataset_train_en.word_vocabulary)\n",
    "SRLDataset_word_embedding.save_dict(\n",
    "    os.path.join(model_dir_path, 'labels.npy'), \n",
    "    dataset_train_en.labels)"
   ]
  },
  {
   "cell_type": "code",
   "execution_count": 17,
   "metadata": {},
   "outputs": [
    {
     "name": "stdout",
     "output_type": "stream",
     "text": [
      "EN\n",
      "2874 words not present out of 8787  so: 32.71 %\n",
      "2222 lemmas not present out of 6761  so: 32.86 %\n"
     ]
    }
   ],
   "source": [
    "words_in_train = list(set(word for sample in dataset_train_en for word in sample['words']))\n",
    "lemmas_in_train = list(set(word for sample in dataset_train_en for word in sample['lemmas']))\n",
    "words_not_present = len([w for w in words_in_train if w not in vocabulary['key_to_index']])\n",
    "lemmas_not_present = len([w for w in lemmas_in_train if w not in vocabulary['key_to_index']])\n",
    "words_in_train = len(words_in_train)\n",
    "lemmas_in_train = len(lemmas_in_train)\n",
    "print('EN')\n",
    "print(words_not_present, 'words not present out of', words_in_train, ' so:', f'{(100*words_not_present/words_in_train):0.2f}', '%')\n",
    "print(lemmas_not_present, 'lemmas not present out of', lemmas_in_train, ' so:', f'{(100*lemmas_not_present/lemmas_in_train):0.2f}', '%')"
   ]
  },
  {
   "cell_type": "code",
   "execution_count": 18,
   "metadata": {},
   "outputs": [
    {
     "name": "stdout",
     "output_type": "stream",
     "text": [
      "ES\n",
      "2081 words not present out of 3173  so: 65.58 %\n",
      "1499 lemmas not present out of 2401  so: 62.43 %\n"
     ]
    }
   ],
   "source": [
    "words_in_train = list(set(word for sample in dataset_train_es for word in sample['words']))\n",
    "lemmas_in_train = list(set(word for sample in dataset_train_es for word in sample['lemmas']))\n",
    "words_not_present = len([w for w in words_in_train if w not in vocabulary['key_to_index']])\n",
    "lemmas_not_present = len([w for w in lemmas_in_train if w not in vocabulary['key_to_index']])\n",
    "words_in_train = len(words_in_train)\n",
    "lemmas_in_train = len(lemmas_in_train)\n",
    "print('ES')\n",
    "print(words_not_present, 'words not present out of', words_in_train, ' so:', f'{(100*words_not_present/words_in_train):0.2f}', '%')\n",
    "print(lemmas_not_present, 'lemmas not present out of', lemmas_in_train, ' so:', f'{(100*lemmas_not_present/lemmas_in_train):0.2f}', '%')"
   ]
  },
  {
   "cell_type": "code",
   "execution_count": 19,
   "metadata": {},
   "outputs": [
    {
     "name": "stdout",
     "output_type": "stream",
     "text": [
      "FR\n",
      "1894 words not present out of 3000  so: 63.13 %\n",
      "1246 lemmas not present out of 2202  so: 56.58 %\n"
     ]
    }
   ],
   "source": [
    "words_in_train = list(set(word for sample in dataset_train_fr for word in sample['words']))\n",
    "lemmas_in_train = list(set(word for sample in dataset_train_fr for word in sample['lemmas']))\n",
    "words_not_present = len([w for w in words_in_train if w not in vocabulary['key_to_index']])\n",
    "lemmas_not_present = len([w for w in lemmas_in_train if w not in vocabulary['key_to_index']])\n",
    "words_in_train = len(words_in_train)\n",
    "lemmas_in_train = len(lemmas_in_train)\n",
    "print('FR')\n",
    "print(words_not_present, 'words not present out of', words_in_train, ' so:', f'{(100*words_not_present/words_in_train):0.2f}', '%')\n",
    "print(lemmas_not_present, 'lemmas not present out of', lemmas_in_train, ' so:', f'{(100*lemmas_not_present/lemmas_in_train):0.2f}', '%')"
   ]
  },
  {
   "cell_type": "code",
   "execution_count": 20,
   "metadata": {},
   "outputs": [],
   "source": [
    "dataset_dev_en = SRLDataset_word_embedding( datasets_paths['EN']['dev'], \n",
    "                                            word_vocabulary = vocabulary, \n",
    "                                            labels = dataset_train_en.labels,\n",
    "                                            max_length_sentence = global_params['sentence_len'])"
   ]
  },
  {
   "cell_type": "code",
   "execution_count": 21,
   "metadata": {},
   "outputs": [
    {
     "name": "stdout",
     "output_type": "stream",
     "text": [
      "EN roles labels 26\n"
     ]
    },
    {
     "data": {
      "image/png": "[encoded data removed]",
      "text/plain": [
       "<Figure size 1584x432 with 1 Axes>"
      ]
     },
     "metadata": {
      "needs_background": "light"
     },
     "output_type": "display_data"
    },
    {
     "name": "stdout",
     "output_type": "stream",
     "text": [
      "ES roles labels 25\n"
     ]
    },
    {
     "data": {
      "image/png": "[encoded data removed]",
      "text/plain": [
       "<Figure size 1584x432 with 1 Axes>"
      ]
     },
     "metadata": {
      "needs_background": "light"
     },
     "output_type": "display_data"
    },
    {
     "name": "stdout",
     "output_type": "stream",
     "text": [
      "FR roles labels 26\n"
     ]
    },
    {
     "data": {
      "image/png": "[encoded data removed]",
      "text/plain": [
       "<Figure size 1584x432 with 1 Axes>"
      ]
     },
     "metadata": {
      "needs_background": "light"
     },
     "output_type": "display_data"
    }
   ],
   "source": [
    "roles_c_en_train = dataset_train_en.get_roles_distribution(dataset_train_en.data_raw)\n",
    "print('EN roles labels',len(list(roles_c_en_train)))\n",
    "print_counter_distribution(roles_c_en_train)\n",
    "\n",
    "roles_c_es_train = dataset_train_es.get_roles_distribution(dataset_train_es.data_raw)\n",
    "print('ES roles labels',len(list(roles_c_es_train)))\n",
    "print_counter_distribution(roles_c_es_train)\n",
    "\n",
    "roles_c_fr_train = dataset_train_fr.get_roles_distribution(dataset_train_fr.data_raw)\n",
    "print('FR roles labels',len(list(roles_c_fr_train)))\n",
    "print_counter_distribution(roles_c_fr_train)"
   ]
  },
  {
   "cell_type": "code",
   "execution_count": 24,
   "metadata": {},
   "outputs": [
    {
     "data": {
      "text/plain": [
       "dict_keys(['dependency_heads', 'dependency_relations', 'lemmas', 'pos_tags', 'predicates', 'roles', 'words', 'predicate_position', 'predicate_label', 'predicate_word'])"
      ]
     },
     "execution_count": 24,
     "metadata": {},
     "output_type": "execute_result"
    }
   ],
   "source": [
    "next(iter(dataset_train_en)).keys()"
   ]
  },
  {
   "cell_type": "code",
   "execution_count": 25,
   "metadata": {},
   "outputs": [],
   "source": [
    "global_params.update({ \n",
    "    'n_roles_labels': len(dataset_train_en.labels['id_to_roles']),\n",
    "    'n_predicates_labels': len(dataset_train_en.labels['id_to_predicates']),\n",
    "    'embedding_word_shape': (embedding_layer.num_embeddings, embedding_layer.embedding_dim),\n",
    "    'embedding_word_padding_idx': vocabulary['pad_id'],\n",
    "    'embedding_word_requires_grad': not embedding_word_freeze,\n",
    "})"
   ]
  },
  {
   "cell_type": "markdown",
   "id": "15baf7b6",
   "metadata": {},
   "source": [
    "Saving global variables..."
   ]
  },
  {
   "cell_type": "code",
   "execution_count": 26,
   "metadata": {},
   "outputs": [],
   "source": [
    "np.save(os.path.join(model_dir_path, 'global_params.npy'), global_params)"
   ]
  },
  {
   "cell_type": "markdown",
   "metadata": {},
   "source": [
    "# DataLoader"
   ]
  },
  {
   "cell_type": "code",
   "execution_count": 27,
   "metadata": {},
   "outputs": [],
   "source": [
    "from torch.utils.data import DataLoader"
   ]
  },
  {
   "cell_type": "code",
   "execution_count": 28,
   "metadata": {},
   "outputs": [],
   "source": [
    "dataloader_train_en = DataLoader(\n",
    "    dataset_train_en,\n",
    "    batch_size=global_params['batch_size'],\n",
    "    collate_fn=dataset_train_en.create_collate_fn(),\n",
    "    num_workers=4,\n",
    "    shuffle=True,\n",
    ")"
   ]
  },
  {
   "cell_type": "code",
   "execution_count": 29,
   "metadata": {},
   "outputs": [],
   "source": [
    "dataloader_dev_en = DataLoader(\n",
    "    dataset_dev_en,\n",
    "    batch_size=global_params['batch_size'],\n",
    "    collate_fn=dataset_dev_en.create_collate_fn(),\n",
    "    num_workers=4,\n",
    "    shuffle=False,\n",
    ")"
   ]
  },
  {
   "cell_type": "code",
   "execution_count": 30,
   "metadata": {},
   "outputs": [],
   "source": [
    "for e in dataloader_dev_en:\n",
    "    ex_in = e\n",
    "    break"
   ]
  },
  {
   "cell_type": "code",
   "execution_count": 31,
   "metadata": {},
   "outputs": [
    {
     "data": {
      "text/plain": [
       "dict_keys(['words', 'lemmas', 'pos_tags', 'dependency_heads', 'dependency_relations', 'predicates', 'predicate_position', 'roles'])"
      ]
     },
     "execution_count": 31,
     "metadata": {},
     "output_type": "execute_result"
    }
   ],
   "source": [
    "ex_in.keys()"
   ]
  },
  {
   "cell_type": "code",
   "execution_count": 32,
   "metadata": {},
   "outputs": [
    {
     "name": "stdout",
     "output_type": "stream",
     "text": [
      "[400001, 400001, 11565, 12, 0, 400001, 165, 642, 56, 999, 4, 122640, 0, 235, 3, 0, 264, 2500, 1848, 1, 194, 5, 1102, 340, 59, 473, 417, 2, 400000, 400000, 400000, 400000, 400000, 400000, 400000, 400000, 400000, 400000, 400000, 400000, 400000, 400000, 400000, 400000, 400000, 400000, 400000, 400000, 400000, 400000, 400000, 400000, 400000, 400000, 400000, 400000, 400000, 400000, 400000, 400000, 400000, 400000, 400000, 400000, 400000, 400000, 400000, 400000, 400000, 400000, 400000, 400000, 400000, 400000, 400000, 400000, 400000, 400000, 400000, 400000, 400000, 400000, 400000, 400000, 400000, 400000, 400000, 400000, 400000, 400000, 400000, 400000, 400000, 400000, 400000, 400000, 400000, 400000, 400000, 400000, 400000, 400000, 400000, 400000, 400000, 400000, 400000, 400000, 400000, 400000, 400000, 400000, 400000, 400000, 400000, 400000, 400000, 400000, 400000, 400000, 400000, 400000, 400000, 400000, 400000, 400000] 126\n"
     ]
    }
   ],
   "source": [
    "print(ex_in['words'][0], len(ex_in['words'][0]))"
   ]
  },
  {
   "cell_type": "code",
   "execution_count": 33,
   "metadata": {},
   "outputs": [
    {
     "name": "stdout",
     "output_type": "stream",
     "text": [
      "[0, 0, 297, 0, 0, 0, 0, 0, 0, 0, 0, 0, 0, 0, 0, 0, 0, 0, 0, 0, 0, 0, 0, 0, 0, 0, 0, 0, -1, -1, -1, -1, -1, -1, -1, -1, -1, -1, -1, -1, -1, -1, -1, -1, -1, -1, -1, -1, -1, -1, -1, -1, -1, -1, -1, -1, -1, -1, -1, -1, -1, -1, -1, -1, -1, -1, -1, -1, -1, -1, -1, -1, -1, -1, -1, -1, -1, -1, -1, -1, -1, -1, -1, -1, -1, -1, -1, -1, -1, -1, -1, -1, -1, -1, -1, -1, -1, -1, -1, -1, -1, -1, -1, -1, -1, -1, -1, -1, -1, -1, -1, -1, -1, -1, -1, -1, -1, -1, -1, -1, -1, -1, -1, -1, -1, -1]\n"
     ]
    }
   ],
   "source": [
    "print(ex_in['predicates'][0])"
   ]
  },
  {
   "cell_type": "code",
   "execution_count": 34,
   "metadata": {},
   "outputs": [
    {
     "name": "stdout",
     "output_type": "stream",
     "text": [
      "[0, 1, 0, 26, 0, 0, 0, 0, 0, 0, 0, 0, 0, 0, 0, 0, 0, 0, 0, 0, 0, 0, 0, 0, 0, 0, 0, 0, -1, -1, -1, -1, -1, -1, -1, -1, -1, -1, -1, -1, -1, -1, -1, -1, -1, -1, -1, -1, -1, -1, -1, -1, -1, -1, -1, -1, -1, -1, -1, -1, -1, -1, -1, -1, -1, -1, -1, -1, -1, -1, -1, -1, -1, -1, -1, -1, -1, -1, -1, -1, -1, -1, -1, -1, -1, -1, -1, -1, -1, -1, -1, -1, -1, -1, -1, -1, -1, -1, -1, -1, -1, -1, -1, -1, -1, -1, -1, -1, -1, -1, -1, -1, -1, -1, -1, -1, -1, -1, -1, -1, -1, -1, -1, -1, -1, -1]\n"
     ]
    }
   ],
   "source": [
    "print(ex_in['roles'][0])"
   ]
  },
  {
   "cell_type": "markdown",
   "metadata": {},
   "source": [
    "# Printing model"
   ]
  },
  {
   "cell_type": "code",
   "execution_count": 36,
   "metadata": {},
   "outputs": [],
   "source": [
    "from stud.modelsTests.utils.print_infos import *"
   ]
  },
  {
   "cell_type": "markdown",
   "metadata": {},
   "source": [
    "# Wrapping everything"
   ]
  },
  {
   "cell_type": "code",
   "execution_count": 37,
   "metadata": {},
   "outputs": [],
   "source": [
    "loss_function = torch.nn.CrossEntropyLoss(ignore_index = dataset_train_en.labels['roles_pad_id']) # !"
   ]
  },
  {
   "cell_type": "code",
   "execution_count": 38,
   "metadata": {},
   "outputs": [],
   "source": [
    "from stud.modelsTests.model_arg_iden_class_part.Model_aic_lstm import ArgIdenClassModel\n",
    "\n",
    "final_model = ArgIdenClassModel(\n",
    "    language = 'EN',\n",
    "    device = device,\n",
    "    model_load_weights = False,\n",
    "    loss_fn = loss_function,\n",
    ")\n",
    "\n",
    "import torch.optim as optim\n",
    "\n",
    "optimizer = optim.SGD(final_model.model.parameters(), lr=0.0016, momentum=0.9)\n",
    "# optimizer = optim.Adam(final_model.model.parameters(), lr=0.0016)"
   ]
  },
  {
   "cell_type": "code",
   "execution_count": 39,
   "metadata": {},
   "outputs": [
    {
     "name": "stdout",
     "output_type": "stream",
     "text": [
      "Net_aic_lstm(\n",
      "  (word_embedding): Embedding(400002, 300, padding_idx=400000)\n",
      "  (word_lstm): LSTM(715, 256, num_layers=3, batch_first=True, dropout=0.3, bidirectional=True)\n",
      "  (fc1): Linear(in_features=512, out_features=256, bias=True)\n",
      "  (ln1): LayerNorm((256,), eps=1e-05, elementwise_affine=True)\n",
      "  (classifier): Linear(in_features=256, out_features=28, bias=True)\n",
      "  (loss_fn): CrossEntropyLoss()\n",
      "  (relu): ReLU()\n",
      ")\n",
      "----------------------\n",
      "parameters: 125,286,260\n",
      "trainable parameters: 5,285,660\n",
      "non-trainable parameters: 120,000,600\n"
     ]
    }
   ],
   "source": [
    "print_summary(final_model.model)"
   ]
  },
  {
   "cell_type": "markdown",
   "metadata": {},
   "source": [
    "# Training"
   ]
  },
  {
   "cell_type": "code",
   "execution_count": 40,
   "metadata": {},
   "outputs": [],
   "source": [
    "# os.environ['CUDA_LAUNCH_BLOCKING'] = '1'"
   ]
  },
  {
   "cell_type": "code",
   "execution_count": 41,
   "metadata": {},
   "outputs": [
    {
     "name": "stdout",
     "output_type": "stream",
     "text": [
      "labels: \n",
      " [0, 1, 0, 26, 0, 0, 0, 0, 0, 0, 0, 0, 0, 0, 0, 0, 0, 0, 0, 0, 0, 0, 0, 0, 0, 0, 0, 0, -1, -1, -1, -1, -1, -1, -1, -1, -1, -1, -1, -1, -1, -1, -1, -1, -1, -1, -1, -1, -1, -1, -1, -1, -1, -1, -1, -1, -1, -1, -1, -1, -1, -1, -1, -1, -1, -1, -1, -1, -1, -1, -1, -1, -1, -1, -1, -1, -1, -1, -1, -1, -1, -1, -1, -1, -1, -1, -1, -1, -1, -1, -1, -1, -1, -1, -1, -1, -1, -1, -1, -1, -1, -1, -1, -1, -1, -1, -1, -1, -1, -1, -1, -1, -1, -1, -1, -1, -1, -1, -1, -1, -1, -1, -1, -1, -1, -1] \n",
      " predictions: \n",
      " [8, 8, 8, 8, 8, 8, 8, 8, 8, 8, 2, 2, 8, 2, 2, 8, 8, 8, 8, 8, 8, 8, 8, 8, 16, 16, 16, 8, 8, 8, 8, 8, 8, 8, 8, 8, 8, 8, 8, 8, 8, 8, 8, 8, 8, 8, 8, 8, 8, 8, 8, 8, 8, 8, 8, 8, 8, 8, 8, 8, 8, 8, 8, 8, 8, 8, 8, 8, 8, 8, 8, 8, 8, 8, 8, 8, 8, 8, 8, 8, 8, 8, 8, 8, 8, 8, 8, 8, 8, 8, 8, 8, 8, 8, 8, 8, 8, 8, 8, 8, 8, 8, 8, 8, 8, 8, 8, 8, 8, 8, 8, 8, 8, 8, 8, 8, 8, 8, 8, 8, 8, 8, 8, 8, 8, 16]\n"
     ]
    }
   ],
   "source": [
    "from stud.modelsTests.utils.Trainer_aic_lstm import Trainer_aic_lstm\n",
    "\n",
    "final_model.model.eval()\n",
    "final_model.model.to(device)\n",
    "\n",
    "trainer = Trainer_aic_lstm()\n",
    "\n",
    "with torch.no_grad():\n",
    "    ex_out = trainer.compute_forward(\n",
    "        final_model.model, ex_in, device, optimizer = None)\n",
    "\n",
    "    ex_l, ex_p, ex_loss = ex_out['labels'], ex_out['predictions'], ex_out['loss'],\n",
    "\n",
    "ex_p_f = final_model.model.get_indices(ex_p)\n",
    "\n",
    "print(\n",
    "    'labels:','\\n',\n",
    "    ex_l.detach().cpu().tolist()[0],'\\n',\n",
    "    'predictions:','\\n',\n",
    "    ex_p_f.detach().cpu().tolist()[0])"
   ]
  },
  {
   "cell_type": "code",
   "execution_count": 42,
   "metadata": {},
   "outputs": [],
   "source": [
    "history = {}"
   ]
  },
  {
   "cell_type": "code",
   "execution_count": 43,
   "metadata": {},
   "outputs": [
    {
     "name": "stdout",
     "output_type": "stream",
     "text": [
      "Epoch   0 => avg_loss: 0.362706\n",
      "# Validation loss => 0.304240 | f1-score: arg_iden = 0.000000 arg_class = 0.000000 #\n",
      "Epoch   1 => avg_loss: 0.314244\n",
      "# Validation loss => 0.294974 | f1-score: arg_iden = 0.000000 arg_class = 0.000000 #\n",
      "Epoch   2 => avg_loss: 0.304378\n",
      "# Validation loss => 0.284179 | f1-score: arg_iden = 0.000000 arg_class = 0.000000 #\n",
      "Epoch   3 => avg_loss: 0.296156\n",
      "# Validation loss => 0.277855 | f1-score: arg_iden = 0.000000 arg_class = 0.000000 #\n",
      "Epoch   4 => avg_loss: 0.291203\n",
      "# Validation loss => 0.273032 | f1-score: arg_iden = 0.000000 arg_class = 0.000000 #\n",
      "Epoch   5 => avg_loss: 0.286601\n",
      "# Validation loss => 0.268762 | f1-score: arg_iden = 0.000000 arg_class = 0.000000 #\n",
      "Epoch   6 => avg_loss: 0.282131\n",
      "# Validation loss => 0.264040 | f1-score: arg_iden = 0.000000 arg_class = 0.000000 #\n",
      "Epoch   7 => avg_loss: 0.277748\n",
      "# Validation loss => 0.259402 | f1-score: arg_iden = 0.000000 arg_class = 0.000000 #\n",
      "Epoch   8 => avg_loss: 0.272998\n",
      "# Validation loss => 0.253986 | f1-score: arg_iden = 0.001594 arg_class = 0.001196 #\n",
      "Epoch   9 => avg_loss: 0.267960\n",
      "# Validation loss => 0.249188 | f1-score: arg_iden = 0.002788 arg_class = 0.001991 #\n",
      "Epoch  10 => avg_loss: 0.262987\n",
      "# Validation loss => 0.242743 | f1-score: arg_iden = 0.022030 arg_class = 0.016522 #\n",
      "Epoch  11 => avg_loss: 0.258226\n",
      "# Validation loss => 0.237593 | f1-score: arg_iden = 0.025500 arg_class = 0.020400 #\n",
      "Epoch  12 => avg_loss: 0.253311\n",
      "# Validation loss => 0.231849 | f1-score: arg_iden = 0.056408 arg_class = 0.043745 #\n",
      "Epoch  13 => avg_loss: 0.249366\n",
      "# Validation loss => 0.228633 | f1-score: arg_iden = 0.043140 arg_class = 0.034590 #\n",
      "Epoch  14 => avg_loss: 0.244265\n",
      "# Validation loss => 0.222245 | f1-score: arg_iden = 0.077765 arg_class = 0.060023 #\n",
      "Epoch  15 => avg_loss: 0.240092\n",
      "# Validation loss => 0.218394 | f1-score: arg_iden = 0.194218 arg_class = 0.153061 #\n",
      "Epoch  16 => avg_loss: 0.235653\n",
      "# Validation loss => 0.212988 | f1-score: arg_iden = 0.149813 arg_class = 0.118780 #\n",
      "Epoch  17 => avg_loss: 0.230971\n",
      "# Validation loss => 0.209782 | f1-score: arg_iden = 0.133552 arg_class = 0.106185 #\n",
      "Epoch  18 => avg_loss: 0.226565\n",
      "# Validation loss => 0.203335 | f1-score: arg_iden = 0.175035 arg_class = 0.141796 #\n",
      "Epoch  19 => avg_loss: 0.222186\n",
      "# Validation loss => 0.199292 | f1-score: arg_iden = 0.226229 arg_class = 0.187107 #\n",
      "Epoch  20 => avg_loss: 0.217720\n",
      "# Validation loss => 0.194732 | f1-score: arg_iden = 0.285117 arg_class = 0.230410 #\n",
      "Epoch  21 => avg_loss: 0.213263\n",
      "# Validation loss => 0.190869 | f1-score: arg_iden = 0.287106 arg_class = 0.233193 #\n",
      "Epoch  22 => avg_loss: 0.209235\n",
      "# Validation loss => 0.187325 | f1-score: arg_iden = 0.292293 arg_class = 0.246897 #\n",
      "Epoch  23 => avg_loss: 0.205742\n",
      "# Validation loss => 0.182930 | f1-score: arg_iden = 0.341173 arg_class = 0.285356 #\n",
      "Epoch  24 => avg_loss: 0.201265\n",
      "# Validation loss => 0.179283 | f1-score: arg_iden = 0.379063 arg_class = 0.319548 #\n",
      "Epoch  25 => avg_loss: 0.197583\n",
      "# Validation loss => 0.176574 | f1-score: arg_iden = 0.409051 arg_class = 0.343520 #\n",
      "Epoch  26 => avg_loss: 0.193882\n",
      "# Validation loss => 0.174084 | f1-score: arg_iden = 0.383663 arg_class = 0.325186 #\n",
      "Epoch  27 => avg_loss: 0.190813\n",
      "# Validation loss => 0.171020 | f1-score: arg_iden = 0.447813 arg_class = 0.369679 #\n",
      "Epoch  28 => avg_loss: 0.187223\n",
      "# Validation loss => 0.169351 | f1-score: arg_iden = 0.446706 arg_class = 0.370801 #\n",
      "Epoch  29 => avg_loss: 0.184715\n",
      "# Validation loss => 0.167032 | f1-score: arg_iden = 0.452584 arg_class = 0.376430 #\n",
      "Epoch  30 => avg_loss: 0.181597\n",
      "# Validation loss => 0.166800 | f1-score: arg_iden = 0.412848 arg_class = 0.354696 #\n",
      "Epoch  31 => avg_loss: 0.178617\n",
      "# Validation loss => 0.162356 | f1-score: arg_iden = 0.492618 arg_class = 0.410562 #\n",
      "Epoch  32 => avg_loss: 0.175357\n",
      "# Validation loss => 0.160283 | f1-score: arg_iden = 0.486479 arg_class = 0.404922 #\n",
      "Epoch  33 => avg_loss: 0.172961\n",
      "# Validation loss => 0.159938 | f1-score: arg_iden = 0.481310 arg_class = 0.403941 #\n",
      "Epoch  34 => avg_loss: 0.170852\n",
      "# Validation loss => 0.154793 | f1-score: arg_iden = 0.551669 arg_class = 0.453827 #\n",
      "Epoch  35 => avg_loss: 0.168325\n",
      "# Validation loss => 0.154339 | f1-score: arg_iden = 0.531596 arg_class = 0.443182 #\n",
      "Epoch  36 => avg_loss: 0.166048\n",
      "# Validation loss => 0.153711 | f1-score: arg_iden = 0.548505 arg_class = 0.457313 #\n",
      "Epoch  37 => avg_loss: 0.163748\n",
      "# Validation loss => 0.150943 | f1-score: arg_iden = 0.580393 arg_class = 0.474157 #\n",
      "Epoch  38 => avg_loss: 0.161777\n",
      "# Validation loss => 0.148916 | f1-score: arg_iden = 0.615844 arg_class = 0.492227 #\n",
      "Epoch  39 => avg_loss: 0.159948\n",
      "# Validation loss => 0.147989 | f1-score: arg_iden = 0.598210 arg_class = 0.484910 #\n",
      "Epoch  40 => avg_loss: 0.158001\n",
      "# Validation loss => 0.146252 | f1-score: arg_iden = 0.620915 arg_class = 0.494470 #\n",
      "Epoch  41 => avg_loss: 0.156058\n",
      "# Validation loss => 0.145617 | f1-score: arg_iden = 0.599870 arg_class = 0.486957 #\n",
      "Epoch  42 => avg_loss: 0.154167\n",
      "# Validation loss => 0.143368 | f1-score: arg_iden = 0.626907 arg_class = 0.499375 #\n",
      "Epoch  43 => avg_loss: 0.152826\n",
      "# Validation loss => 0.143290 | f1-score: arg_iden = 0.605982 arg_class = 0.500516 #\n",
      "----- Best value obtained, saving model -----\n",
      "Epoch  44 => avg_loss: 0.151313\n",
      "# Validation loss => 0.142033 | f1-score: arg_iden = 0.660546 arg_class = 0.519303 #\n",
      "----- Best value obtained, saving model -----\n",
      "Epoch  45 => avg_loss: 0.149615\n",
      "# Validation loss => 0.140768 | f1-score: arg_iden = 0.620105 arg_class = 0.503531 #\n",
      "Epoch  46 => avg_loss: 0.148316\n",
      "# Validation loss => 0.139914 | f1-score: arg_iden = 0.637937 arg_class = 0.516378 #\n",
      "Epoch  47 => avg_loss: 0.146463\n",
      "# Validation loss => 0.138505 | f1-score: arg_iden = 0.643017 arg_class = 0.518978 #\n",
      "Epoch  48 => avg_loss: 0.145176\n",
      "# Validation loss => 0.140395 | f1-score: arg_iden = 0.614904 arg_class = 0.510339 #\n",
      "Epoch  49 => avg_loss: 0.143638\n",
      "# Validation loss => 0.136905 | f1-score: arg_iden = 0.677745 arg_class = 0.534108 #\n",
      "----- Best value obtained, saving model -----\n",
      "Epoch  50 => avg_loss: 0.142994\n",
      "# Validation loss => 0.135872 | f1-score: arg_iden = 0.672995 arg_class = 0.528951 #\n",
      "Epoch  51 => avg_loss: 0.141357\n",
      "# Validation loss => 0.134195 | f1-score: arg_iden = 0.662281 arg_class = 0.534844 #\n",
      "----- Best value obtained, saving model -----\n",
      "Epoch  52 => avg_loss: 0.140152\n",
      "# Validation loss => 0.133991 | f1-score: arg_iden = 0.657652 arg_class = 0.535218 #\n",
      "----- Best value obtained, saving model -----\n",
      "Epoch  53 => avg_loss: 0.138639\n",
      "# Validation loss => 0.132822 | f1-score: arg_iden = 0.669535 arg_class = 0.539022 #\n",
      "----- Best value obtained, saving model -----\n",
      "Epoch  54 => avg_loss: 0.137517\n",
      "# Validation loss => 0.132551 | f1-score: arg_iden = 0.682542 arg_class = 0.545243 #\n",
      "----- Best value obtained, saving model -----\n",
      "Epoch  55 => avg_loss: 0.136625\n",
      "# Validation loss => 0.131353 | f1-score: arg_iden = 0.672457 arg_class = 0.542164 #\n",
      "Epoch  56 => avg_loss: 0.135737\n",
      "# Validation loss => 0.130396 | f1-score: arg_iden = 0.674708 arg_class = 0.546053 #\n",
      "----- Best value obtained, saving model -----\n",
      "Epoch  57 => avg_loss: 0.134134\n",
      "# Validation loss => 0.129737 | f1-score: arg_iden = 0.686840 arg_class = 0.551020 #\n",
      "----- Best value obtained, saving model -----\n",
      "Epoch  58 => avg_loss: 0.133547\n",
      "# Validation loss => 0.129634 | f1-score: arg_iden = 0.667488 arg_class = 0.547493 #\n",
      "Epoch  59 => avg_loss: 0.132063\n",
      "# Validation loss => 0.129658 | f1-score: arg_iden = 0.694473 arg_class = 0.559544 #\n",
      "----- Best value obtained, saving model -----\n",
      "Epoch  60 => avg_loss: 0.131256\n",
      "# Validation loss => 0.127886 | f1-score: arg_iden = 0.696200 arg_class = 0.559338 #\n",
      "Epoch  61 => avg_loss: 0.130026\n",
      "# Validation loss => 0.127091 | f1-score: arg_iden = 0.699638 arg_class = 0.559431 #\n",
      "Epoch  62 => avg_loss: 0.129243\n",
      "# Validation loss => 0.129702 | f1-score: arg_iden = 0.713756 arg_class = 0.562677 #\n",
      "----- Best value obtained, saving model -----\n",
      "Epoch  63 => avg_loss: 0.128691\n",
      "# Validation loss => 0.127072 | f1-score: arg_iden = 0.693617 arg_class = 0.559811 #\n",
      "Epoch  64 => avg_loss: 0.127116\n",
      "# Validation loss => 0.125318 | f1-score: arg_iden = 0.695755 arg_class = 0.564619 #\n",
      "----- Best value obtained, saving model -----\n",
      "Epoch  65 => avg_loss: 0.126507\n",
      "# Validation loss => 0.126097 | f1-score: arg_iden = 0.675426 arg_class = 0.560827 #\n",
      "Epoch  66 => avg_loss: 0.125128\n",
      "# Validation loss => 0.125788 | f1-score: arg_iden = 0.719166 arg_class = 0.572094 #\n",
      "----- Best value obtained, saving model -----\n",
      "Epoch  67 => avg_loss: 0.124623\n",
      "# Validation loss => 0.124107 | f1-score: arg_iden = 0.698158 arg_class = 0.569959 #\n",
      "Epoch  68 => avg_loss: 0.124004\n",
      "# Validation loss => 0.123013 | f1-score: arg_iden = 0.708913 arg_class = 0.572743 #\n",
      "----- Best value obtained, saving model -----\n",
      "Epoch  69 => avg_loss: 0.122788\n",
      "# Validation loss => 0.123118 | f1-score: arg_iden = 0.717722 arg_class = 0.574314 #\n",
      "----- Best value obtained, saving model -----\n",
      "Epoch  70 => avg_loss: 0.122161\n",
      "# Validation loss => 0.122185 | f1-score: arg_iden = 0.702964 arg_class = 0.574466 #\n",
      "----- Best value obtained, saving model -----\n",
      "Epoch  71 => avg_loss: 0.121386\n",
      "# Validation loss => 0.121706 | f1-score: arg_iden = 0.720146 arg_class = 0.579079 #\n",
      "----- Best value obtained, saving model -----\n",
      "Epoch  72 => avg_loss: 0.120933\n",
      "# Validation loss => 0.121779 | f1-score: arg_iden = 0.719334 arg_class = 0.583219 #\n",
      "----- Best value obtained, saving model -----\n",
      "Epoch  73 => avg_loss: 0.119700\n",
      "# Validation loss => 0.121239 | f1-score: arg_iden = 0.717203 arg_class = 0.582208 #\n",
      "Epoch  74 => avg_loss: 0.119242\n",
      "# Validation loss => 0.121255 | f1-score: arg_iden = 0.722894 arg_class = 0.587537 #\n",
      "----- Best value obtained, saving model -----\n",
      "Epoch  75 => avg_loss: 0.118437\n",
      "# Validation loss => 0.120842 | f1-score: arg_iden = 0.730378 arg_class = 0.582338 #\n",
      "Epoch  76 => avg_loss: 0.117729\n",
      "# Validation loss => 0.121190 | f1-score: arg_iden = 0.729769 arg_class = 0.591584 #\n",
      "----- Best value obtained, saving model -----\n",
      "Epoch  77 => avg_loss: 0.117213\n",
      "# Validation loss => 0.119557 | f1-score: arg_iden = 0.729417 arg_class = 0.593381 #\n",
      "----- Best value obtained, saving model -----\n",
      "Epoch  78 => avg_loss: 0.116016\n",
      "# Validation loss => 0.119273 | f1-score: arg_iden = 0.729594 arg_class = 0.592339 #\n",
      "Epoch  79 => avg_loss: 0.115186\n",
      "# Validation loss => 0.120405 | f1-score: arg_iden = 0.704855 arg_class = 0.583592 #\n",
      "Epoch  80 => avg_loss: 0.114765\n",
      "# Validation loss => 0.119402 | f1-score: arg_iden = 0.706557 arg_class = 0.588081 #\n",
      "Epoch  81 => avg_loss: 0.113567\n",
      "# Validation loss => 0.118312 | f1-score: arg_iden = 0.726938 arg_class = 0.587992 #\n",
      "Epoch  82 => avg_loss: 0.112959\n",
      "# Validation loss => 0.118329 | f1-score: arg_iden = 0.720439 arg_class = 0.592740 #\n",
      "Epoch  83 => avg_loss: 0.112791\n",
      "# Validation loss => 0.117063 | f1-score: arg_iden = 0.727735 arg_class = 0.591487 #\n",
      "Epoch  84 => avg_loss: 0.112074\n",
      "# Validation loss => 0.118039 | f1-score: arg_iden = 0.732304 arg_class = 0.592338 #\n",
      "Epoch  85 => avg_loss: 0.111296\n",
      "# Validation loss => 0.116753 | f1-score: arg_iden = 0.729521 arg_class = 0.597459 #\n",
      "----- Best value obtained, saving model -----\n",
      "Epoch  86 => avg_loss: 0.111039\n",
      "# Validation loss => 0.116450 | f1-score: arg_iden = 0.740426 arg_class = 0.600201 #\n",
      "----- Best value obtained, saving model -----\n",
      "Epoch  87 => avg_loss: 0.109823\n",
      "# Validation loss => 0.116418 | f1-score: arg_iden = 0.730305 arg_class = 0.601955 #\n",
      "----- Best value obtained, saving model -----\n",
      "Epoch  88 => avg_loss: 0.109514\n",
      "# Validation loss => 0.117112 | f1-score: arg_iden = 0.748581 arg_class = 0.604540 #\n",
      "----- Best value obtained, saving model -----\n",
      "Epoch  89 => avg_loss: 0.109045\n",
      "# Validation loss => 0.115005 | f1-score: arg_iden = 0.733051 arg_class = 0.601806 #\n",
      "Epoch  90 => avg_loss: 0.108014\n",
      "# Validation loss => 0.115417 | f1-score: arg_iden = 0.734396 arg_class = 0.604401 #\n",
      "Epoch  91 => avg_loss: 0.107283\n",
      "# Validation loss => 0.115469 | f1-score: arg_iden = 0.730301 arg_class = 0.606478 #\n",
      "----- Best value obtained, saving model -----\n",
      "Epoch  92 => avg_loss: 0.106794\n",
      "# Validation loss => 0.114307 | f1-score: arg_iden = 0.736794 arg_class = 0.607171 #\n",
      "----- Best value obtained, saving model -----\n",
      "Epoch  93 => avg_loss: 0.106749\n",
      "# Validation loss => 0.115866 | f1-score: arg_iden = 0.734491 arg_class = 0.598148 #\n",
      "Epoch  94 => avg_loss: 0.105607\n",
      "# Validation loss => 0.113887 | f1-score: arg_iden = 0.739933 arg_class = 0.611249 #\n",
      "----- Best value obtained, saving model -----\n",
      "Epoch  95 => avg_loss: 0.105480\n",
      "# Validation loss => 0.113751 | f1-score: arg_iden = 0.745143 arg_class = 0.611429 #\n",
      "----- Best value obtained, saving model -----\n",
      "Epoch  96 => avg_loss: 0.104563\n",
      "# Validation loss => 0.113638 | f1-score: arg_iden = 0.737025 arg_class = 0.609872 #\n",
      "Epoch  97 => avg_loss: 0.103936\n",
      "# Validation loss => 0.113923 | f1-score: arg_iden = 0.753874 arg_class = 0.611466 #\n",
      "----- Best value obtained, saving model -----\n",
      "Epoch  98 => avg_loss: 0.103711\n",
      "# Validation loss => 0.113599 | f1-score: arg_iden = 0.750225 arg_class = 0.611712 #\n",
      "----- Best value obtained, saving model -----\n",
      "Epoch  99 => avg_loss: 0.103128\n",
      "# Validation loss => 0.112972 | f1-score: arg_iden = 0.753873 arg_class = 0.616408 #\n",
      "----- Best value obtained, saving model -----\n",
      "Epoch 100 => avg_loss: 0.102658\n",
      "# Validation loss => 0.113511 | f1-score: arg_iden = 0.727759 arg_class = 0.609838 #\n",
      "Epoch 101 => avg_loss: 0.102148\n",
      "# Validation loss => 0.112099 | f1-score: arg_iden = 0.742436 arg_class = 0.617968 #\n",
      "----- Best value obtained, saving model -----\n",
      "Epoch 102 => avg_loss: 0.102126\n",
      "# Validation loss => 0.111681 | f1-score: arg_iden = 0.748241 arg_class = 0.617026 #\n",
      "Epoch 103 => avg_loss: 0.100937\n",
      "# Validation loss => 0.111814 | f1-score: arg_iden = 0.745813 arg_class = 0.616384 #\n",
      "Epoch 104 => avg_loss: 0.100512\n",
      "# Validation loss => 0.113043 | f1-score: arg_iden = 0.745536 arg_class = 0.619053 #\n",
      "----- Best value obtained, saving model -----\n",
      "Epoch 105 => avg_loss: 0.099869\n",
      "# Validation loss => 0.112817 | f1-score: arg_iden = 0.737821 arg_class = 0.618300 #\n",
      "Epoch 106 => avg_loss: 0.099313\n",
      "# Validation loss => 0.112624 | f1-score: arg_iden = 0.760475 arg_class = 0.615983 #\n",
      "Epoch 107 => avg_loss: 0.098919\n",
      "# Validation loss => 0.110227 | f1-score: arg_iden = 0.753730 arg_class = 0.621910 #\n",
      "----- Best value obtained, saving model -----\n",
      "Epoch 108 => avg_loss: 0.098473\n",
      "# Validation loss => 0.110521 | f1-score: arg_iden = 0.758077 arg_class = 0.620962 #\n",
      "Epoch 109 => avg_loss: 0.098273\n",
      "# Validation loss => 0.111087 | f1-score: arg_iden = 0.761523 arg_class = 0.619022 #\n",
      "Epoch 110 => avg_loss: 0.097434\n",
      "# Validation loss => 0.110097 | f1-score: arg_iden = 0.752793 arg_class = 0.621234 #\n",
      "Epoch 111 => avg_loss: 0.096837\n",
      "# Validation loss => 0.110002 | f1-score: arg_iden = 0.760244 arg_class = 0.625545 #\n",
      "----- Best value obtained, saving model -----\n",
      "Epoch 112 => avg_loss: 0.096205\n",
      "# Validation loss => 0.109913 | f1-score: arg_iden = 0.749601 arg_class = 0.623374 #\n",
      "Epoch 113 => avg_loss: 0.095762\n",
      "# Validation loss => 0.109749 | f1-score: arg_iden = 0.761978 arg_class = 0.626996 #\n",
      "----- Best value obtained, saving model -----\n",
      "Epoch 114 => avg_loss: 0.095251\n",
      "# Validation loss => 0.109627 | f1-score: arg_iden = 0.758451 arg_class = 0.628162 #\n",
      "----- Best value obtained, saving model -----\n",
      "Epoch 115 => avg_loss: 0.094956\n",
      "# Validation loss => 0.109916 | f1-score: arg_iden = 0.743023 arg_class = 0.627442 #\n",
      "Epoch 116 => avg_loss: 0.094371\n",
      "# Validation loss => 0.108803 | f1-score: arg_iden = 0.750565 arg_class = 0.627429 #\n",
      "Epoch 117 => avg_loss: 0.093976\n",
      "# Validation loss => 0.109415 | f1-score: arg_iden = 0.755490 arg_class = 0.626422 #\n",
      "Epoch 118 => avg_loss: 0.093331\n",
      "# Validation loss => 0.109782 | f1-score: arg_iden = 0.747337 arg_class = 0.626216 #\n",
      "Epoch 119 => avg_loss: 0.093102\n",
      "# Validation loss => 0.111928 | f1-score: arg_iden = 0.731684 arg_class = 0.622740 #\n",
      "Epoch 120 => avg_loss: 0.092626\n",
      "# Validation loss => 0.108335 | f1-score: arg_iden = 0.764765 arg_class = 0.631357 #\n",
      "----- Best value obtained, saving model -----\n",
      "Epoch 121 => avg_loss: 0.092368\n",
      "# Validation loss => 0.109345 | f1-score: arg_iden = 0.771257 arg_class = 0.633755 #\n",
      "----- Best value obtained, saving model -----\n",
      "Epoch 122 => avg_loss: 0.092043\n",
      "# Validation loss => 0.108369 | f1-score: arg_iden = 0.752656 arg_class = 0.633840 #\n",
      "----- Best value obtained, saving model -----\n",
      "Epoch 123 => avg_loss: 0.091368\n",
      "# Validation loss => 0.109074 | f1-score: arg_iden = 0.751964 arg_class = 0.632897 #\n",
      "Epoch 124 => avg_loss: 0.090381\n",
      "# Validation loss => 0.108414 | f1-score: arg_iden = 0.768690 arg_class = 0.633879 #\n",
      "----- Best value obtained, saving model -----\n",
      "Epoch 125 => avg_loss: 0.090417\n",
      "# Validation loss => 0.107892 | f1-score: arg_iden = 0.770395 arg_class = 0.633991 #\n",
      "----- Best value obtained, saving model -----\n",
      "Epoch 126 => avg_loss: 0.089884\n",
      "# Validation loss => 0.107574 | f1-score: arg_iden = 0.768266 arg_class = 0.636403 #\n",
      "----- Best value obtained, saving model -----\n",
      "Epoch 127 => avg_loss: 0.089496\n",
      "# Validation loss => 0.107611 | f1-score: arg_iden = 0.756793 arg_class = 0.637997 #\n",
      "----- Best value obtained, saving model -----\n",
      "Epoch 128 => avg_loss: 0.089041\n",
      "# Validation loss => 0.107431 | f1-score: arg_iden = 0.772327 arg_class = 0.636136 #\n",
      "Epoch 129 => avg_loss: 0.088829\n",
      "# Validation loss => 0.107165 | f1-score: arg_iden = 0.766869 arg_class = 0.637659 #\n",
      "Epoch 130 => avg_loss: 0.088166\n",
      "# Validation loss => 0.106769 | f1-score: arg_iden = 0.773199 arg_class = 0.639414 #\n",
      "----- Best value obtained, saving model -----\n",
      "Epoch 131 => avg_loss: 0.088062\n",
      "# Validation loss => 0.106554 | f1-score: arg_iden = 0.766876 arg_class = 0.640678 #\n",
      "----- Best value obtained, saving model -----\n",
      "Epoch 132 => avg_loss: 0.087193\n",
      "# Validation loss => 0.106560 | f1-score: arg_iden = 0.772950 arg_class = 0.641620 #\n",
      "----- Best value obtained, saving model -----\n",
      "Epoch 133 => avg_loss: 0.086926\n",
      "# Validation loss => 0.107452 | f1-score: arg_iden = 0.759519 arg_class = 0.638259 #\n",
      "Epoch 134 => avg_loss: 0.086573\n",
      "# Validation loss => 0.107532 | f1-score: arg_iden = 0.775826 arg_class = 0.642464 #\n",
      "----- Best value obtained, saving model -----\n",
      "Epoch 135 => avg_loss: 0.086248\n",
      "# Validation loss => 0.106605 | f1-score: arg_iden = 0.779376 arg_class = 0.640673 #\n",
      "Epoch 136 => avg_loss: 0.085708\n",
      "# Validation loss => 0.105976 | f1-score: arg_iden = 0.768555 arg_class = 0.641634 #\n",
      "Epoch 137 => avg_loss: 0.085560\n",
      "# Validation loss => 0.106256 | f1-score: arg_iden = 0.774909 arg_class = 0.642565 #\n",
      "----- Best value obtained, saving model -----\n",
      "Epoch 138 => avg_loss: 0.084491\n",
      "# Validation loss => 0.107503 | f1-score: arg_iden = 0.766459 arg_class = 0.645212 #\n",
      "----- Best value obtained, saving model -----\n",
      "Epoch 139 => avg_loss: 0.084634\n",
      "# Validation loss => 0.106437 | f1-score: arg_iden = 0.768949 arg_class = 0.646038 #\n",
      "----- Best value obtained, saving model -----\n",
      "Epoch 140 => avg_loss: 0.084286\n",
      "# Validation loss => 0.107075 | f1-score: arg_iden = 0.758104 arg_class = 0.645288 #\n",
      "Epoch 141 => avg_loss: 0.083461\n",
      "# Validation loss => 0.106965 | f1-score: arg_iden = 0.762024 arg_class = 0.643665 #\n",
      "Epoch 142 => avg_loss: 0.083387\n",
      "# Validation loss => 0.105499 | f1-score: arg_iden = 0.769482 arg_class = 0.648501 #\n",
      "----- Best value obtained, saving model -----\n",
      "Epoch 143 => avg_loss: 0.083073\n",
      "# Validation loss => 0.108248 | f1-score: arg_iden = 0.756907 arg_class = 0.639695 #\n",
      "Epoch 144 => avg_loss: 0.082504\n",
      "# Validation loss => 0.105961 | f1-score: arg_iden = 0.781548 arg_class = 0.643690 #\n",
      "Epoch 145 => avg_loss: 0.082175\n",
      "# Validation loss => 0.105555 | f1-score: arg_iden = 0.780498 arg_class = 0.648384 #\n",
      "Epoch 146 => avg_loss: 0.081983\n",
      "# Validation loss => 0.104377 | f1-score: arg_iden = 0.773537 arg_class = 0.648523 #\n",
      "----- Best value obtained, saving model -----\n",
      "Epoch 147 => avg_loss: 0.081597\n",
      "# Validation loss => 0.106184 | f1-score: arg_iden = 0.774936 arg_class = 0.649615 #\n",
      "----- Best value obtained, saving model -----\n",
      "Epoch 148 => avg_loss: 0.080517\n",
      "# Validation loss => 0.105184 | f1-score: arg_iden = 0.768433 arg_class = 0.649380 #\n",
      "Epoch 149 => avg_loss: 0.080655\n",
      "# Validation loss => 0.105841 | f1-score: arg_iden = 0.765904 arg_class = 0.647548 #\n",
      "Epoch 150 => avg_loss: 0.080571\n",
      "# Validation loss => 0.106048 | f1-score: arg_iden = 0.764587 arg_class = 0.650135 #\n",
      "----- Best value obtained, saving model -----\n",
      "Epoch 151 => avg_loss: 0.079763\n",
      "# Validation loss => 0.105875 | f1-score: arg_iden = 0.779453 arg_class = 0.649580 #\n",
      "Epoch 152 => avg_loss: 0.079214\n",
      "# Validation loss => 0.104883 | f1-score: arg_iden = 0.779307 arg_class = 0.651733 #\n",
      "----- Best value obtained, saving model -----\n",
      "Epoch 153 => avg_loss: 0.079175\n",
      "# Validation loss => 0.104899 | f1-score: arg_iden = 0.782963 arg_class = 0.651218 #\n",
      "Epoch 154 => avg_loss: 0.078648\n",
      "# Validation loss => 0.104227 | f1-score: arg_iden = 0.784753 arg_class = 0.656186 #\n",
      "----- Best value obtained, saving model -----\n",
      "Epoch 155 => avg_loss: 0.078616\n",
      "# Validation loss => 0.103661 | f1-score: arg_iden = 0.779903 arg_class = 0.653917 #\n",
      "Epoch 156 => avg_loss: 0.078461\n",
      "# Validation loss => 0.104820 | f1-score: arg_iden = 0.767525 arg_class = 0.651288 #\n",
      "Epoch 157 => avg_loss: 0.077967\n",
      "# Validation loss => 0.104131 | f1-score: arg_iden = 0.774094 arg_class = 0.650752 #\n",
      "Epoch 158 => avg_loss: 0.077577\n",
      "# Validation loss => 0.103762 | f1-score: arg_iden = 0.776375 arg_class = 0.651224 #\n",
      "Epoch 159 => avg_loss: 0.077162\n",
      "# Validation loss => 0.104246 | f1-score: arg_iden = 0.785813 arg_class = 0.655699 #\n",
      "Epoch 160 => avg_loss: 0.076881\n",
      "# Validation loss => 0.105472 | f1-score: arg_iden = 0.767317 arg_class = 0.648636 #\n",
      "Epoch 161 => avg_loss: 0.076545\n",
      "# Validation loss => 0.104418 | f1-score: arg_iden = 0.778996 arg_class = 0.652930 #\n",
      "Epoch 162 => avg_loss: 0.075937\n",
      "# Validation loss => 0.103713 | f1-score: arg_iden = 0.780896 arg_class = 0.656542 #\n",
      "----- Best value obtained, saving model -----\n",
      "Epoch 163 => avg_loss: 0.076096\n",
      "# Validation loss => 0.105006 | f1-score: arg_iden = 0.769563 arg_class = 0.651046 #\n",
      "Epoch 164 => avg_loss: 0.075540\n",
      "# Validation loss => 0.103626 | f1-score: arg_iden = 0.775050 arg_class = 0.653174 #\n",
      "Epoch 165 => avg_loss: 0.074758\n",
      "# Validation loss => 0.103512 | f1-score: arg_iden = 0.775650 arg_class = 0.655008 #\n",
      "Epoch 166 => avg_loss: 0.074962\n",
      "# Validation loss => 0.104058 | f1-score: arg_iden = 0.784381 arg_class = 0.653508 #\n",
      "Epoch 167 => avg_loss: 0.074554\n",
      "# Validation loss => 0.107771 | f1-score: arg_iden = 0.763406 arg_class = 0.646951 #\n",
      "Epoch 168 => avg_loss: 0.074111\n",
      "# Validation loss => 0.104728 | f1-score: arg_iden = 0.769559 arg_class = 0.656025 #\n",
      "Epoch 169 => avg_loss: 0.073336\n",
      "# Validation loss => 0.103106 | f1-score: arg_iden = 0.784200 arg_class = 0.658056 #\n",
      "----- Best value obtained, saving model -----\n",
      "Epoch 170 => avg_loss: 0.073483\n",
      "# Validation loss => 0.103956 | f1-score: arg_iden = 0.785124 arg_class = 0.653528 #\n",
      "Epoch 171 => avg_loss: 0.072728\n",
      "# Validation loss => 0.103790 | f1-score: arg_iden = 0.780969 arg_class = 0.656118 #\n",
      "Epoch 172 => avg_loss: 0.072641\n",
      "# Validation loss => 0.103228 | f1-score: arg_iden = 0.785496 arg_class = 0.656182 #\n",
      "Epoch 173 => avg_loss: 0.072255\n",
      "# Validation loss => 0.103300 | f1-score: arg_iden = 0.789569 arg_class = 0.658010 #\n",
      "Epoch 174 => avg_loss: 0.071754\n",
      "# Validation loss => 0.104039 | f1-score: arg_iden = 0.782150 arg_class = 0.656188 #\n",
      "Epoch 175 => avg_loss: 0.072152\n",
      "# Validation loss => 0.103233 | f1-score: arg_iden = 0.785813 arg_class = 0.660347 #\n",
      "----- Best value obtained, saving model -----\n",
      "Epoch 176 => avg_loss: 0.071068\n",
      "# Validation loss => 0.103049 | f1-score: arg_iden = 0.787846 arg_class = 0.661332 #\n",
      "----- Best value obtained, saving model -----\n",
      "Epoch 177 => avg_loss: 0.071197\n",
      "# Validation loss => 0.103832 | f1-score: arg_iden = 0.780238 arg_class = 0.657617 #\n",
      "Epoch 178 => avg_loss: 0.070879\n",
      "# Validation loss => 0.105748 | f1-score: arg_iden = 0.760820 arg_class = 0.652855 #\n",
      "Epoch 179 => avg_loss: 0.070975\n",
      "# Validation loss => 0.102406 | f1-score: arg_iden = 0.783754 arg_class = 0.659934 #\n",
      "Epoch 180 => avg_loss: 0.070381\n",
      "# Validation loss => 0.103881 | f1-score: arg_iden = 0.783339 arg_class = 0.657944 #\n",
      "Epoch 181 => avg_loss: 0.069648\n",
      "# Validation loss => 0.102641 | f1-score: arg_iden = 0.784864 arg_class = 0.663522 #\n",
      "----- Best value obtained, saving model -----\n",
      "Epoch 182 => avg_loss: 0.069563\n",
      "# Validation loss => 0.102532 | f1-score: arg_iden = 0.785542 arg_class = 0.665060 #\n",
      "----- Best value obtained, saving model -----\n",
      "Epoch 183 => avg_loss: 0.069537\n",
      "# Validation loss => 0.102368 | f1-score: arg_iden = 0.783934 arg_class = 0.662458 #\n",
      "Epoch 184 => avg_loss: 0.069034\n",
      "# Validation loss => 0.101817 | f1-score: arg_iden = 0.787001 arg_class = 0.663235 #\n",
      "Epoch 185 => avg_loss: 0.068747\n",
      "# Validation loss => 0.103814 | f1-score: arg_iden = 0.774900 arg_class = 0.660786 #\n",
      "Epoch 186 => avg_loss: 0.068633\n",
      "# Validation loss => 0.102342 | f1-score: arg_iden = 0.786400 arg_class = 0.662062 #\n",
      "Epoch 187 => avg_loss: 0.068408\n",
      "# Validation loss => 0.102729 | f1-score: arg_iden = 0.792429 arg_class = 0.664528 #\n",
      "Epoch 188 => avg_loss: 0.067877\n",
      "# Validation loss => 0.102530 | f1-score: arg_iden = 0.791988 arg_class = 0.665381 #\n",
      "----- Best value obtained, saving model -----\n",
      "Epoch 189 => avg_loss: 0.067598\n",
      "# Validation loss => 0.105673 | f1-score: arg_iden = 0.773382 arg_class = 0.658429 #\n",
      "Epoch 190 => avg_loss: 0.066957\n",
      "# Validation loss => 0.102342 | f1-score: arg_iden = 0.785753 arg_class = 0.665653 #\n",
      "----- Best value obtained, saving model -----\n",
      "Epoch 191 => avg_loss: 0.067038\n",
      "# Validation loss => 0.102534 | f1-score: arg_iden = 0.788173 arg_class = 0.665372 #\n",
      "Epoch 192 => avg_loss: 0.066850\n",
      "# Validation loss => 0.104753 | f1-score: arg_iden = 0.773394 arg_class = 0.661967 #\n",
      "Epoch 193 => avg_loss: 0.066147\n",
      "# Validation loss => 0.102541 | f1-score: arg_iden = 0.792498 arg_class = 0.667242 #\n",
      "----- Best value obtained, saving model -----\n",
      "Epoch 194 => avg_loss: 0.065964\n",
      "# Validation loss => 0.103682 | f1-score: arg_iden = 0.791815 arg_class = 0.659637 #\n",
      "Epoch 195 => avg_loss: 0.065647\n",
      "# Validation loss => 0.102921 | f1-score: arg_iden = 0.785799 arg_class = 0.662193 #\n",
      "Epoch 196 => avg_loss: 0.065746\n",
      "# Validation loss => 0.104005 | f1-score: arg_iden = 0.782647 arg_class = 0.663591 #\n",
      "Epoch 197 => avg_loss: 0.065538\n",
      "# Validation loss => 0.103768 | f1-score: arg_iden = 0.786639 arg_class = 0.665413 #\n",
      "Epoch 198 => avg_loss: 0.065048\n",
      "# Validation loss => 0.101907 | f1-score: arg_iden = 0.789739 arg_class = 0.664162 #\n",
      "Epoch 199 => avg_loss: 0.064926\n",
      "# Validation loss => 0.103011 | f1-score: arg_iden = 0.788087 arg_class = 0.664015 #\n",
      "Epoch 200 => avg_loss: 0.064170\n",
      "# Validation loss => 0.102657 | f1-score: arg_iden = 0.785090 arg_class = 0.667846 #\n",
      "----- Best value obtained, saving model -----\n",
      "Epoch 201 => avg_loss: 0.064624\n",
      "# Validation loss => 0.102573 | f1-score: arg_iden = 0.788464 arg_class = 0.667096 #\n",
      "Epoch 202 => avg_loss: 0.063873\n",
      "# Validation loss => 0.102617 | f1-score: arg_iden = 0.789821 arg_class = 0.665512 #\n",
      "Epoch 203 => avg_loss: 0.063988\n",
      "# Validation loss => 0.103579 | f1-score: arg_iden = 0.788417 arg_class = 0.667105 #\n",
      "Epoch 204 => avg_loss: 0.063415\n",
      "# Validation loss => 0.104009 | f1-score: arg_iden = 0.794282 arg_class = 0.666667 #\n",
      "Epoch 205 => avg_loss: 0.062763\n",
      "# Validation loss => 0.103443 | f1-score: arg_iden = 0.782832 arg_class = 0.665329 #\n",
      "Epoch 206 => avg_loss: 0.063084\n",
      "# Validation loss => 0.102641 | f1-score: arg_iden = 0.795621 arg_class = 0.672548 #\n",
      "----- Best value obtained, saving model -----\n",
      "Epoch 207 => avg_loss: 0.062952\n",
      "# Validation loss => 0.103598 | f1-score: arg_iden = 0.780906 arg_class = 0.666518 #\n",
      "Epoch 208 => avg_loss: 0.062478\n",
      "# Validation loss => 0.102822 | f1-score: arg_iden = 0.788489 arg_class = 0.670129 #\n",
      "Epoch 209 => avg_loss: 0.062108\n",
      "# Validation loss => 0.103507 | f1-score: arg_iden = 0.790105 arg_class = 0.667595 #\n",
      "Epoch 210 => avg_loss: 0.061782\n",
      "# Validation loss => 0.104202 | f1-score: arg_iden = 0.785063 arg_class = 0.664909 #\n",
      "Epoch 211 => avg_loss: 0.061207\n",
      "# Validation loss => 0.102313 | f1-score: arg_iden = 0.789098 arg_class = 0.671209 #\n",
      "Epoch 212 => avg_loss: 0.061117\n",
      "# Validation loss => 0.102683 | f1-score: arg_iden = 0.791297 arg_class = 0.670275 #\n",
      "Epoch 213 => avg_loss: 0.060973\n",
      "# Validation loss => 0.102379 | f1-score: arg_iden = 0.792631 arg_class = 0.671808 #\n",
      "Epoch 214 => avg_loss: 0.060635\n",
      "# Validation loss => 0.102805 | f1-score: arg_iden = 0.781794 arg_class = 0.665197 #\n",
      "Epoch 215 => avg_loss: 0.060758\n",
      "# Validation loss => 0.102618 | f1-score: arg_iden = 0.787807 arg_class = 0.671279 #\n",
      "Epoch 216 => avg_loss: 0.060000\n",
      "# Validation loss => 0.104018 | f1-score: arg_iden = 0.780352 arg_class = 0.665850 #\n",
      "Epoch 217 => avg_loss: 0.060020\n",
      "# Validation loss => 0.102385 | f1-score: arg_iden = 0.790232 arg_class = 0.673408 #\n",
      "----- Best value obtained, saving model -----\n",
      "Epoch 218 => avg_loss: 0.059980\n",
      "# Validation loss => 0.104901 | f1-score: arg_iden = 0.781847 arg_class = 0.668614 #\n",
      "Epoch 219 => avg_loss: 0.059574\n",
      "# Validation loss => 0.102967 | f1-score: arg_iden = 0.791837 arg_class = 0.668958 #\n",
      "Epoch 220 => avg_loss: 0.059007\n",
      "# Validation loss => 0.102770 | f1-score: arg_iden = 0.793793 arg_class = 0.670519 #\n",
      "Epoch 221 => avg_loss: 0.058946\n",
      "# Validation loss => 0.104228 | f1-score: arg_iden = 0.792999 arg_class = 0.667016 #\n",
      "Epoch 222 => avg_loss: 0.058679\n",
      "# Validation loss => 0.102998 | f1-score: arg_iden = 0.794197 arg_class = 0.673401 #\n",
      "Epoch 223 => avg_loss: 0.058640\n",
      "# Validation loss => 0.103306 | f1-score: arg_iden = 0.792222 arg_class = 0.671740 #\n",
      "Epoch 224 => avg_loss: 0.057988\n",
      "# Validation loss => 0.105291 | f1-score: arg_iden = 0.791097 arg_class = 0.673204 #\n",
      "Epoch 225 => avg_loss: 0.057709\n",
      "# Validation loss => 0.104209 | f1-score: arg_iden = 0.788462 arg_class = 0.672421 #\n",
      "Epoch 226 => avg_loss: 0.057714\n",
      "# Validation loss => 0.103924 | f1-score: arg_iden = 0.790458 arg_class = 0.671627 #\n",
      "Epoch 227 => avg_loss: 0.057572\n",
      "# Validation loss => 0.103105 | f1-score: arg_iden = 0.792239 arg_class = 0.674515 #\n",
      "----- Best value obtained, saving model -----\n",
      "Epoch 228 => avg_loss: 0.057139\n",
      "# Validation loss => 0.103063 | f1-score: arg_iden = 0.794261 arg_class = 0.671172 #\n",
      "Epoch 229 => avg_loss: 0.056899\n",
      "# Validation loss => 0.104680 | f1-score: arg_iden = 0.785974 arg_class = 0.674385 #\n",
      "Epoch 230 => avg_loss: 0.056848\n",
      "# Validation loss => 0.104693 | f1-score: arg_iden = 0.797161 arg_class = 0.671261 #\n",
      "Epoch 231 => avg_loss: 0.056274\n",
      "# Validation loss => 0.102946 | f1-score: arg_iden = 0.791948 arg_class = 0.674590 #\n",
      "----- Best value obtained, saving model -----\n",
      "Epoch 232 => avg_loss: 0.056347\n",
      "# Validation loss => 0.104676 | f1-score: arg_iden = 0.792206 arg_class = 0.671365 #\n",
      "Epoch 233 => avg_loss: 0.056236\n",
      "# Validation loss => 0.102964 | f1-score: arg_iden = 0.795234 arg_class = 0.672712 #\n",
      "Epoch 234 => avg_loss: 0.055776\n",
      "# Validation loss => 0.105801 | f1-score: arg_iden = 0.781113 arg_class = 0.671838 #\n",
      "Epoch 235 => avg_loss: 0.055686\n",
      "# Validation loss => 0.106167 | f1-score: arg_iden = 0.790391 arg_class = 0.668110 #\n",
      "Epoch 236 => avg_loss: 0.055784\n",
      "# Validation loss => 0.103993 | f1-score: arg_iden = 0.794102 arg_class = 0.670879 #\n",
      "Epoch 237 => avg_loss: 0.055242\n",
      "# Validation loss => 0.104266 | f1-score: arg_iden = 0.792371 arg_class = 0.673134 #\n",
      "Epoch 238 => avg_loss: 0.054888\n",
      "# Validation loss => 0.103359 | f1-score: arg_iden = 0.797265 arg_class = 0.675855 #\n",
      "----- Best value obtained, saving model -----\n",
      "Epoch 239 => avg_loss: 0.054977\n",
      "# Validation loss => 0.103894 | f1-score: arg_iden = 0.793946 arg_class = 0.675027 #\n",
      "Epoch 240 => avg_loss: 0.055075\n",
      "# Validation loss => 0.103030 | f1-score: arg_iden = 0.793504 arg_class = 0.677780 #\n",
      "----- Best value obtained, saving model -----\n",
      "Epoch 241 => avg_loss: 0.054236\n",
      "# Validation loss => 0.104837 | f1-score: arg_iden = 0.789280 arg_class = 0.675600 #\n",
      "Epoch 242 => avg_loss: 0.054220\n",
      "# Validation loss => 0.104691 | f1-score: arg_iden = 0.781164 arg_class = 0.671141 #\n",
      "Epoch 243 => avg_loss: 0.053826\n",
      "# Validation loss => 0.104518 | f1-score: arg_iden = 0.789330 arg_class = 0.673272 #\n",
      "Epoch 244 => avg_loss: 0.053371\n",
      "# Validation loss => 0.104083 | f1-score: arg_iden = 0.796705 arg_class = 0.675256 #\n",
      "Epoch 245 => avg_loss: 0.053295\n",
      "# Validation loss => 0.103644 | f1-score: arg_iden = 0.789113 arg_class = 0.675014 #\n",
      "Epoch 246 => avg_loss: 0.053252\n",
      "# Validation loss => 0.103799 | f1-score: arg_iden = 0.796149 arg_class = 0.676399 #\n",
      "Epoch 247 => avg_loss: 0.052850\n",
      "# Validation loss => 0.104865 | f1-score: arg_iden = 0.790759 arg_class = 0.672827 #\n",
      "Epoch 248 => avg_loss: 0.052588\n",
      "# Validation loss => 0.103498 | f1-score: arg_iden = 0.798222 arg_class = 0.677812 #\n",
      "----- Best value obtained, saving model -----\n",
      "Epoch 249 => avg_loss: 0.052496\n",
      "# Validation loss => 0.104623 | f1-score: arg_iden = 0.794420 arg_class = 0.675897 #\n",
      "Epoch 250 => avg_loss: 0.051833\n",
      "# Validation loss => 0.104830 | f1-score: arg_iden = 0.796290 arg_class = 0.680311 #\n",
      "----- Best value obtained, saving model -----\n",
      "Epoch 251 => avg_loss: 0.052227\n",
      "# Validation loss => 0.104191 | f1-score: arg_iden = 0.795243 arg_class = 0.678239 #\n",
      "Epoch 252 => avg_loss: 0.051885\n",
      "# Validation loss => 0.105964 | f1-score: arg_iden = 0.783871 arg_class = 0.671984 #\n",
      "Epoch 253 => avg_loss: 0.051831\n",
      "# Validation loss => 0.104398 | f1-score: arg_iden = 0.796720 arg_class = 0.675966 #\n",
      "Epoch 254 => avg_loss: 0.051743\n",
      "# Validation loss => 0.103582 | f1-score: arg_iden = 0.795457 arg_class = 0.677810 #\n",
      "Epoch 255 => avg_loss: 0.051437\n",
      "# Validation loss => 0.106220 | f1-score: arg_iden = 0.783984 arg_class = 0.673598 #\n",
      "Epoch 256 => avg_loss: 0.051270\n",
      "# Validation loss => 0.103836 | f1-score: arg_iden = 0.797431 arg_class = 0.676774 #\n",
      "Epoch 257 => avg_loss: 0.051119\n",
      "# Validation loss => 0.104166 | f1-score: arg_iden = 0.796516 arg_class = 0.675622 #\n",
      "Epoch 258 => avg_loss: 0.050332\n",
      "# Validation loss => 0.106072 | f1-score: arg_iden = 0.795882 arg_class = 0.677134 #\n",
      "Epoch 259 => avg_loss: 0.050095\n",
      "# Validation loss => 0.105647 | f1-score: arg_iden = 0.792944 arg_class = 0.675917 #\n",
      "Epoch 260 => avg_loss: 0.049946\n",
      "# Validation loss => 0.106012 | f1-score: arg_iden = 0.789341 arg_class = 0.679262 #\n",
      "Epoch 261 => avg_loss: 0.050318\n",
      "# Validation loss => 0.105798 | f1-score: arg_iden = 0.790590 arg_class = 0.674398 #\n",
      "Epoch 262 => avg_loss: 0.049721\n",
      "# Validation loss => 0.106392 | f1-score: arg_iden = 0.789174 arg_class = 0.674556 #\n",
      "Epoch 263 => avg_loss: 0.050409\n",
      "# Validation loss => 0.105631 | f1-score: arg_iden = 0.791927 arg_class = 0.680048 #\n",
      "Epoch 264 => avg_loss: 0.049056\n",
      "# Validation loss => 0.106770 | f1-score: arg_iden = 0.795009 arg_class = 0.674845 #\n",
      "Epoch 265 => avg_loss: 0.048838\n",
      "# Validation loss => 0.104934 | f1-score: arg_iden = 0.795147 arg_class = 0.680100 #\n",
      "Epoch 266 => avg_loss: 0.048862\n",
      "# Validation loss => 0.104802 | f1-score: arg_iden = 0.795529 arg_class = 0.677664 #\n",
      "Epoch 267 => avg_loss: 0.048531\n",
      "# Validation loss => 0.107079 | f1-score: arg_iden = 0.798410 arg_class = 0.673257 #\n",
      "Epoch 268 => avg_loss: 0.048780\n",
      "# Validation loss => 0.107609 | f1-score: arg_iden = 0.796578 arg_class = 0.669452 #\n",
      "Epoch 269 => avg_loss: 0.048380\n",
      "# Validation loss => 0.105553 | f1-score: arg_iden = 0.799830 arg_class = 0.680620 #\n",
      "----- Best value obtained, saving model -----\n",
      "Epoch 270 => avg_loss: 0.048282\n",
      "# Validation loss => 0.106544 | f1-score: arg_iden = 0.796242 arg_class = 0.678544 #\n",
      "Epoch 271 => avg_loss: 0.047978\n",
      "# Validation loss => 0.105697 | f1-score: arg_iden = 0.789154 arg_class = 0.676139 #\n",
      "Epoch 272 => avg_loss: 0.047976\n",
      "# Validation loss => 0.106000 | f1-score: arg_iden = 0.795511 arg_class = 0.679616 #\n",
      "Epoch 273 => avg_loss: 0.047760\n",
      "# Validation loss => 0.105557 | f1-score: arg_iden = 0.794086 arg_class = 0.679713 #\n",
      "Epoch 274 => avg_loss: 0.047308\n",
      "# Validation loss => 0.107752 | f1-score: arg_iden = 0.788726 arg_class = 0.678829 #\n",
      "Epoch 275 => avg_loss: 0.046924\n",
      "# Validation loss => 0.107464 | f1-score: arg_iden = 0.789698 arg_class = 0.679035 #\n",
      "Epoch 276 => avg_loss: 0.047121\n",
      "# Validation loss => 0.106132 | f1-score: arg_iden = 0.796579 arg_class = 0.681347 #\n",
      "----- Best value obtained, saving model -----\n",
      "Epoch 277 => avg_loss: 0.046829\n",
      "# Validation loss => 0.106254 | f1-score: arg_iden = 0.799199 arg_class = 0.676780 #\n",
      "Epoch 278 => avg_loss: 0.046687\n",
      "# Validation loss => 0.105815 | f1-score: arg_iden = 0.800042 arg_class = 0.681525 #\n",
      "----- Best value obtained, saving model -----\n",
      "Epoch 279 => avg_loss: 0.046715\n",
      "# Validation loss => 0.107057 | f1-score: arg_iden = 0.792822 arg_class = 0.677760 #\n",
      "Epoch 280 => avg_loss: 0.046251\n",
      "# Validation loss => 0.106589 | f1-score: arg_iden = 0.797412 arg_class = 0.677132 #\n",
      "Epoch 281 => avg_loss: 0.045894\n",
      "# Validation loss => 0.106896 | f1-score: arg_iden = 0.795303 arg_class = 0.682181 #\n",
      "----- Best value obtained, saving model -----\n",
      "Epoch 282 => avg_loss: 0.045915\n",
      "# Validation loss => 0.111108 | f1-score: arg_iden = 0.779026 arg_class = 0.675519 #\n",
      "Epoch 283 => avg_loss: 0.045606\n",
      "# Validation loss => 0.106844 | f1-score: arg_iden = 0.797979 arg_class = 0.681432 #\n",
      "Epoch 284 => avg_loss: 0.045845\n",
      "# Validation loss => 0.106563 | f1-score: arg_iden = 0.797656 arg_class = 0.683431 #\n",
      "----- Best value obtained, saving model -----\n",
      "Epoch 285 => avg_loss: 0.045564\n",
      "# Validation loss => 0.106168 | f1-score: arg_iden = 0.795558 arg_class = 0.677948 #\n",
      "Epoch 286 => avg_loss: 0.045451\n",
      "# Validation loss => 0.108112 | f1-score: arg_iden = 0.789107 arg_class = 0.677778 #\n",
      "Epoch 287 => avg_loss: 0.044694\n",
      "# Validation loss => 0.106732 | f1-score: arg_iden = 0.794740 arg_class = 0.679923 #\n",
      "Epoch 288 => avg_loss: 0.044673\n",
      "# Validation loss => 0.107456 | f1-score: arg_iden = 0.795997 arg_class = 0.679037 #\n",
      "Epoch 289 => avg_loss: 0.044720\n",
      "# Validation loss => 0.107146 | f1-score: arg_iden = 0.798839 arg_class = 0.680851 #\n",
      "Epoch 290 => avg_loss: 0.043952\n",
      "# Validation loss => 0.107876 | f1-score: arg_iden = 0.789887 arg_class = 0.679935 #\n",
      "Epoch 291 => avg_loss: 0.044404\n",
      "# Validation loss => 0.107764 | f1-score: arg_iden = 0.792657 arg_class = 0.680994 #\n",
      "Epoch 292 => avg_loss: 0.044419\n",
      "# Validation loss => 0.107323 | f1-score: arg_iden = 0.789126 arg_class = 0.680171 #\n",
      "Epoch 293 => avg_loss: 0.043898\n",
      "# Validation loss => 0.107330 | f1-score: arg_iden = 0.795040 arg_class = 0.681645 #\n",
      "Epoch 294 => avg_loss: 0.044026\n",
      "# Validation loss => 0.109430 | f1-score: arg_iden = 0.788652 arg_class = 0.677150 #\n",
      "Epoch 295 => avg_loss: 0.044064\n",
      "# Validation loss => 0.108458 | f1-score: arg_iden = 0.797951 arg_class = 0.683317 #\n",
      "Epoch 296 => avg_loss: 0.043458\n",
      "# Validation loss => 0.107443 | f1-score: arg_iden = 0.801718 arg_class = 0.677165 #\n",
      "Epoch 297 => avg_loss: 0.042958\n",
      "# Validation loss => 0.107547 | f1-score: arg_iden = 0.793678 arg_class = 0.679151 #\n",
      "Epoch 298 => avg_loss: 0.042917\n",
      "# Validation loss => 0.107847 | f1-score: arg_iden = 0.800679 arg_class = 0.684568 #\n",
      "----- Best value obtained, saving model -----\n",
      "Epoch 299 => avg_loss: 0.042904\n",
      "# Validation loss => 0.107951 | f1-score: arg_iden = 0.793709 arg_class = 0.678742 #\n"
     ]
    }
   ],
   "source": [
    "from stud.modelsTests.utils.Trainer_aic_lstm import Trainer_aic_lstm\n",
    "\n",
    "trainer = Trainer_aic_lstm()\n",
    "\n",
    "history = trainer.train(\n",
    "    final_model, optimizer, dataloader_train_en, dataloader_dev_en,\n",
    "    epochs = 300, device = device,\n",
    "    save_best = True, \n",
    "    min_score = 0.5,\n",
    "    save_path_name = os.path.join(model_dir_path, 'aic_lstm_weights.pth'),\n",
    "    saved_history = history,\n",
    ")"
   ]
  },
  {
   "cell_type": "code",
   "execution_count": 44,
   "metadata": {},
   "outputs": [
    {
     "data": {
      "image/png": "[encoded data removed]",
      "text/plain": [
       "<Figure size 576x576 with 1 Axes>"
      ]
     },
     "metadata": {
      "needs_background": "light"
     },
     "output_type": "display_data"
    }
   ],
   "source": [
    "display_history(history)"
   ]
  },
  {
   "cell_type": "code",
   "execution_count": null,
   "metadata": {},
   "outputs": [],
   "source": []
  }
 ],
 "metadata": {
  "interpreter": {
   "hash": "176726de92aa5f7c7bad0ace42430d0e9e67427a9b4905ef1c48cfd9a71ff23e"
  },
  "kernelspec": {
   "display_name": "Python 3.9.12 ('nlp2022-hw2')",
   "language": "python",
   "name": "python3"
  },
  "language_info": {
   "codemirror_mode": {
    "name": "ipython",
    "version": 3
   },
   "file_extension": ".py",
   "mimetype": "text/x-python",
   "name": "python",
   "nbconvert_exporter": "python",
   "pygments_lexer": "ipython3",
   "version": "3.9.12"
  },
  "orig_nbformat": 4
 },
 "nbformat": 4,
 "nbformat_minor": 2
}
