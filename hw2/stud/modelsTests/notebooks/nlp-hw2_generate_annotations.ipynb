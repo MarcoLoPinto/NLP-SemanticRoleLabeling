{
 "cells": [
  {
   "cell_type": "markdown",
   "metadata": {},
   "source": [
    "# First tests with the API"
   ]
  },
  {
   "cell_type": "code",
   "execution_count": 1,
   "metadata": {},
   "outputs": [],
   "source": [
    "example_input = {\n",
    "    \"dependency_heads\": [3,3,0,7,6,7,3,9,7,11,7,15,15,15,11,18,18,15,3],\n",
    "    \"dependency_relations\": [\"nsubj\",\"advmod\",\"root\",\"mark\",\"det\",\"nsubj\",\"ccomp\",\"amod\",\"obj\",\"mark\",\"advcl\",\"det\",\"amod\",\"amod\",\"obj\",\"case\",\"compound\",\"nmod\",\"punct\"],\n",
    "    \"lemmas\": [\"it\",\"also\",\"recommend\",\"that\",\"the\",\"authority\",\"take\",\"appropriate\",\"measure\",\"to\",\"meet\",\"the\",\"specific\",\"educational\",\"need\",\"of\",\"Roma\",\"child\",\".\"],\n",
    "    \"pos_tags\": [\"PRON\",\"ADV\",\"VERB\",\"SCONJ\",\"DET\",\"NOUN\",\"VERB\",\"ADJ\",\"NOUN\",\"PART\",\"VERB\",\"DET\",\"ADJ\",\"ADJ\",\"NOUN\",\"ADP\",\"PROPN\",\"NOUN\",\"PUNCT\"],\n",
    "    \"predicates\": [\"_\",\"_\",\"PROPOSE\",\"_\",\"_\",\"_\",\"CARRY-OUT-ACTION\",\"_\",\"_\",\"_\",\"SATISFY_FULFILL\",\"_\",\"_\",\"_\",\"_\",\"_\",\"_\",\"_\",\"_\"], \n",
    "    \"words\": [\n",
    "        \"It\",\"also\",\"recommends\",\"that\",\"the\",\"authorities\",\"take\",\"appropriate\",\"measures\",\"to\",\n",
    "        \"meet\",\"the\",\"specific\",\"educational\",\"needs\",\"of\",\"Roma\",\"children\",\".\"],\n",
    "    \"roles\": {\n",
    "        \"2\": [\"_\",\"agent\",\"_\",\"topic\",\"_\",\"_\",\"_\",\"_\",\"_\",\"_\",\"_\",\"_\",\"_\",\"_\",\"_\",\"_\",\"_\",\"_\",\"_\"],\n",
    "        \"6\": [\"_\",\"_\",\"_\",\"_\",\"_\",\"agent\",\"_\",\"_\",\"patient\",\"goal\",\"_\",\"_\",\"_\",\"_\",\"_\",\"_\",\"_\",\"_\",\"_\"],\n",
    "        \"10\": [\"_\",\"_\",\"_\",\"_\",\"_\",\"_\",\"_\",\"_\",\"_\",\"_\",\"_\",\"_\",\"_\",\"_\",\"theme\",\"_\",\"_\",\"_\",\"_\"]\n",
    "    }\n",
    "}"
   ]
  },
  {
   "cell_type": "code",
   "execution_count": 2,
   "metadata": {},
   "outputs": [
    {
     "data": {
      "text/plain": [
       "'It also recommends that the authorities take appropriate measures to meet the specific educational needs of Roma children .'"
      ]
     },
     "execution_count": 2,
     "metadata": {},
     "output_type": "execute_result"
    }
   ],
   "source": [
    "sample_text = ' '.join(example_input['words'])\n",
    "sample_text"
   ]
  },
  {
   "cell_type": "code",
   "execution_count": 3,
   "metadata": {},
   "outputs": [],
   "source": [
    "verbatlas_span_url = 'http://127.0.0.1:3001/api/model'\n",
    "amuse_url = 'http://127.0.0.1:3002/api/model'\n",
    "verbatlas_dependency_url = 'http://127.0.0.1:3003/api/model'"
   ]
  },
  {
   "cell_type": "code",
   "execution_count": 4,
   "metadata": {},
   "outputs": [
    {
     "name": "stdout",
     "output_type": "stream",
     "text": [
      "<Response [200]>\n"
     ]
    }
   ],
   "source": [
    "import requests\n",
    "test_str = \"We urge the parties to refrain from the use of force and provocative acts , which only serve to undermine the peace process , and we appeal to them to take immediate steps to create the necessary environment for a restoration of peace , stability and the continuation of talks leading to a comprehensive , just and lasting peace based on Security Council resolutions 242 ( 1967 ) and 338 ( 1973 ) .\"\n",
    "http_input = [{'text':test_str, 'lang':'EN'}]\n",
    "x = requests.post(verbatlas_dependency_url, json = http_input)\n",
    "print(x)"
   ]
  },
  {
   "cell_type": "code",
   "execution_count": 5,
   "metadata": {},
   "outputs": [
    {
     "data": {
      "text/plain": [
       "[{'tokens': [{'index': 0, 'rawText': 'We'},\n",
       "   {'index': 1, 'rawText': 'urge'},\n",
       "   {'index': 2, 'rawText': 'the'},\n",
       "   {'index': 3, 'rawText': 'parties'},\n",
       "   {'index': 4, 'rawText': 'to'},\n",
       "   {'index': 5, 'rawText': 'refrain'},\n",
       "   {'index': 6, 'rawText': 'from'},\n",
       "   {'index': 7, 'rawText': 'the'},\n",
       "   {'index': 8, 'rawText': 'use'},\n",
       "   {'index': 9, 'rawText': 'of'},\n",
       "   {'index': 10, 'rawText': 'force'},\n",
       "   {'index': 11, 'rawText': 'and'},\n",
       "   {'index': 12, 'rawText': 'provocative'},\n",
       "   {'index': 13, 'rawText': 'acts'},\n",
       "   {'index': 14, 'rawText': ','},\n",
       "   {'index': 15, 'rawText': 'which'},\n",
       "   {'index': 16, 'rawText': 'only'},\n",
       "   {'index': 17, 'rawText': 'serve'},\n",
       "   {'index': 18, 'rawText': 'to'},\n",
       "   {'index': 19, 'rawText': 'undermine'},\n",
       "   {'index': 20, 'rawText': 'the'},\n",
       "   {'index': 21, 'rawText': 'peace'},\n",
       "   {'index': 22, 'rawText': 'process'},\n",
       "   {'index': 23, 'rawText': ','},\n",
       "   {'index': 24, 'rawText': 'and'},\n",
       "   {'index': 25, 'rawText': 'we'},\n",
       "   {'index': 26, 'rawText': 'appeal'},\n",
       "   {'index': 27, 'rawText': 'to'},\n",
       "   {'index': 28, 'rawText': 'them'},\n",
       "   {'index': 29, 'rawText': 'to'},\n",
       "   {'index': 30, 'rawText': 'take'},\n",
       "   {'index': 31, 'rawText': 'immediate'},\n",
       "   {'index': 32, 'rawText': 'steps'},\n",
       "   {'index': 33, 'rawText': 'to'},\n",
       "   {'index': 34, 'rawText': 'create'},\n",
       "   {'index': 35, 'rawText': 'the'},\n",
       "   {'index': 36, 'rawText': 'necessary'},\n",
       "   {'index': 37, 'rawText': 'environment'},\n",
       "   {'index': 38, 'rawText': 'for'},\n",
       "   {'index': 39, 'rawText': 'a'},\n",
       "   {'index': 40, 'rawText': 'restoration'},\n",
       "   {'index': 41, 'rawText': 'of'},\n",
       "   {'index': 42, 'rawText': 'peace'},\n",
       "   {'index': 43, 'rawText': ','},\n",
       "   {'index': 44, 'rawText': 'stability'},\n",
       "   {'index': 45, 'rawText': 'and'},\n",
       "   {'index': 46, 'rawText': 'the'},\n",
       "   {'index': 47, 'rawText': 'continuation'},\n",
       "   {'index': 48, 'rawText': 'of'},\n",
       "   {'index': 49, 'rawText': 'talks'},\n",
       "   {'index': 50, 'rawText': 'leading'},\n",
       "   {'index': 51, 'rawText': 'to'},\n",
       "   {'index': 52, 'rawText': 'a'},\n",
       "   {'index': 53, 'rawText': 'comprehens'},\n",
       "   {'index': 54, 'rawText': 'ive'},\n",
       "   {'index': 55, 'rawText': ','},\n",
       "   {'index': 56, 'rawText': 'just'},\n",
       "   {'index': 57, 'rawText': 'and'},\n",
       "   {'index': 58, 'rawText': 'lasting'},\n",
       "   {'index': 59, 'rawText': 'peace'},\n",
       "   {'index': 60, 'rawText': 'based'},\n",
       "   {'index': 61, 'rawText': 'on'},\n",
       "   {'index': 62, 'rawText': 'Security'},\n",
       "   {'index': 63, 'rawText': 'Council'},\n",
       "   {'index': 64, 'rawText': 'resolutions'},\n",
       "   {'index': 65, 'rawText': '242'},\n",
       "   {'index': 66, 'rawText': '('},\n",
       "   {'index': 67, 'rawText': '1967'},\n",
       "   {'index': 68, 'rawText': ')'},\n",
       "   {'index': 69, 'rawText': 'and'},\n",
       "   {'index': 70, 'rawText': '338'},\n",
       "   {'index': 71, 'rawText': '('},\n",
       "   {'index': 72, 'rawText': '1973'},\n",
       "   {'index': 73, 'rawText': ')'},\n",
       "   {'index': 74, 'rawText': '.'}],\n",
       "  'annotations': [{'tokenIndex': 1,\n",
       "    'verbatlas': {'frameName': 'OBLIGE_FORCE',\n",
       "     'roles': [{'role': 'Agent', 'score': 1.0, 'span': [0, 1]},\n",
       "      {'role': 'Patient', 'score': 1.0, 'span': [3, 4]},\n",
       "      {'role': 'Goal', 'score': 1.0, 'span': [4, 5]}]},\n",
       "    'englishPropbank': {'frameName': 'urge-v.01',\n",
       "     'roles': [{'role': 'A0', 'score': 1.0, 'span': [0, 1]},\n",
       "      {'role': 'A1', 'score': 1.0, 'span': [3, 4]},\n",
       "      {'role': 'A2', 'score': 1.0, 'span': [4, 5]}]},\n",
       "    'chinesePropbank': {'frameName': '呼吁.01',\n",
       "     'roles': [{'role': 'A0', 'score': 1.0, 'span': [0, 1]},\n",
       "      {'role': 'A1', 'score': 1.0, 'span': [3, 4]},\n",
       "      {'role': 'A2', 'score': 1.0, 'span': [4, 5]}]},\n",
       "    'germanPropbank': {'frameName': 'verpflichten.1',\n",
       "     'roles': [{'role': 'A0', 'score': 1.0, 'span': [0, 1]},\n",
       "      {'role': 'A1', 'score': 1.0, 'span': [3, 4]},\n",
       "      {'role': 'A0', 'score': 1.0, 'span': [4, 5]}]},\n",
       "    'pdtVallex': {'frameName': 'v-w7432f2', 'roles': []},\n",
       "    'spanishAncora': {'frameName': 'exhortar.a2',\n",
       "     'roles': [{'role': 'arg0-agt', 'score': 1.0, 'span': [0, 1]},\n",
       "      {'role': 'arg1-pat', 'score': 1.0, 'span': [3, 4]},\n",
       "      {'role': 'arg2-null', 'score': 1.0, 'span': [4, 5]}]},\n",
       "    'catalanAncora': {'frameName': 'exigir.a32',\n",
       "     'roles': [{'role': 'arg0-cau', 'score': 1.0, 'span': [0, 1]},\n",
       "      {'role': 'arg1-tem', 'score': 1.0, 'span': [3, 4]},\n",
       "      {'role': 'arg2-null', 'score': 1.0, 'span': [4, 5]}]}},\n",
       "   {'tokenIndex': 5,\n",
       "    'verbatlas': {'frameName': 'ABSTAIN_AVOID_REFRAIN',\n",
       "     'roles': [{'role': 'Agent', 'score': 1.0, 'span': [3, 4]},\n",
       "      {'role': 'Theme', 'score': 1.0, 'span': [6, 7]}]},\n",
       "    'englishPropbank': {'frameName': 'refrain-v.01',\n",
       "     'roles': [{'role': 'A0', 'score': 1.0, 'span': [3, 4]},\n",
       "      {'role': 'A1', 'score': 1.0, 'span': [6, 7]}]},\n",
       "    'chinesePropbank': {'frameName': '拒绝.01',\n",
       "     'roles': [{'role': 'A0', 'score': 1.0, 'span': [3, 4]},\n",
       "      {'role': 'A1', 'score': 1.0, 'span': [6, 7]}]},\n",
       "    'germanPropbank': {'frameName': 'verzichten.1',\n",
       "     'roles': [{'role': 'A0', 'score': 1.0, 'span': [3, 4]},\n",
       "      {'role': 'A1', 'score': 1.0, 'span': [6, 7]}]},\n",
       "    'pdtVallex': {'frameName': 'v-w226f1',\n",
       "     'roles': [{'role': 'ACT', 'score': 1.0, 'span': [0, 1]},\n",
       "      {'role': 'PAT', 'score': 1.0, 'span': [3, 4]},\n",
       "      {'role': 'ADDR', 'score': 1.0, 'span': [4, 5]}]},\n",
       "    'spanishAncora': {'frameName': 'renunciar.a2',\n",
       "     'roles': [{'role': 'arg0-agt', 'score': 1.0, 'span': [3, 4]},\n",
       "      {'role': 'arg1-pat', 'score': 1.0, 'span': [6, 7]}]},\n",
       "    'catalanAncora': {'frameName': 'discrepar.a2',\n",
       "     'roles': [{'role': 'arg0-agt', 'score': 1.0, 'span': [3, 4]},\n",
       "      {'role': 'arg1-null', 'score': 1.0, 'span': [6, 7]}]}},\n",
       "   {'tokenIndex': 8,\n",
       "    'verbatlas': {'frameName': '_', 'roles': []},\n",
       "    'englishPropbank': {'frameName': 'use.01',\n",
       "     'roles': [{'role': 'A0', 'score': 1.0, 'span': [3, 4]},\n",
       "      {'role': 'A1', 'score': 1.0, 'span': [9, 10]}]},\n",
       "    'chinesePropbank': {'frameName': '_', 'roles': []},\n",
       "    'germanPropbank': {'frameName': '_', 'roles': []},\n",
       "    'pdtVallex': {'frameName': 'v-w4131f1',\n",
       "     'roles': [{'role': 'ACT', 'score': 1.0, 'span': [3, 4]},\n",
       "      {'role': 'PAT', 'score': 1.0, 'span': [6, 7]}]},\n",
       "    'spanishAncora': {'frameName': '_', 'roles': []},\n",
       "    'catalanAncora': {'frameName': '_', 'roles': []}},\n",
       "   {'tokenIndex': 13,\n",
       "    'verbatlas': {'frameName': '_', 'roles': []},\n",
       "    'englishPropbank': {'frameName': 'act.03',\n",
       "     'roles': [{'role': 'A0', 'score': 1.0, 'span': [3, 4]},\n",
       "      {'role': 'AM-MNR', 'score': 1.0, 'span': [12, 13]},\n",
       "      {'role': 'A1', 'score': 1.0, 'span': [13, 14]}]},\n",
       "    'chinesePropbank': {'frameName': '_', 'roles': []},\n",
       "    'germanPropbank': {'frameName': '_', 'roles': []},\n",
       "    'pdtVallex': {'frameName': '_', 'roles': []},\n",
       "    'spanishAncora': {'frameName': '_', 'roles': []},\n",
       "    'catalanAncora': {'frameName': '_', 'roles': []}},\n",
       "   {'tokenIndex': 17,\n",
       "    'verbatlas': {'frameName': 'WORK',\n",
       "     'roles': [{'role': 'Agent', 'score': 1.0, 'span': [10, 11]},\n",
       "      {'role': 'Agent', 'score': 1.0, 'span': [13, 14]},\n",
       "      {'role': 'Attribute', 'score': 1.0, 'span': [18, 19]}]},\n",
       "    'englishPropbank': {'frameName': 'serve-v.01',\n",
       "     'roles': [{'role': 'A0', 'score': 1.0, 'span': [10, 11]},\n",
       "      {'role': 'A0', 'score': 1.0, 'span': [13, 14]},\n",
       "      {'role': 'R-A0', 'score': 1.0, 'span': [15, 16]},\n",
       "      {'role': 'AM-ADV', 'score': 1.0, 'span': [16, 17]},\n",
       "      {'role': 'A1', 'score': 1.0, 'span': [18, 19]}]},\n",
       "    'chinesePropbank': {'frameName': '任.01',\n",
       "     'roles': [{'role': 'A0', 'score': 1.0, 'span': [10, 11]},\n",
       "      {'role': 'ADV', 'score': 1.0, 'span': [15, 16]},\n",
       "      {'role': 'ADV', 'score': 1.0, 'span': [16, 17]},\n",
       "      {'role': 'A1', 'score': 1.0, 'span': [18, 19]}]},\n",
       "    'germanPropbank': {'frameName': 'dienen.1',\n",
       "     'roles': [{'role': 'A0', 'score': 1.0, 'span': [10, 11]},\n",
       "      {'role': 'A0', 'score': 1.0, 'span': [13, 14]},\n",
       "      {'role': 'A1', 'score': 1.0, 'span': [18, 19]}]},\n",
       "    'pdtVallex': {'frameName': 'v-w6171f1',\n",
       "     'roles': [{'role': 'ACT', 'score': 1.0, 'span': [3, 4]},\n",
       "      {'role': 'PAT', 'score': 1.0, 'span': [9, 10]}]},\n",
       "    'spanishAncora': {'frameName': 'servir.c4',\n",
       "     'roles': [{'role': 'argM-adv', 'score': 1.0, 'span': [16, 17]},\n",
       "      {'role': 'arg3-fin', 'score': 1.0, 'span': [18, 19]}]},\n",
       "    'catalanAncora': {'frameName': 'servir.c1',\n",
       "     'roles': [{'role': 'argM-adv', 'score': 1.0, 'span': [16, 17]},\n",
       "      {'role': 'arg2-fin', 'score': 1.0, 'span': [18, 19]}]}},\n",
       "   {'tokenIndex': 19,\n",
       "    'verbatlas': {'frameName': 'WEAKEN',\n",
       "     'roles': [{'role': 'Patient', 'score': 1.0, 'span': [22, 23]}]},\n",
       "    'englishPropbank': {'frameName': 'undermine-v.01',\n",
       "     'roles': [{'role': 'R-A0', 'score': 1.0, 'span': [15, 16]},\n",
       "      {'role': 'A1', 'score': 1.0, 'span': [22, 23]}]},\n",
       "    'chinesePropbank': {'frameName': '减弱.01',\n",
       "     'roles': [{'role': 'A1', 'score': 1.0, 'span': [22, 23]}]},\n",
       "    'germanPropbank': {'frameName': 'zerstören.1',\n",
       "     'roles': [{'role': 'A1', 'score': 1.0, 'span': [22, 23]}]},\n",
       "    'pdtVallex': {'frameName': 'v-w582f3',\n",
       "     'roles': [{'role': 'ACT', 'score': 1.0, 'span': [3, 4]}]},\n",
       "    'spanishAncora': {'frameName': 'dañar.a1',\n",
       "     'roles': [{'role': 'arg1-tem', 'score': 1.0, 'span': [22, 23]}]},\n",
       "    'catalanAncora': {'frameName': 'reforçar.a1',\n",
       "     'roles': [{'role': 'arg1-tem', 'score': 1.0, 'span': [22, 23]}]}},\n",
       "   {'tokenIndex': 22,\n",
       "    'verbatlas': {'frameName': '_', 'roles': []},\n",
       "    'englishPropbank': {'frameName': 'process.01',\n",
       "     'roles': [{'role': 'A1', 'score': 1.0, 'span': [21, 22]}]},\n",
       "    'chinesePropbank': {'frameName': '_', 'roles': []},\n",
       "    'germanPropbank': {'frameName': '_', 'roles': []},\n",
       "    'pdtVallex': {'frameName': 'v-w1322f1',\n",
       "     'roles': [{'role': 'ACT', 'score': 1.0, 'span': [3, 4]},\n",
       "      {'role': 'MANN', 'score': 1.0, 'span': [12, 13]},\n",
       "      {'role': 'PAT', 'score': 1.0, 'span': [13, 14]}]},\n",
       "    'spanishAncora': {'frameName': '_', 'roles': []},\n",
       "    'catalanAncora': {'frameName': '_', 'roles': []}},\n",
       "   {'tokenIndex': 26,\n",
       "    'verbatlas': {'frameName': 'ASK_REQUEST',\n",
       "     'roles': [{'role': 'Agent', 'score': 1.0, 'span': [25, 26]},\n",
       "      {'role': 'Recipient', 'score': 1.0, 'span': [27, 28]},\n",
       "      {'role': 'Topic', 'score': 1.0, 'span': [29, 30]}]},\n",
       "    'englishPropbank': {'frameName': 'appeal-v.02',\n",
       "     'roles': [{'role': 'A0', 'score': 1.0, 'span': [25, 26]},\n",
       "      {'role': 'A1', 'score': 1.0, 'span': [27, 28]},\n",
       "      {'role': 'A2', 'score': 1.0, 'span': [29, 30]}]},\n",
       "    'chinesePropbank': {'frameName': '呼吁.01',\n",
       "     'roles': [{'role': 'A0', 'score': 1.0, 'span': [25, 26]},\n",
       "      {'role': 'A1', 'score': 1.0, 'span': [27, 28]},\n",
       "      {'role': 'A1', 'score': 1.0, 'span': [29, 30]}]},\n",
       "    'germanPropbank': {'frameName': 'appellieren.1',\n",
       "     'roles': [{'role': 'A0', 'score': 1.0, 'span': [25, 26]},\n",
       "      {'role': 'A1', 'score': 1.0, 'span': [27, 28]},\n",
       "      {'role': 'A2', 'score': 1.0, 'span': [29, 30]}]},\n",
       "    'pdtVallex': {'frameName': 'v-w8343f2',\n",
       "     'roles': [{'role': 'ACT', 'score': 1.0, 'span': [10, 11]},\n",
       "      {'role': 'ACT', 'score': 1.0, 'span': [13, 14]},\n",
       "      {'role': 'ACT|ORIG', 'score': 1.0, 'span': [15, 16]},\n",
       "      {'role': 'MANN', 'score': 1.0, 'span': [16, 17]},\n",
       "      {'role': 'AIM', 'score': 1.0, 'span': [18, 19]}]},\n",
       "    'spanishAncora': {'frameName': 'apelar.a2',\n",
       "     'roles': [{'role': 'arg0-agt', 'score': 1.0, 'span': [25, 26]},\n",
       "      {'role': 'arg1-pat', 'score': 1.0, 'span': [27, 28]},\n",
       "      {'role': 'arg1-null', 'score': 1.0, 'span': [29, 30]}]},\n",
       "    'catalanAncora': {'frameName': 'convidar.a2',\n",
       "     'roles': [{'role': 'arg0-agt', 'score': 1.0, 'span': [25, 26]},\n",
       "      {'role': 'arg2-ben', 'score': 1.0, 'span': [27, 28]},\n",
       "      {'role': 'arg2-null', 'score': 1.0, 'span': [29, 30]}]}},\n",
       "   {'tokenIndex': 30,\n",
       "    'verbatlas': {'frameName': 'TAKE',\n",
       "     'roles': [{'role': 'Agent', 'score': 1.0, 'span': [28, 29]},\n",
       "      {'role': 'Theme', 'score': 1.0, 'span': [32, 33]}]},\n",
       "    'englishPropbank': {'frameName': 'take-v.01',\n",
       "     'roles': [{'role': 'A0', 'score': 1.0, 'span': [28, 29]},\n",
       "      {'role': 'A1', 'score': 1.0, 'span': [32, 33]}]},\n",
       "    'chinesePropbank': {'frameName': '采取.01',\n",
       "     'roles': [{'role': 'A0', 'score': 1.0, 'span': [28, 29]},\n",
       "      {'role': 'A1', 'score': 1.0, 'span': [32, 33]}]},\n",
       "    'germanPropbank': {'frameName': 'nehmen.15',\n",
       "     'roles': [{'role': 'A0', 'score': 1.0, 'span': [28, 29]},\n",
       "      {'role': 'A1', 'score': 1.0, 'span': [32, 33]}]},\n",
       "    'pdtVallex': {'frameName': 'v-w5161f4',\n",
       "     'roles': [{'role': 'ACT|ORIG', 'score': 1.0, 'span': [15, 16]},\n",
       "      {'role': 'PAT', 'score': 1.0, 'span': [22, 23]}]},\n",
       "    'spanishAncora': {'frameName': 'tomar.a2',\n",
       "     'roles': [{'role': 'arg0-agt', 'score': 1.0, 'span': [28, 29]},\n",
       "      {'role': 'arg1-pat', 'score': 1.0, 'span': [32, 33]}]},\n",
       "    'catalanAncora': {'frameName': 'prendre.a2',\n",
       "     'roles': [{'role': 'arg0-agt', 'score': 1.0, 'span': [28, 29]},\n",
       "      {'role': 'arg1-pat', 'score': 1.0, 'span': [32, 33]}]}},\n",
       "   {'tokenIndex': 32,\n",
       "    'verbatlas': {'frameName': '_', 'roles': []},\n",
       "    'englishPropbank': {'frameName': 'step.01',\n",
       "     'roles': [{'role': 'A0', 'score': 1.0, 'span': [28, 29]},\n",
       "      {'role': 'AM-TMP', 'score': 1.0, 'span': [31, 32]},\n",
       "      {'role': 'A1', 'score': 1.0, 'span': [33, 34]}]},\n",
       "    'chinesePropbank': {'frameName': '_', 'roles': []},\n",
       "    'germanPropbank': {'frameName': '_', 'roles': []},\n",
       "    'pdtVallex': {'frameName': 'v-w1611f1',\n",
       "     'roles': [{'role': 'ACT', 'score': 1.0, 'span': [3, 4]}]},\n",
       "    'spanishAncora': {'frameName': '_', 'roles': []},\n",
       "    'catalanAncora': {'frameName': '_', 'roles': []}},\n",
       "   {'tokenIndex': 34,\n",
       "    'verbatlas': {'frameName': 'MOUNT_ASSEMBLE_PRODUCE',\n",
       "     'roles': [{'role': 'Agent', 'score': 1.0, 'span': [28, 29]},\n",
       "      {'role': 'Product', 'score': 1.0, 'span': [37, 38]}]},\n",
       "    'englishPropbank': {'frameName': 'create-v.01',\n",
       "     'roles': [{'role': 'A0', 'score': 1.0, 'span': [28, 29]},\n",
       "      {'role': 'A1', 'score': 1.0, 'span': [37, 38]}]},\n",
       "    'chinesePropbank': {'frameName': '创造.01',\n",
       "     'roles': [{'role': 'A0', 'score': 1.0, 'span': [28, 29]},\n",
       "      {'role': 'A1', 'score': 1.0, 'span': [37, 38]}]},\n",
       "    'germanPropbank': {'frameName': 'entstehen.1',\n",
       "     'roles': [{'role': 'A0', 'score': 1.0, 'span': [28, 29]},\n",
       "      {'role': 'A1', 'score': 1.0, 'span': [37, 38]}]},\n",
       "    'pdtVallex': {'frameName': 'v-w8510f1',\n",
       "     'roles': [{'role': 'PAT', 'score': 1.0, 'span': [21, 22]}]},\n",
       "    'spanishAncora': {'frameName': 'crear.a2',\n",
       "     'roles': [{'role': 'arg0-agt', 'score': 1.0, 'span': [28, 29]},\n",
       "      {'role': 'arg1-pat', 'score': 1.0, 'span': [37, 38]}]},\n",
       "    'catalanAncora': {'frameName': 'crear.a2',\n",
       "     'roles': [{'role': 'arg0-agt', 'score': 1.0, 'span': [28, 29]},\n",
       "      {'role': 'arg1-pat', 'score': 1.0, 'span': [37, 38]}]}},\n",
       "   {'tokenIndex': 37,\n",
       "    'verbatlas': {'frameName': '_', 'roles': []},\n",
       "    'englishPropbank': {'frameName': 'environment.01',\n",
       "     'roles': [{'role': 'A1', 'score': 1.0, 'span': [38, 39]}]},\n",
       "    'chinesePropbank': {'frameName': '_', 'roles': []},\n",
       "    'germanPropbank': {'frameName': '_', 'roles': []},\n",
       "    'pdtVallex': {'frameName': '_', 'roles': []},\n",
       "    'spanishAncora': {'frameName': '_', 'roles': []},\n",
       "    'catalanAncora': {'frameName': '_', 'roles': []}},\n",
       "   {'tokenIndex': 40,\n",
       "    'verbatlas': {'frameName': '_', 'roles': []},\n",
       "    'englishPropbank': {'frameName': 'restoration.01',\n",
       "     'roles': [{'role': 'A1', 'score': 1.0, 'span': [41, 42]}]},\n",
       "    'chinesePropbank': {'frameName': '_', 'roles': []},\n",
       "    'germanPropbank': {'frameName': '_', 'roles': []},\n",
       "    'pdtVallex': {'frameName': 'v-w2303f1', 'roles': []},\n",
       "    'spanishAncora': {'frameName': '_', 'roles': []},\n",
       "    'catalanAncora': {'frameName': '_', 'roles': []}},\n",
       "   {'tokenIndex': 42,\n",
       "    'verbatlas': {'frameName': '_', 'roles': []},\n",
       "    'englishPropbank': {'frameName': '_', 'roles': []},\n",
       "    'chinesePropbank': {'frameName': '_', 'roles': []},\n",
       "    'germanPropbank': {'frameName': '_', 'roles': []},\n",
       "    'pdtVallex': {'frameName': 'v-w5291f2',\n",
       "     'roles': [{'role': 'ACT', 'score': 1.0, 'span': [25, 26]},\n",
       "      {'role': 'ADDR', 'score': 1.0, 'span': [27, 28]},\n",
       "      {'role': 'PAT', 'score': 1.0, 'span': [29, 30]}]},\n",
       "    'spanishAncora': {'frameName': '_', 'roles': []},\n",
       "    'catalanAncora': {'frameName': '_', 'roles': []}},\n",
       "   {'tokenIndex': 47,\n",
       "    'verbatlas': {'frameName': '_', 'roles': []},\n",
       "    'englishPropbank': {'frameName': 'continuation.01',\n",
       "     'roles': [{'role': 'A1', 'score': 1.0, 'span': [48, 49]}]},\n",
       "    'chinesePropbank': {'frameName': '_', 'roles': []},\n",
       "    'germanPropbank': {'frameName': '_', 'roles': []},\n",
       "    'pdtVallex': {'frameName': 'v-w2528f1', 'roles': []},\n",
       "    'spanishAncora': {'frameName': '_', 'roles': []},\n",
       "    'catalanAncora': {'frameName': '_', 'roles': []}},\n",
       "   {'tokenIndex': 50,\n",
       "    'verbatlas': {'frameName': 'INCITE_INDUCE',\n",
       "     'roles': [{'role': 'Agent', 'score': 1.0, 'span': [49, 50]},\n",
       "      {'role': 'Result', 'score': 1.0, 'span': [51, 52]}]},\n",
       "    'englishPropbank': {'frameName': 'lead-v.03',\n",
       "     'roles': [{'role': 'A0', 'score': 1.0, 'span': [49, 50]},\n",
       "      {'role': 'A2', 'score': 1.0, 'span': [51, 52]}]},\n",
       "    'chinesePropbank': {'frameName': '使.01',\n",
       "     'roles': [{'role': 'A0', 'score': 1.0, 'span': [49, 50]},\n",
       "      {'role': 'A2', 'score': 1.0, 'span': [51, 52]}]},\n",
       "    'germanPropbank': {'frameName': 'dienen.1',\n",
       "     'roles': [{'role': 'A0', 'score': 1.0, 'span': [49, 50]},\n",
       "      {'role': 'A3', 'score': 1.0, 'span': [51, 52]}]},\n",
       "    'pdtVallex': {'frameName': 'v-w7583f1', 'roles': []},\n",
       "    'spanishAncora': {'frameName': 'conducir.b2',\n",
       "     'roles': [{'role': 'arg0-cau', 'score': 1.0, 'span': [49, 50]},\n",
       "      {'role': 'arg2-efi', 'score': 1.0, 'span': [51, 52]}]},\n",
       "    'catalanAncora': {'frameName': 'conduir.b2',\n",
       "     'roles': [{'role': 'arg0-cau', 'score': 1.0, 'span': [49, 50]},\n",
       "      {'role': 'arg2-efi', 'score': 1.0, 'span': [51, 52]}]}},\n",
       "   {'tokenIndex': 53,\n",
       "    'verbatlas': {'frameName': '_', 'roles': []},\n",
       "    'englishPropbank': {'frameName': '_', 'roles': []},\n",
       "    'chinesePropbank': {'frameName': '_', 'roles': []},\n",
       "    'germanPropbank': {'frameName': '_', 'roles': []},\n",
       "    'pdtVallex': {'frameName': 'v-w5777f2',\n",
       "     'roles': [{'role': 'ACT', 'score': 1.0, 'span': [28, 29]},\n",
       "      {'role': 'CPHR', 'score': 1.0, 'span': [32, 33]}]},\n",
       "    'spanishAncora': {'frameName': '_', 'roles': []},\n",
       "    'catalanAncora': {'frameName': '_', 'roles': []}},\n",
       "   {'tokenIndex': 59,\n",
       "    'verbatlas': {'frameName': '_', 'roles': []},\n",
       "    'englishPropbank': {'frameName': 'peace.01',\n",
       "     'roles': [{'role': 'AM-MNR', 'score': 1.0, 'span': [56, 57]},\n",
       "      {'role': 'A2', 'score': 1.0, 'span': [59, 60]}]},\n",
       "    'chinesePropbank': {'frameName': '_', 'roles': []},\n",
       "    'germanPropbank': {'frameName': '_', 'roles': []},\n",
       "    'pdtVallex': {'frameName': '_', 'roles': []},\n",
       "    'spanishAncora': {'frameName': '_', 'roles': []},\n",
       "    'catalanAncora': {'frameName': '_', 'roles': []}},\n",
       "   {'tokenIndex': 60,\n",
       "    'verbatlas': {'frameName': 'GROUND_BASE_FOUND',\n",
       "     'roles': [{'role': 'Theme', 'score': 1.0, 'span': [59, 60]},\n",
       "      {'role': 'Source', 'score': 1.0, 'span': [61, 62]}]},\n",
       "    'englishPropbank': {'frameName': 'base-v.02',\n",
       "     'roles': [{'role': 'A1', 'score': 1.0, 'span': [59, 60]},\n",
       "      {'role': 'A2', 'score': 1.0, 'span': [61, 62]}]},\n",
       "    'chinesePropbank': {'frameName': '根据.01',\n",
       "     'roles': [{'role': 'A1', 'score': 1.0, 'span': [59, 60]},\n",
       "      {'role': 'A2', 'score': 1.0, 'span': [61, 62]}]},\n",
       "    'germanPropbank': {'frameName': 'berufen.1',\n",
       "     'roles': [{'role': 'A1', 'score': 1.0, 'span': [59, 60]},\n",
       "      {'role': 'A2', 'score': 1.0, 'span': [61, 62]}]},\n",
       "    'pdtVallex': {'frameName': 'v-w7951f1', 'roles': []},\n",
       "    'spanishAncora': {'frameName': 'basado.b2',\n",
       "     'roles': [{'role': 'arg1-pat', 'score': 1.0, 'span': [59, 60]},\n",
       "      {'role': 'arg2-null', 'score': 1.0, 'span': [61, 62]}]},\n",
       "    'catalanAncora': {'frameName': 'basat.b2',\n",
       "     'roles': [{'role': 'arg1-pat', 'score': 1.0, 'span': [59, 60]},\n",
       "      {'role': 'arg2-null', 'score': 1.0, 'span': [61, 62]}]}},\n",
       "   {'tokenIndex': 64,\n",
       "    'verbatlas': {'frameName': '_', 'roles': []},\n",
       "    'englishPropbank': {'frameName': 'resolution.01',\n",
       "     'roles': [{'role': 'A0', 'score': 1.0, 'span': [63, 64]}]},\n",
       "    'chinesePropbank': {'frameName': '_', 'roles': []},\n",
       "    'germanPropbank': {'frameName': '_', 'roles': []},\n",
       "    'pdtVallex': {'frameName': 'v-w4165f1',\n",
       "     'roles': [{'role': 'MANN', 'score': 1.0, 'span': [56, 57]}]},\n",
       "    'spanishAncora': {'frameName': '_', 'roles': []},\n",
       "    'catalanAncora': {'frameName': '_', 'roles': []}}]}]"
      ]
     },
     "execution_count": 5,
     "metadata": {},
     "output_type": "execute_result"
    }
   ],
   "source": [
    "import json\n",
    "x_json = json.loads(x.text)\n",
    "x_json"
   ]
  },
  {
   "cell_type": "markdown",
   "metadata": {},
   "source": [
    "# Creating the pipeline"
   ]
  },
  {
   "cell_type": "code",
   "execution_count": 6,
   "metadata": {},
   "outputs": [],
   "source": [
    "import json\n",
    "import requests\n",
    "from copy import deepcopy\n",
    "import re\n",
    "from tqdm import tqdm\n",
    "\n",
    "def load_data(lang_data_path):\n",
    "    f = open(lang_data_path)\n",
    "    res = json.load( f )\n",
    "    f.close()\n",
    "    return res\n",
    "\n",
    "def list_to_phrase(l_w):\n",
    "    phrase = ' '.join(l_w) if type(l_w) == list else l_w\n",
    "    phrase = re.sub(r'( \\')','\\'',phrase)\n",
    "    phrase = re.sub(r'( ’)','’',phrase)\n",
    "    phrase = re.sub(r'(\\b\\. )|(\\b\\.$)',' . ',phrase)\n",
    "    return phrase\n",
    "\n",
    "def reconstruct_subwords(text_str_input, verbatlas_out):\n",
    "    # get the list of words from VerbAtlas\n",
    "    va_l = [ e['rawText'] for e in verbatlas_out['tokens'] ]\n",
    "    # get only the VerbAtlas annotations\n",
    "    for i in range(len(verbatlas_out['annotations'])):\n",
    "        l_k = list(verbatlas_out['annotations'][i].keys())\n",
    "        for k in l_k:\n",
    "            if k != 'tokenIndex' and k != 'verbatlas':\n",
    "                verbatlas_out['annotations'][i].pop(k,None)\n",
    "\n",
    "    text_l = text_str_input.split(' ')\n",
    "    r_v_i = deepcopy(verbatlas_out)\n",
    "\n",
    "    # VerbAtlas sanification\n",
    "    text_i = 0; json_i = 0\n",
    "    while json_i < len(r_v_i['tokens']):\n",
    "\n",
    "        edit_v = r_v_i['tokens'][json_i]['rawText'].lower() != text_l[text_i].lower()\n",
    "\n",
    "        if not edit_v:\n",
    "            text_i += 1; json_i += 1\n",
    "            continue\n",
    "        elif r_v_i['tokens'][json_i]['rawText'].lower().strip() == text_l[text_i].lower():\n",
    "            r_v_i['tokens'][json_i]['rawText'] = r_v_i['tokens'][json_i]['rawText'].lower().strip()\n",
    "            text_i += 1; json_i += 1\n",
    "            continue\n",
    "        \n",
    "        # for the predicates and roles\n",
    "\n",
    "        for ii in range(len(r_v_i['annotations'])):\n",
    "            r_v_i['annotations'][ii]['tokenIndex'] = r_v_i['annotations'][ii]['tokenIndex'] - 1 \\\n",
    "            if r_v_i['annotations'][ii]['tokenIndex'] > json_i else r_v_i['annotations'][ii]['tokenIndex']\n",
    "            for iii in range(len(r_v_i['annotations'][ii]['verbatlas']['roles'])):\n",
    "                for iiii in [0,1]:\n",
    "                    r_v_i['annotations'][ii]['verbatlas']['roles'][iii]['span'][iiii] = \\\n",
    "                    r_v_i['annotations'][ii]['verbatlas']['roles'][iii]['span'][iiii] -1 \\\n",
    "                    if r_v_i['annotations'][ii]['verbatlas']['roles'][iii]['span'][iiii] > json_i \\\n",
    "                    else r_v_i['annotations'][ii]['verbatlas']['roles'][iii]['span'][iiii]\n",
    "\n",
    "        r_v_i['tokens'][json_i]['rawText'] += r_v_i['tokens'][json_i+1]['rawText']\n",
    "        r_v_i['tokens'][json_i]['rawText'] = r_v_i['tokens'][json_i]['rawText'].strip()\n",
    "\n",
    "        for ii in range( json_i+2 , len(r_v_i['tokens']) ):\n",
    "            r_v_i['tokens'][ii]['index'] -= 1\n",
    "\n",
    "        del r_v_i['tokens'][json_i+1]\n",
    "\n",
    "    return text_str_input, r_v_i\n",
    "\n",
    "def generate_data(data, verbatlas_link, lang=\"EN\", chunk_dim=1):\n",
    "    null_tag = '_'\n",
    "    result = {}\n",
    "\n",
    "    sentences_skipped = 0\n",
    "    to_send = []\n",
    "\n",
    "    pbar = tqdm(enumerate(data.items()))\n",
    "\n",
    "    for data_i, (data_sample_key,data_sample_value) in pbar:\n",
    "\n",
    "        text_sampled = list_to_phrase(data_sample_value['words'])\n",
    "\n",
    "        to_send.append({ 'text': text_sampled, 'lang':lang, 'key_id':data_sample_key })\n",
    "        if len(to_send)%chunk_dim != 0:\n",
    "            continue\n",
    "        \n",
    "        pbar.set_description(f'percentage: {((data_i+1)/len(data)):.4f} (index={data_i})')\n",
    "\n",
    "        res_v = requests.post(verbatlas_link, json = to_send)\n",
    "        status_code_good = res_v.status_code == 200\n",
    "\n",
    "        if not status_code_good:\n",
    "            print(f'verbatlas={res_v.status_code} | skipping chunk!')\n",
    "            sentences_skipped += len(to_send)\n",
    "            to_send = []\n",
    "\n",
    "        res_v = json.loads(res_v.text)\n",
    "        for t_i, r_v_i in zip(to_send, res_v):\n",
    "\n",
    "            ti_text, r_v_i = reconstruct_subwords(t_i['text'], r_v_i)\n",
    "            t_i['text'] = ti_text\n",
    "\n",
    "            k_id = t_i['key_id']\n",
    "\n",
    "            result[k_id] = {'roles':{}}\n",
    "            # words\n",
    "            result[k_id]['words'] = [ e['rawText'] for e in r_v_i['tokens'] ]\n",
    "\n",
    "            # predicates + roles\n",
    "            result[k_id]['predicates'] = [null_tag]*len(r_v_i['tokens'])\n",
    "            for annotation in r_v_i['annotations']:\n",
    "                tokenIndex = annotation['tokenIndex']\n",
    "                if annotation['verbatlas']['frameName'] != null_tag:\n",
    "                    result[k_id]['predicates'][tokenIndex] = annotation['verbatlas']['frameName']\n",
    "\n",
    "                    result[k_id]['roles'][str(tokenIndex)] = [null_tag]*len(r_v_i['tokens'])\n",
    "\n",
    "                    for _, role_for_i in enumerate(annotation['verbatlas']['roles']):\n",
    "                        span_pos = role_for_i['span'][0]\n",
    "                                \n",
    "                        result[k_id]['roles'][str(tokenIndex)][span_pos] = role_for_i['role'].lower()\n",
    "                \n",
    "        to_send = []\n",
    "    \n",
    "    print(f'skipped {sentences_skipped} sentences out of {len(data.values())}')\n",
    "    return result"
   ]
  },
  {
   "cell_type": "markdown",
   "metadata": {},
   "source": [
    "# Recreating English Dataset"
   ]
  },
  {
   "cell_type": "code",
   "execution_count": 68,
   "metadata": {},
   "outputs": [],
   "source": [
    "dataset_en = load_data('../../../../data/EN/train.json')"
   ]
  },
  {
   "cell_type": "code",
   "execution_count": 69,
   "metadata": {},
   "outputs": [
    {
     "name": "stdout",
     "output_type": "stream",
     "text": [
      "['At', 'the', 'same', 'meeting', ',', 'the', 'Committee', 'decided', ',', 'by', 'acclamation', ',', 'to', 'recommend', 'to', 'the', 'General', 'Assembly', 'that', 'it', 'appoint', 'David', 'Dutton', 'as', 'a', 'member', 'of', 'the', 'Committee', 'on', 'Contributions', 'for', 'a', 'term', 'of', 'office', 'beginning', 'on', '', '2003', 'and', 'ending', 'on', '31', 'December', '2004', '(', 'see', 'para', '.', '10', ')', '.']\n"
     ]
    }
   ],
   "source": [
    "err_phrase = {'r_i':list(dataset_en.values())[4349]}\n",
    "print(err_phrase['r_i']['words'])"
   ]
  },
  {
   "cell_type": "code",
   "execution_count": 70,
   "metadata": {},
   "outputs": [
    {
     "name": "stderr",
     "output_type": "stream",
     "text": [
      "percentage: 0.0711 (index=390): : 388it [00:18, 22.23it/s]"
     ]
    },
    {
     "name": "stdout",
     "output_type": "stream",
     "text": [
      "verbatlas=500 | skipping chunk!\n"
     ]
    },
    {
     "name": "stderr",
     "output_type": "stream",
     "text": [
      "percentage: 0.0820 (index=450): : 448it [00:21, 22.45it/s]"
     ]
    },
    {
     "name": "stdout",
     "output_type": "stream",
     "text": [
      "verbatlas=500 | skipping chunk!\n"
     ]
    },
    {
     "name": "stderr",
     "output_type": "stream",
     "text": [
      "percentage: 0.2521 (index=1386): : 1385it [01:04, 23.58it/s]"
     ]
    },
    {
     "name": "stdout",
     "output_type": "stream",
     "text": [
      "verbatlas=500 | skipping chunk!\n"
     ]
    },
    {
     "name": "stderr",
     "output_type": "stream",
     "text": [
      "percentage: 0.2729 (index=1500): : 1499it [01:09, 22.68it/s]"
     ]
    },
    {
     "name": "stdout",
     "output_type": "stream",
     "text": [
      "verbatlas=500 | skipping chunk!\n",
      "verbatlas=500 | skipping chunk!\n"
     ]
    },
    {
     "name": "stderr",
     "output_type": "stream",
     "text": [
      "percentage: 0.3052 (index=1678): : 1676it [01:17, 22.86it/s]"
     ]
    },
    {
     "name": "stdout",
     "output_type": "stream",
     "text": [
      "verbatlas=500 | skipping chunk!\n"
     ]
    },
    {
     "name": "stderr",
     "output_type": "stream",
     "text": [
      "percentage: 0.3341 (index=1837): : 1835it [01:24, 24.14it/s]"
     ]
    },
    {
     "name": "stdout",
     "output_type": "stream",
     "text": [
      "verbatlas=500 | skipping chunk!\n"
     ]
    },
    {
     "name": "stderr",
     "output_type": "stream",
     "text": [
      "percentage: 0.3414 (index=1877): : 1877it [01:26, 22.93it/s]"
     ]
    },
    {
     "name": "stdout",
     "output_type": "stream",
     "text": [
      "verbatlas=500 | skipping chunk!\n"
     ]
    },
    {
     "name": "stderr",
     "output_type": "stream",
     "text": [
      "percentage: 0.5737 (index=3155): : 3155it [02:27, 13.45it/s]"
     ]
    },
    {
     "name": "stdout",
     "output_type": "stream",
     "text": [
      "verbatlas=500 | skipping chunk!\n"
     ]
    },
    {
     "name": "stderr",
     "output_type": "stream",
     "text": [
      "percentage: 0.8046 (index=4425): : 4425it [03:34, 21.99it/s]"
     ]
    },
    {
     "name": "stdout",
     "output_type": "stream",
     "text": [
      "verbatlas=500 | skipping chunk!\n"
     ]
    },
    {
     "name": "stderr",
     "output_type": "stream",
     "text": [
      "percentage: 0.8135 (index=4474): : 4473it [03:36, 21.91it/s]"
     ]
    },
    {
     "name": "stdout",
     "output_type": "stream",
     "text": [
      "verbatlas=500 | skipping chunk!\n"
     ]
    },
    {
     "name": "stderr",
     "output_type": "stream",
     "text": [
      "percentage: 0.8751 (index=4813): : 4813it [03:54, 22.02it/s]"
     ]
    },
    {
     "name": "stdout",
     "output_type": "stream",
     "text": [
      "verbatlas=500 | skipping chunk!\n"
     ]
    },
    {
     "name": "stderr",
     "output_type": "stream",
     "text": [
      "percentage: 0.8897 (index=4893): : 4891it [03:58, 22.06it/s]"
     ]
    },
    {
     "name": "stdout",
     "output_type": "stream",
     "text": [
      "verbatlas=500 | skipping chunk!\n"
     ]
    },
    {
     "name": "stderr",
     "output_type": "stream",
     "text": [
      "percentage: 0.8975 (index=4936): : 4936it [04:00, 21.29it/s]"
     ]
    },
    {
     "name": "stdout",
     "output_type": "stream",
     "text": [
      "verbatlas=500 | skipping chunk!\n"
     ]
    },
    {
     "name": "stderr",
     "output_type": "stream",
     "text": [
      "percentage: 0.9098 (index=5004): : 5002it [04:03, 22.05it/s]"
     ]
    },
    {
     "name": "stdout",
     "output_type": "stream",
     "text": [
      "verbatlas=500 | skipping chunk!\n"
     ]
    },
    {
     "name": "stderr",
     "output_type": "stream",
     "text": [
      "percentage: 0.9462 (index=5204): : 5204it [04:13, 20.56it/s]"
     ]
    },
    {
     "name": "stdout",
     "output_type": "stream",
     "text": [
      "verbatlas=500 | skipping chunk!\n",
      "verbatlas=500 | skipping chunk!\n"
     ]
    },
    {
     "name": "stderr",
     "output_type": "stream",
     "text": [
      "percentage: 0.9509 (index=5230): : 5230it [04:14, 21.73it/s]"
     ]
    },
    {
     "name": "stdout",
     "output_type": "stream",
     "text": [
      "verbatlas=500 | skipping chunk!\n"
     ]
    },
    {
     "name": "stderr",
     "output_type": "stream",
     "text": [
      "percentage: 0.9829 (index=5406): : 5404it [04:23, 20.67it/s]"
     ]
    },
    {
     "name": "stdout",
     "output_type": "stream",
     "text": [
      "verbatlas=500 | skipping chunk!\n"
     ]
    },
    {
     "name": "stderr",
     "output_type": "stream",
     "text": [
      "percentage: 1.0000 (index=5500): : 5501it [04:27, 20.54it/s]"
     ]
    },
    {
     "name": "stdout",
     "output_type": "stream",
     "text": [
      "skipped 19 sentences out of 5501\n"
     ]
    },
    {
     "name": "stderr",
     "output_type": "stream",
     "text": [
      "\n"
     ]
    }
   ],
   "source": [
    "dataset_en_generated = generate_data(dataset_en, verbatlas_dependency_url, lang=\"EN\")"
   ]
  },
  {
   "cell_type": "code",
   "execution_count": 71,
   "metadata": {},
   "outputs": [],
   "source": [
    "import json\n",
    "\n",
    "with open('../../../../data/EN/train_autogenerated.json', 'w') as outfile:\n",
    "    json.dump(dataset_en_generated, outfile, indent=4)"
   ]
  },
  {
   "cell_type": "markdown",
   "metadata": {},
   "source": [
    "# Tests"
   ]
  },
  {
   "cell_type": "code",
   "execution_count": 84,
   "metadata": {},
   "outputs": [
    {
     "name": "stderr",
     "output_type": "stream",
     "text": [
      "percentage: 1.0000 (index=0): : 1it [00:00,  6.46it/s]"
     ]
    },
    {
     "name": "stdout",
     "output_type": "stream",
     "text": [
      "skipped 0 sentences out of 1\n"
     ]
    },
    {
     "name": "stderr",
     "output_type": "stream",
     "text": [
      "\n"
     ]
    }
   ],
   "source": [
    "ex_out = generate_data({'r_i':example_input}, verbatlas_dependency_url, lang=\"EN\")['r_i']"
   ]
  },
  {
   "cell_type": "code",
   "execution_count": 86,
   "metadata": {},
   "outputs": [
    {
     "name": "stdout",
     "output_type": "stream",
     "text": [
      "{'words': ['It', 'also', 'recommends', 'that', 'the', 'authorities', 'take', 'appropriate', 'measures', 'to', 'meet', 'the', 'specific', 'educational', 'needs', 'of', 'Roma', 'children', '.'], 'predicates': ['_', '_', 'PROPOSE', '_', '_', '_', 'CARRY-OUT-ACTION', '_', '_', '_', 'SATISFY_FULFILL', '_', '_', '_', '_', '_', '_', '_', '_'], 'roles': {'2': ['_', 'agent', '_', 'topic', '_', '_', '_', '_', '_', '_', '_', '_', '_', '_', '_', '_', '_', '_', '_'], '6': ['_', '_', '_', '_', '_', 'agent', '_', '_', 'patient', 'goal', '_', '_', '_', '_', '_', '_', '_', '_', '_'], '10': ['_', '_', '_', '_', '_', '_', '_', '_', '_', '_', '_', '_', '_', '_', 'theme', '_', '_', '_', '_']}}\n",
      "\n",
      "{'words': ['It', 'also', 'recommends', 'that', 'the', 'authorities', 'take', 'appropriate', 'measures', 'to', 'meet', 'the', 'specific', 'educational', 'needs', 'of', 'Roma', 'children', '.'], 'predicates': ['_', '_', 'PROPOSE', '_', '_', '_', 'TAKE', '_', '_', '_', 'SATISFY_FULFILL', '_', '_', '_', '_', '_', '_', '_', '_'], 'roles': {'2': ['agent', '_', '_', 'topic', '_', '_', '_', '_', '_', '_', '_', '_', '_', '_', '_', '_', '_', '_', '_'], '6': ['_', '_', '_', '_', '_', 'agent', '_', '_', 'theme', '_', '_', '_', '_', '_', '_', '_', '_', '_', '_'], '10': ['_', '_', '_', '_', '_', 'agent', '_', '_', '_', '_', '_', '_', '_', '_', 'theme', '_', '_', '_', '_']}}\n"
     ]
    }
   ],
   "source": [
    "print({'words': example_input['words'], 'predicates': example_input['predicates'], 'roles': example_input['roles']})\n",
    "print()\n",
    "print({'words': ex_out['words'], 'predicates': ex_out['predicates'], 'roles': ex_out['roles']})"
   ]
  },
  {
   "cell_type": "code",
   "execution_count": null,
   "metadata": {},
   "outputs": [],
   "source": [
    "dataset_en = load_data('../../../../data/EN/train.json')"
   ]
  },
  {
   "cell_type": "code",
   "execution_count": null,
   "metadata": {},
   "outputs": [
    {
     "name": "stdout",
     "output_type": "stream",
     "text": [
      "['At', 'the', 'same', 'meeting', ',', 'the', 'Committee', 'decided', ',', 'by', 'acclamation', ',', 'to', 'recommend', 'to', 'the', 'General', 'Assembly', 'that', 'it', 'appoint', 'David', 'Dutton', 'as', 'a', 'member', 'of', 'the', 'Committee', 'on', 'Contributions', 'for', 'a', 'term', 'of', 'office', 'beginning', 'on', '', '2003', 'and', 'ending', 'on', '31', 'December', '2004', '(', 'see', 'para', '.', '10', ')', '.']\n"
     ]
    }
   ],
   "source": [
    "err_phrase = {'r_i':list(dataset_en.values())[4349]}\n",
    "print(err_phrase['r_i']['words'])"
   ]
  },
  {
   "cell_type": "code",
   "execution_count": null,
   "metadata": {},
   "outputs": [
    {
     "name": "stderr",
     "output_type": "stream",
     "text": [
      "percentage: 0.0711 (index=390): : 388it [00:18, 22.23it/s]"
     ]
    },
    {
     "name": "stdout",
     "output_type": "stream",
     "text": [
      "verbatlas=500 | skipping chunk!\n"
     ]
    },
    {
     "name": "stderr",
     "output_type": "stream",
     "text": [
      "percentage: 0.0820 (index=450): : 448it [00:21, 22.45it/s]"
     ]
    },
    {
     "name": "stdout",
     "output_type": "stream",
     "text": [
      "verbatlas=500 | skipping chunk!\n"
     ]
    },
    {
     "name": "stderr",
     "output_type": "stream",
     "text": [
      "percentage: 0.2521 (index=1386): : 1385it [01:04, 23.58it/s]"
     ]
    },
    {
     "name": "stdout",
     "output_type": "stream",
     "text": [
      "verbatlas=500 | skipping chunk!\n"
     ]
    },
    {
     "name": "stderr",
     "output_type": "stream",
     "text": [
      "percentage: 0.2729 (index=1500): : 1499it [01:09, 22.68it/s]"
     ]
    },
    {
     "name": "stdout",
     "output_type": "stream",
     "text": [
      "verbatlas=500 | skipping chunk!\n",
      "verbatlas=500 | skipping chunk!\n"
     ]
    },
    {
     "name": "stderr",
     "output_type": "stream",
     "text": [
      "percentage: 0.3052 (index=1678): : 1676it [01:17, 22.86it/s]"
     ]
    },
    {
     "name": "stdout",
     "output_type": "stream",
     "text": [
      "verbatlas=500 | skipping chunk!\n"
     ]
    },
    {
     "name": "stderr",
     "output_type": "stream",
     "text": [
      "percentage: 0.3341 (index=1837): : 1835it [01:24, 24.14it/s]"
     ]
    },
    {
     "name": "stdout",
     "output_type": "stream",
     "text": [
      "verbatlas=500 | skipping chunk!\n"
     ]
    },
    {
     "name": "stderr",
     "output_type": "stream",
     "text": [
      "percentage: 0.3414 (index=1877): : 1877it [01:26, 22.93it/s]"
     ]
    },
    {
     "name": "stdout",
     "output_type": "stream",
     "text": [
      "verbatlas=500 | skipping chunk!\n"
     ]
    },
    {
     "name": "stderr",
     "output_type": "stream",
     "text": [
      "percentage: 0.5737 (index=3155): : 3155it [02:27, 13.45it/s]"
     ]
    },
    {
     "name": "stdout",
     "output_type": "stream",
     "text": [
      "verbatlas=500 | skipping chunk!\n"
     ]
    },
    {
     "name": "stderr",
     "output_type": "stream",
     "text": [
      "percentage: 0.8046 (index=4425): : 4425it [03:34, 21.99it/s]"
     ]
    },
    {
     "name": "stdout",
     "output_type": "stream",
     "text": [
      "verbatlas=500 | skipping chunk!\n"
     ]
    },
    {
     "name": "stderr",
     "output_type": "stream",
     "text": [
      "percentage: 0.8135 (index=4474): : 4473it [03:36, 21.91it/s]"
     ]
    },
    {
     "name": "stdout",
     "output_type": "stream",
     "text": [
      "verbatlas=500 | skipping chunk!\n"
     ]
    },
    {
     "name": "stderr",
     "output_type": "stream",
     "text": [
      "percentage: 0.8751 (index=4813): : 4813it [03:54, 22.02it/s]"
     ]
    },
    {
     "name": "stdout",
     "output_type": "stream",
     "text": [
      "verbatlas=500 | skipping chunk!\n"
     ]
    },
    {
     "name": "stderr",
     "output_type": "stream",
     "text": [
      "percentage: 0.8897 (index=4893): : 4891it [03:58, 22.06it/s]"
     ]
    },
    {
     "name": "stdout",
     "output_type": "stream",
     "text": [
      "verbatlas=500 | skipping chunk!\n"
     ]
    },
    {
     "name": "stderr",
     "output_type": "stream",
     "text": [
      "percentage: 0.8975 (index=4936): : 4936it [04:00, 21.29it/s]"
     ]
    },
    {
     "name": "stdout",
     "output_type": "stream",
     "text": [
      "verbatlas=500 | skipping chunk!\n"
     ]
    },
    {
     "name": "stderr",
     "output_type": "stream",
     "text": [
      "percentage: 0.9098 (index=5004): : 5002it [04:03, 22.05it/s]"
     ]
    },
    {
     "name": "stdout",
     "output_type": "stream",
     "text": [
      "verbatlas=500 | skipping chunk!\n"
     ]
    },
    {
     "name": "stderr",
     "output_type": "stream",
     "text": [
      "percentage: 0.9462 (index=5204): : 5204it [04:13, 20.56it/s]"
     ]
    },
    {
     "name": "stdout",
     "output_type": "stream",
     "text": [
      "verbatlas=500 | skipping chunk!\n",
      "verbatlas=500 | skipping chunk!\n"
     ]
    },
    {
     "name": "stderr",
     "output_type": "stream",
     "text": [
      "percentage: 0.9509 (index=5230): : 5230it [04:14, 21.73it/s]"
     ]
    },
    {
     "name": "stdout",
     "output_type": "stream",
     "text": [
      "verbatlas=500 | skipping chunk!\n"
     ]
    },
    {
     "name": "stderr",
     "output_type": "stream",
     "text": [
      "percentage: 0.9829 (index=5406): : 5404it [04:23, 20.67it/s]"
     ]
    },
    {
     "name": "stdout",
     "output_type": "stream",
     "text": [
      "verbatlas=500 | skipping chunk!\n"
     ]
    },
    {
     "name": "stderr",
     "output_type": "stream",
     "text": [
      "percentage: 1.0000 (index=5500): : 5501it [04:27, 20.54it/s]"
     ]
    },
    {
     "name": "stdout",
     "output_type": "stream",
     "text": [
      "skipped 19 sentences out of 5501\n"
     ]
    },
    {
     "name": "stderr",
     "output_type": "stream",
     "text": [
      "\n"
     ]
    }
   ],
   "source": [
    "dataset_en_generated = generate_data(dataset_en, verbatlas_dependency_url, lang=\"EN\")"
   ]
  },
  {
   "cell_type": "code",
   "execution_count": null,
   "metadata": {},
   "outputs": [],
   "source": [
    "import json\n",
    "\n",
    "with open('../../../../data/EN/train_autogenerated.json', 'w') as outfile:\n",
    "    json.dump(dataset_en_generated, outfile, indent=4)"
   ]
  }
 ],
 "metadata": {
  "interpreter": {
   "hash": "176726de92aa5f7c7bad0ace42430d0e9e67427a9b4905ef1c48cfd9a71ff23e"
  },
  "kernelspec": {
   "display_name": "Python 3.9.12 ('nlp2022-hw2')",
   "language": "python",
   "name": "python3"
  },
  "language_info": {
   "codemirror_mode": {
    "name": "ipython",
    "version": 3
   },
   "file_extension": ".py",
   "mimetype": "text/x-python",
   "name": "python",
   "nbconvert_exporter": "python",
   "pygments_lexer": "ipython3",
   "version": "3.9.12"
  },
  "orig_nbformat": 4
 },
 "nbformat": 4,
 "nbformat_minor": 2
}
