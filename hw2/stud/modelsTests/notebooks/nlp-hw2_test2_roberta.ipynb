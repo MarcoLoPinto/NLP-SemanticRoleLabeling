{
 "cells": [
  {
   "cell_type": "markdown",
   "id": "3fe2040e",
   "metadata": {
    "papermill": {
     "duration": 0.078963,
     "end_time": "2022-03-31T22:14:09.386664",
     "exception": false,
     "start_time": "2022-03-31T22:14:09.307701",
     "status": "completed"
    },
    "tags": []
   },
   "source": [
    "# Prerequisites"
   ]
  },
  {
   "cell_type": "code",
   "execution_count": 1,
   "metadata": {},
   "outputs": [
    {
     "name": "stderr",
     "output_type": "stream",
     "text": [
      "/home/marco/miniconda3/envs/nlp2022-hw2/lib/python3.9/site-packages/tqdm/auto.py:22: TqdmWarning: IProgress not found. Please update jupyter and ipywidgets. See https://ipywidgets.readthedocs.io/en/stable/user_install.html\n",
      "  from .autonotebook import tqdm as notebook_tqdm\n"
     ]
    }
   ],
   "source": [
    "import os, sys\n",
    "\n",
    "import numpy as np\n",
    "import tqdm\n",
    "import torch"
   ]
  },
  {
   "cell_type": "markdown",
   "id": "5424a631",
   "metadata": {
    "papermill": {
     "duration": 0.049244,
     "end_time": "2022-03-31T22:14:12.552634",
     "exception": false,
     "start_time": "2022-03-31T22:14:12.503390",
     "status": "completed"
    },
    "tags": []
   },
   "source": [
    "Important paths for the notebook:"
   ]
  },
  {
   "cell_type": "code",
   "execution_count": 2,
   "metadata": {},
   "outputs": [],
   "source": [
    "app_root = '../../../../'\n",
    "test_name = 'test2_roberta'\n",
    "datasets_path = os.path.join(app_root, 'data')\n",
    "model_dir_path = os.path.join(app_root, 'model', test_name)\n",
    "\n",
    "datasets_paths = {}\n",
    "for lang in os.listdir(datasets_path):\n",
    "    dataset_lang_path = os.path.join(datasets_path, lang)\n",
    "    if os.path.isdir(dataset_lang_path):\n",
    "        datasets_paths[lang] = {}\n",
    "        for d_type in os.listdir(dataset_lang_path):\n",
    "            d_name = d_type.split('.')[0]\n",
    "            datasets_paths[lang][d_name] = os.path.join(dataset_lang_path, d_type)"
   ]
  },
  {
   "cell_type": "code",
   "execution_count": 3,
   "metadata": {},
   "outputs": [
    {
     "data": {
      "text/plain": [
       "'cuda'"
      ]
     },
     "execution_count": 3,
     "metadata": {},
     "output_type": "execute_result"
    }
   ],
   "source": [
    "sys.path.append('../../../')\n",
    "\n",
    "%load_ext autoreload\n",
    "%autoreload 2\n",
    "\n",
    "device = 'cuda' if torch.cuda.is_available() else 'cpu'\n",
    "device"
   ]
  },
  {
   "cell_type": "markdown",
   "id": "c7bc95ee",
   "metadata": {
    "papermill": {
     "duration": 0.048851,
     "end_time": "2022-03-31T22:14:13.015246",
     "exception": false,
     "start_time": "2022-03-31T22:14:12.966395",
     "status": "completed"
    },
    "tags": []
   },
   "source": [
    "Setting the seed for reproducibility:"
   ]
  },
  {
   "cell_type": "code",
   "execution_count": 4,
   "metadata": {},
   "outputs": [],
   "source": [
    "SEED = 28\n",
    "\n",
    "# random.seed(SEED) # not used\n",
    "np.random.seed(SEED)\n",
    "torch.manual_seed(SEED)\n",
    "torch.backends.cudnn.deterministic = True"
   ]
  },
  {
   "cell_type": "code",
   "execution_count": 5,
   "metadata": {},
   "outputs": [],
   "source": [
    "global_params = {\n",
    "    'batch_size': 32,\n",
    "    'PAD_TOKEN': '<pad>',\n",
    "    'UNK_TOKEN': '<unk>',\n",
    "    'transformer_name': \"xlm-roberta-base\",\n",
    "}"
   ]
  },
  {
   "cell_type": "markdown",
   "id": "5a9214a0",
   "metadata": {
    "papermill": {
     "duration": 0.049393,
     "end_time": "2022-03-31T22:14:13.226777",
     "exception": false,
     "start_time": "2022-03-31T22:14:13.177384",
     "status": "completed"
    },
    "tags": []
   },
   "source": [
    "# Dataset"
   ]
  },
  {
   "cell_type": "markdown",
   "metadata": {},
   "source": [
    "I will use RoBERTa"
   ]
  },
  {
   "cell_type": "code",
   "execution_count": 6,
   "metadata": {},
   "outputs": [],
   "source": [
    "from stud.modelsTests.dataset.SRLDataset_transformer import SRLDataset_transformer"
   ]
  },
  {
   "cell_type": "code",
   "execution_count": 7,
   "metadata": {},
   "outputs": [],
   "source": [
    "dataset_train_en = SRLDataset_transformer(  datasets_paths['EN']['train'], \n",
    "                                            tokenizer = global_params['transformer_name'],\n",
    "                                            baselines_file_path = os.path.join(app_root,'data/baselines.json'))\n",
    "dataset_train_es = SRLDataset_transformer(  datasets_paths['ES']['train'], \n",
    "                                            tokenizer = dataset_train_en.tokenizer,\n",
    "                                            labels = dataset_train_en.labels)\n",
    "dataset_train_fr = SRLDataset_transformer(  datasets_paths['FR']['train'], \n",
    "                                            tokenizer = dataset_train_en.tokenizer,\n",
    "                                            labels = dataset_train_en.labels)"
   ]
  },
  {
   "cell_type": "code",
   "execution_count": 8,
   "metadata": {},
   "outputs": [],
   "source": [
    "SRLDataset_transformer.save_dict(\n",
    "    os.path.join(model_dir_path, 'labels.npy'), \n",
    "    dataset_train_en.labels)"
   ]
  },
  {
   "cell_type": "code",
   "execution_count": 9,
   "metadata": {},
   "outputs": [],
   "source": [
    "dataset_dev_en = SRLDataset_transformer(datasets_paths['EN']['dev'], \n",
    "                                        tokenizer = dataset_train_en.tokenizer,\n",
    "                                        labels = dataset_train_en.labels)"
   ]
  },
  {
   "cell_type": "code",
   "execution_count": 10,
   "metadata": {},
   "outputs": [
    {
     "data": {
      "text/plain": [
       "dict_keys(['dependency_heads', 'dependency_relations', 'lemmas', 'pos_tags', 'predicates', 'roles', 'words', 'predicate_position', 'predicate_label', 'predicate_word'])"
      ]
     },
     "execution_count": 10,
     "metadata": {},
     "output_type": "execute_result"
    }
   ],
   "source": [
    "next(iter(dataset_train_en)).keys()"
   ]
  },
  {
   "cell_type": "code",
   "execution_count": 11,
   "metadata": {},
   "outputs": [],
   "source": [
    "global_params.update({ \n",
    "    'n_roles_labels': len(dataset_train_en.labels['id_to_roles']),\n",
    "    'n_predicates_labels': len(dataset_train_en.labels['id_to_predicates'])\n",
    "})"
   ]
  },
  {
   "cell_type": "markdown",
   "id": "15baf7b6",
   "metadata": {},
   "source": [
    "Saving global variables..."
   ]
  },
  {
   "cell_type": "code",
   "execution_count": 12,
   "metadata": {},
   "outputs": [],
   "source": [
    "np.save(os.path.join(model_dir_path, 'global_params.npy'), global_params)"
   ]
  },
  {
   "cell_type": "markdown",
   "metadata": {},
   "source": [
    "# DataLoader"
   ]
  },
  {
   "cell_type": "code",
   "execution_count": 13,
   "metadata": {},
   "outputs": [],
   "source": [
    "from torch.utils.data import DataLoader"
   ]
  },
  {
   "cell_type": "code",
   "execution_count": 14,
   "metadata": {},
   "outputs": [],
   "source": [
    "import os\n",
    "os.environ[\"TOKENIZERS_PARALLELISM\"] = \"false\"\n",
    "num_workers = 4"
   ]
  },
  {
   "cell_type": "code",
   "execution_count": 15,
   "metadata": {},
   "outputs": [],
   "source": [
    "dataloader_train_en = DataLoader(\n",
    "    dataset_train_en,\n",
    "    batch_size=global_params['batch_size'],\n",
    "    collate_fn=dataset_train_en.create_collate_fn(),\n",
    "    num_workers=num_workers,\n",
    "    shuffle=True,\n",
    ")"
   ]
  },
  {
   "cell_type": "code",
   "execution_count": 16,
   "metadata": {},
   "outputs": [],
   "source": [
    "dataloader_dev_en = DataLoader(\n",
    "    dataset_dev_en,\n",
    "    batch_size=global_params['batch_size'],\n",
    "    collate_fn=dataset_dev_en.create_collate_fn(),\n",
    "    num_workers=num_workers,\n",
    "    shuffle=False,\n",
    ")"
   ]
  },
  {
   "cell_type": "code",
   "execution_count": 17,
   "metadata": {},
   "outputs": [],
   "source": [
    "for e in dataloader_dev_en:\n",
    "    ex_in = e\n",
    "    break"
   ]
  },
  {
   "cell_type": "code",
   "execution_count": 18,
   "metadata": {},
   "outputs": [
    {
     "data": {
      "text/plain": [
       "dict_keys(['input_ids', 'attention_mask', 'roles_formatted', 'matrix_subwords', 'output_mask', 'predicates', 'predicate_position', 'predicate_position_formatted', 'pos_tags'])"
      ]
     },
     "execution_count": 18,
     "metadata": {},
     "output_type": "execute_result"
    }
   ],
   "source": [
    "ex_in.keys()"
   ]
  },
  {
   "cell_type": "code",
   "execution_count": 19,
   "metadata": {},
   "outputs": [
    {
     "name": "stdout",
     "output_type": "stream",
     "text": [
      "tensor([     0,    581, 148855,  67330,      7,    450,     70,  22836,  19085,\n",
      "          8783,   1286,  35743,     47,  64559,     18,  84382,     70,  43032,\n",
      "           111,     70,  27165, 232725, 184641,      6,      4,  48031,    136,\n",
      "           187,   4806,  84616,   1672,  14135,  38109,      6,      5,      2,\n",
      "             2,  67330,      7,      2,      1,      1,      1,      1,      1,\n",
      "             1,      1,      1,      1,      1,      1,      1,      1,      1,\n",
      "             1,      1,      1,      1,      1,      1,      1,      1,      1,\n",
      "             1,      1,      1,      1,      1,      1,      1,      1,      1,\n",
      "             1,      1,      1,      1,      1,      1,      1,      1,      1,\n",
      "             1,      1,      1]) torch.Size([32, 84])\n",
      "tensor([0, 1, 1, 1, 0, 1, 1, 1, 1, 1, 1, 1, 1, 1, 0, 0, 1, 1, 1, 1, 1, 1, 1, 1,\n",
      "        0, 1, 1, 1, 0, 1, 1, 1, 1, 1, 0, 0, 0, 0, 0, 0, 0, 0, 0, 0, 0, 0, 0, 0,\n",
      "        0, 0, 0, 0, 0, 0, 0, 0, 0, 0, 0, 0, 0, 0, 0, 0, 0, 0, 0, 0, 0, 0, 0, 0,\n",
      "        0, 0, 0, 0, 0, 0, 0, 0, 0, 0, 0, 0]) torch.Size([32, 84])\n",
      "tensor([-1,  0,  1,  0, -1, 26,  0,  0,  0,  0,  0,  0,  0,  0, -1, -1,  0,  0,\n",
      "         0,  0,  0,  0,  0,  0, -1,  0,  0,  0, -1,  0,  0,  0,  0,  0, -1, -1,\n",
      "        -1, -1, -1, -1, -1, -1, -1, -1, -1, -1, -1, -1, -1, -1, -1, -1, -1, -1,\n",
      "        -1, -1, -1, -1, -1, -1, -1, -1, -1, -1, -1, -1, -1, -1, -1, -1, -1, -1,\n",
      "        -1, -1, -1, -1, -1, -1, -1, -1, -1, -1, -1, -1]) torch.Size([32, 84])\n"
     ]
    }
   ],
   "source": [
    "print(ex_in['input_ids'][0], ex_in['input_ids'].shape)\n",
    "print(ex_in['output_mask'][0], ex_in['output_mask'].shape)\n",
    "print(ex_in['roles_formatted'][0], ex_in['roles_formatted'].shape)"
   ]
  },
  {
   "cell_type": "code",
   "execution_count": 20,
   "metadata": {},
   "outputs": [
    {
     "name": "stdout",
     "output_type": "stream",
     "text": [
      "tensor([ -1,   0,   0, 297,  -1,   0,   0,   0,   0,   0,   0,   0,   0,   0,\n",
      "         -1,  -1,   0,   0,   0,   0,   0,   0,   0,   0,  -1,   0,   0,   0,\n",
      "         -1,   0,   0,   0,   0,   0,  -1,  -1,  -1,  -1,  -1,  -1,  -1,  -1,\n",
      "         -1,  -1,  -1,  -1,  -1,  -1,  -1,  -1,  -1,  -1,  -1,  -1,  -1,  -1,\n",
      "         -1,  -1,  -1,  -1,  -1,  -1,  -1,  -1,  -1,  -1,  -1,  -1,  -1,  -1,\n",
      "         -1,  -1,  -1,  -1,  -1,  -1,  -1,  -1,  -1,  -1,  -1,  -1,  -1,  -1]) torch.Size([32, 84])\n",
      "tensor(3) torch.Size([32])\n"
     ]
    }
   ],
   "source": [
    "print(ex_in['predicates'][0], ex_in['predicates'].shape)\n",
    "print(ex_in['predicate_position_formatted'][0], ex_in['predicate_position_formatted'].shape)"
   ]
  },
  {
   "cell_type": "code",
   "execution_count": 21,
   "metadata": {},
   "outputs": [
    {
     "name": "stdout",
     "output_type": "stream",
     "text": [
      "torch.Size([32, 84, 84]) \n",
      " tensor([[0, 0, 0, 0, 0, 0, 0, 0, 0, 0],\n",
      "        [0, 1, 0, 0, 0, 0, 0, 0, 0, 0],\n",
      "        [0, 0, 1, 0, 0, 0, 0, 0, 0, 0],\n",
      "        [0, 0, 0, 1, 1, 0, 0, 0, 0, 0],\n",
      "        [0, 0, 0, 0, 0, 0, 0, 0, 0, 0],\n",
      "        [0, 0, 0, 0, 0, 1, 0, 0, 0, 0]])\n"
     ]
    }
   ],
   "source": [
    "torch.set_printoptions(edgeitems=80)\n",
    "print(ex_in['matrix_subwords'].shape,'\\n' , ex_in['matrix_subwords'][0][0:6,:10]) # word_ids[0:6] = [None, 0, 1, 2, 2, 3]\n",
    "torch.set_printoptions(edgeitems=3)"
   ]
  },
  {
   "cell_type": "markdown",
   "metadata": {},
   "source": [
    "# Printing model"
   ]
  },
  {
   "cell_type": "code",
   "execution_count": 22,
   "metadata": {},
   "outputs": [],
   "source": [
    "from torchinfo import summary\n",
    "\n",
    "def print_summary(model):\n",
    "    print(model)\n",
    "    print('----------------------')\n",
    "    p = sum(p.numel() for p in model.parameters())\n",
    "    tp = sum(p.numel() for p in model.parameters() if p.requires_grad)\n",
    "    ntp = p - tp\n",
    "    print('parameters:', f'{p:,}')\n",
    "    print('trainable parameters:', f'{tp:,}')\n",
    "    print('non-trainable parameters:', f'{ntp:,}')\n",
    "\n",
    "import matplotlib.pyplot as plt\n",
    "\n",
    "def display_history(dict_history):\n",
    "    plt.figure(figsize=(8,8))\n",
    "    for name, hist in dict_history.items():\n",
    "        plt.plot([i for i in range(len(hist))], hist, label=name)\n",
    "    plt.xlabel('epochs')\n",
    "    plt.ylabel('value')\n",
    "    plt.title('Model learning')\n",
    "    plt.legend()\n",
    "    plt.show()"
   ]
  },
  {
   "cell_type": "code",
   "execution_count": 23,
   "metadata": {},
   "outputs": [],
   "source": [
    "loss_function = torch.nn.CrossEntropyLoss(ignore_index = dataset_train_en.labels['roles_pad_id']) # !"
   ]
  },
  {
   "cell_type": "markdown",
   "metadata": {},
   "source": [
    "# Training the XLM-RoBERTa based model"
   ]
  },
  {
   "cell_type": "code",
   "execution_count": 24,
   "metadata": {},
   "outputs": [
    {
     "name": "stderr",
     "output_type": "stream",
     "text": [
      "Some weights of the model checkpoint at xlm-roberta-base were not used when initializing XLMRobertaModel: ['lm_head.layer_norm.weight', 'lm_head.bias', 'lm_head.decoder.weight', 'lm_head.layer_norm.bias', 'lm_head.dense.bias', 'lm_head.dense.weight']\n",
      "- This IS expected if you are initializing XLMRobertaModel from the checkpoint of a model trained on another task or with another architecture (e.g. initializing a BertForSequenceClassification model from a BertForPreTraining model).\n",
      "- This IS NOT expected if you are initializing XLMRobertaModel from the checkpoint of a model that you expect to be exactly identical (initializing a BertForSequenceClassification model from a BertForSequenceClassification model).\n"
     ]
    }
   ],
   "source": [
    "from stud.modelsTests.model_arg_iden_class_part.Model_aic_transformer_simple import ArgIdenClassModel\n",
    "import torch.optim as optim\n",
    "\n",
    "final_model = ArgIdenClassModel(\n",
    "    language = 'EN',\n",
    "    device = device,\n",
    "    model_load_weights = False,\n",
    "    loss_fn = loss_function,\n",
    "    fine_tune_transformer=True,\n",
    "    saves_path_folder = test_name,\n",
    ")\n",
    "\n",
    "optimizer = optim.SGD(final_model.model.parameters(), lr=0.0016, momentum=0.9)\n",
    "# optimizer = optim.Adam(final_model.model.parameters(), lr=0.0016)"
   ]
  },
  {
   "cell_type": "code",
   "execution_count": 25,
   "metadata": {},
   "outputs": [
    {
     "name": "stdout",
     "output_type": "stream",
     "text": [
      "Net_aic_transformer_simple(\n",
      "  (transformer_model): XLMRobertaModel(\n",
      "    (embeddings): RobertaEmbeddings(\n",
      "      (word_embeddings): Embedding(250002, 768, padding_idx=1)\n",
      "      (position_embeddings): Embedding(514, 768, padding_idx=1)\n",
      "      (token_type_embeddings): Embedding(1, 768)\n",
      "      (LayerNorm): LayerNorm((768,), eps=1e-05, elementwise_affine=True)\n",
      "      (dropout): Dropout(p=0.1, inplace=False)\n",
      "    )\n",
      "    (encoder): RobertaEncoder(\n",
      "      (layer): ModuleList(\n",
      "        (0): RobertaLayer(\n",
      "          (attention): RobertaAttention(\n",
      "            (self): RobertaSelfAttention(\n",
      "              (query): Linear(in_features=768, out_features=768, bias=True)\n",
      "              (key): Linear(in_features=768, out_features=768, bias=True)\n",
      "              (value): Linear(in_features=768, out_features=768, bias=True)\n",
      "              (dropout): Dropout(p=0.1, inplace=False)\n",
      "            )\n",
      "            (output): RobertaSelfOutput(\n",
      "              (dense): Linear(in_features=768, out_features=768, bias=True)\n",
      "              (LayerNorm): LayerNorm((768,), eps=1e-05, elementwise_affine=True)\n",
      "              (dropout): Dropout(p=0.1, inplace=False)\n",
      "            )\n",
      "          )\n",
      "          (intermediate): RobertaIntermediate(\n",
      "            (dense): Linear(in_features=768, out_features=3072, bias=True)\n",
      "            (intermediate_act_fn): GELUActivation()\n",
      "          )\n",
      "          (output): RobertaOutput(\n",
      "            (dense): Linear(in_features=3072, out_features=768, bias=True)\n",
      "            (LayerNorm): LayerNorm((768,), eps=1e-05, elementwise_affine=True)\n",
      "            (dropout): Dropout(p=0.1, inplace=False)\n",
      "          )\n",
      "        )\n",
      "        (1): RobertaLayer(\n",
      "          (attention): RobertaAttention(\n",
      "            (self): RobertaSelfAttention(\n",
      "              (query): Linear(in_features=768, out_features=768, bias=True)\n",
      "              (key): Linear(in_features=768, out_features=768, bias=True)\n",
      "              (value): Linear(in_features=768, out_features=768, bias=True)\n",
      "              (dropout): Dropout(p=0.1, inplace=False)\n",
      "            )\n",
      "            (output): RobertaSelfOutput(\n",
      "              (dense): Linear(in_features=768, out_features=768, bias=True)\n",
      "              (LayerNorm): LayerNorm((768,), eps=1e-05, elementwise_affine=True)\n",
      "              (dropout): Dropout(p=0.1, inplace=False)\n",
      "            )\n",
      "          )\n",
      "          (intermediate): RobertaIntermediate(\n",
      "            (dense): Linear(in_features=768, out_features=3072, bias=True)\n",
      "            (intermediate_act_fn): GELUActivation()\n",
      "          )\n",
      "          (output): RobertaOutput(\n",
      "            (dense): Linear(in_features=3072, out_features=768, bias=True)\n",
      "            (LayerNorm): LayerNorm((768,), eps=1e-05, elementwise_affine=True)\n",
      "            (dropout): Dropout(p=0.1, inplace=False)\n",
      "          )\n",
      "        )\n",
      "        (2): RobertaLayer(\n",
      "          (attention): RobertaAttention(\n",
      "            (self): RobertaSelfAttention(\n",
      "              (query): Linear(in_features=768, out_features=768, bias=True)\n",
      "              (key): Linear(in_features=768, out_features=768, bias=True)\n",
      "              (value): Linear(in_features=768, out_features=768, bias=True)\n",
      "              (dropout): Dropout(p=0.1, inplace=False)\n",
      "            )\n",
      "            (output): RobertaSelfOutput(\n",
      "              (dense): Linear(in_features=768, out_features=768, bias=True)\n",
      "              (LayerNorm): LayerNorm((768,), eps=1e-05, elementwise_affine=True)\n",
      "              (dropout): Dropout(p=0.1, inplace=False)\n",
      "            )\n",
      "          )\n",
      "          (intermediate): RobertaIntermediate(\n",
      "            (dense): Linear(in_features=768, out_features=3072, bias=True)\n",
      "            (intermediate_act_fn): GELUActivation()\n",
      "          )\n",
      "          (output): RobertaOutput(\n",
      "            (dense): Linear(in_features=3072, out_features=768, bias=True)\n",
      "            (LayerNorm): LayerNorm((768,), eps=1e-05, elementwise_affine=True)\n",
      "            (dropout): Dropout(p=0.1, inplace=False)\n",
      "          )\n",
      "        )\n",
      "        (3): RobertaLayer(\n",
      "          (attention): RobertaAttention(\n",
      "            (self): RobertaSelfAttention(\n",
      "              (query): Linear(in_features=768, out_features=768, bias=True)\n",
      "              (key): Linear(in_features=768, out_features=768, bias=True)\n",
      "              (value): Linear(in_features=768, out_features=768, bias=True)\n",
      "              (dropout): Dropout(p=0.1, inplace=False)\n",
      "            )\n",
      "            (output): RobertaSelfOutput(\n",
      "              (dense): Linear(in_features=768, out_features=768, bias=True)\n",
      "              (LayerNorm): LayerNorm((768,), eps=1e-05, elementwise_affine=True)\n",
      "              (dropout): Dropout(p=0.1, inplace=False)\n",
      "            )\n",
      "          )\n",
      "          (intermediate): RobertaIntermediate(\n",
      "            (dense): Linear(in_features=768, out_features=3072, bias=True)\n",
      "            (intermediate_act_fn): GELUActivation()\n",
      "          )\n",
      "          (output): RobertaOutput(\n",
      "            (dense): Linear(in_features=3072, out_features=768, bias=True)\n",
      "            (LayerNorm): LayerNorm((768,), eps=1e-05, elementwise_affine=True)\n",
      "            (dropout): Dropout(p=0.1, inplace=False)\n",
      "          )\n",
      "        )\n",
      "        (4): RobertaLayer(\n",
      "          (attention): RobertaAttention(\n",
      "            (self): RobertaSelfAttention(\n",
      "              (query): Linear(in_features=768, out_features=768, bias=True)\n",
      "              (key): Linear(in_features=768, out_features=768, bias=True)\n",
      "              (value): Linear(in_features=768, out_features=768, bias=True)\n",
      "              (dropout): Dropout(p=0.1, inplace=False)\n",
      "            )\n",
      "            (output): RobertaSelfOutput(\n",
      "              (dense): Linear(in_features=768, out_features=768, bias=True)\n",
      "              (LayerNorm): LayerNorm((768,), eps=1e-05, elementwise_affine=True)\n",
      "              (dropout): Dropout(p=0.1, inplace=False)\n",
      "            )\n",
      "          )\n",
      "          (intermediate): RobertaIntermediate(\n",
      "            (dense): Linear(in_features=768, out_features=3072, bias=True)\n",
      "            (intermediate_act_fn): GELUActivation()\n",
      "          )\n",
      "          (output): RobertaOutput(\n",
      "            (dense): Linear(in_features=3072, out_features=768, bias=True)\n",
      "            (LayerNorm): LayerNorm((768,), eps=1e-05, elementwise_affine=True)\n",
      "            (dropout): Dropout(p=0.1, inplace=False)\n",
      "          )\n",
      "        )\n",
      "        (5): RobertaLayer(\n",
      "          (attention): RobertaAttention(\n",
      "            (self): RobertaSelfAttention(\n",
      "              (query): Linear(in_features=768, out_features=768, bias=True)\n",
      "              (key): Linear(in_features=768, out_features=768, bias=True)\n",
      "              (value): Linear(in_features=768, out_features=768, bias=True)\n",
      "              (dropout): Dropout(p=0.1, inplace=False)\n",
      "            )\n",
      "            (output): RobertaSelfOutput(\n",
      "              (dense): Linear(in_features=768, out_features=768, bias=True)\n",
      "              (LayerNorm): LayerNorm((768,), eps=1e-05, elementwise_affine=True)\n",
      "              (dropout): Dropout(p=0.1, inplace=False)\n",
      "            )\n",
      "          )\n",
      "          (intermediate): RobertaIntermediate(\n",
      "            (dense): Linear(in_features=768, out_features=3072, bias=True)\n",
      "            (intermediate_act_fn): GELUActivation()\n",
      "          )\n",
      "          (output): RobertaOutput(\n",
      "            (dense): Linear(in_features=3072, out_features=768, bias=True)\n",
      "            (LayerNorm): LayerNorm((768,), eps=1e-05, elementwise_affine=True)\n",
      "            (dropout): Dropout(p=0.1, inplace=False)\n",
      "          )\n",
      "        )\n",
      "        (6): RobertaLayer(\n",
      "          (attention): RobertaAttention(\n",
      "            (self): RobertaSelfAttention(\n",
      "              (query): Linear(in_features=768, out_features=768, bias=True)\n",
      "              (key): Linear(in_features=768, out_features=768, bias=True)\n",
      "              (value): Linear(in_features=768, out_features=768, bias=True)\n",
      "              (dropout): Dropout(p=0.1, inplace=False)\n",
      "            )\n",
      "            (output): RobertaSelfOutput(\n",
      "              (dense): Linear(in_features=768, out_features=768, bias=True)\n",
      "              (LayerNorm): LayerNorm((768,), eps=1e-05, elementwise_affine=True)\n",
      "              (dropout): Dropout(p=0.1, inplace=False)\n",
      "            )\n",
      "          )\n",
      "          (intermediate): RobertaIntermediate(\n",
      "            (dense): Linear(in_features=768, out_features=3072, bias=True)\n",
      "            (intermediate_act_fn): GELUActivation()\n",
      "          )\n",
      "          (output): RobertaOutput(\n",
      "            (dense): Linear(in_features=3072, out_features=768, bias=True)\n",
      "            (LayerNorm): LayerNorm((768,), eps=1e-05, elementwise_affine=True)\n",
      "            (dropout): Dropout(p=0.1, inplace=False)\n",
      "          )\n",
      "        )\n",
      "        (7): RobertaLayer(\n",
      "          (attention): RobertaAttention(\n",
      "            (self): RobertaSelfAttention(\n",
      "              (query): Linear(in_features=768, out_features=768, bias=True)\n",
      "              (key): Linear(in_features=768, out_features=768, bias=True)\n",
      "              (value): Linear(in_features=768, out_features=768, bias=True)\n",
      "              (dropout): Dropout(p=0.1, inplace=False)\n",
      "            )\n",
      "            (output): RobertaSelfOutput(\n",
      "              (dense): Linear(in_features=768, out_features=768, bias=True)\n",
      "              (LayerNorm): LayerNorm((768,), eps=1e-05, elementwise_affine=True)\n",
      "              (dropout): Dropout(p=0.1, inplace=False)\n",
      "            )\n",
      "          )\n",
      "          (intermediate): RobertaIntermediate(\n",
      "            (dense): Linear(in_features=768, out_features=3072, bias=True)\n",
      "            (intermediate_act_fn): GELUActivation()\n",
      "          )\n",
      "          (output): RobertaOutput(\n",
      "            (dense): Linear(in_features=3072, out_features=768, bias=True)\n",
      "            (LayerNorm): LayerNorm((768,), eps=1e-05, elementwise_affine=True)\n",
      "            (dropout): Dropout(p=0.1, inplace=False)\n",
      "          )\n",
      "        )\n",
      "        (8): RobertaLayer(\n",
      "          (attention): RobertaAttention(\n",
      "            (self): RobertaSelfAttention(\n",
      "              (query): Linear(in_features=768, out_features=768, bias=True)\n",
      "              (key): Linear(in_features=768, out_features=768, bias=True)\n",
      "              (value): Linear(in_features=768, out_features=768, bias=True)\n",
      "              (dropout): Dropout(p=0.1, inplace=False)\n",
      "            )\n",
      "            (output): RobertaSelfOutput(\n",
      "              (dense): Linear(in_features=768, out_features=768, bias=True)\n",
      "              (LayerNorm): LayerNorm((768,), eps=1e-05, elementwise_affine=True)\n",
      "              (dropout): Dropout(p=0.1, inplace=False)\n",
      "            )\n",
      "          )\n",
      "          (intermediate): RobertaIntermediate(\n",
      "            (dense): Linear(in_features=768, out_features=3072, bias=True)\n",
      "            (intermediate_act_fn): GELUActivation()\n",
      "          )\n",
      "          (output): RobertaOutput(\n",
      "            (dense): Linear(in_features=3072, out_features=768, bias=True)\n",
      "            (LayerNorm): LayerNorm((768,), eps=1e-05, elementwise_affine=True)\n",
      "            (dropout): Dropout(p=0.1, inplace=False)\n",
      "          )\n",
      "        )\n",
      "        (9): RobertaLayer(\n",
      "          (attention): RobertaAttention(\n",
      "            (self): RobertaSelfAttention(\n",
      "              (query): Linear(in_features=768, out_features=768, bias=True)\n",
      "              (key): Linear(in_features=768, out_features=768, bias=True)\n",
      "              (value): Linear(in_features=768, out_features=768, bias=True)\n",
      "              (dropout): Dropout(p=0.1, inplace=False)\n",
      "            )\n",
      "            (output): RobertaSelfOutput(\n",
      "              (dense): Linear(in_features=768, out_features=768, bias=True)\n",
      "              (LayerNorm): LayerNorm((768,), eps=1e-05, elementwise_affine=True)\n",
      "              (dropout): Dropout(p=0.1, inplace=False)\n",
      "            )\n",
      "          )\n",
      "          (intermediate): RobertaIntermediate(\n",
      "            (dense): Linear(in_features=768, out_features=3072, bias=True)\n",
      "            (intermediate_act_fn): GELUActivation()\n",
      "          )\n",
      "          (output): RobertaOutput(\n",
      "            (dense): Linear(in_features=3072, out_features=768, bias=True)\n",
      "            (LayerNorm): LayerNorm((768,), eps=1e-05, elementwise_affine=True)\n",
      "            (dropout): Dropout(p=0.1, inplace=False)\n",
      "          )\n",
      "        )\n",
      "        (10): RobertaLayer(\n",
      "          (attention): RobertaAttention(\n",
      "            (self): RobertaSelfAttention(\n",
      "              (query): Linear(in_features=768, out_features=768, bias=True)\n",
      "              (key): Linear(in_features=768, out_features=768, bias=True)\n",
      "              (value): Linear(in_features=768, out_features=768, bias=True)\n",
      "              (dropout): Dropout(p=0.1, inplace=False)\n",
      "            )\n",
      "            (output): RobertaSelfOutput(\n",
      "              (dense): Linear(in_features=768, out_features=768, bias=True)\n",
      "              (LayerNorm): LayerNorm((768,), eps=1e-05, elementwise_affine=True)\n",
      "              (dropout): Dropout(p=0.1, inplace=False)\n",
      "            )\n",
      "          )\n",
      "          (intermediate): RobertaIntermediate(\n",
      "            (dense): Linear(in_features=768, out_features=3072, bias=True)\n",
      "            (intermediate_act_fn): GELUActivation()\n",
      "          )\n",
      "          (output): RobertaOutput(\n",
      "            (dense): Linear(in_features=3072, out_features=768, bias=True)\n",
      "            (LayerNorm): LayerNorm((768,), eps=1e-05, elementwise_affine=True)\n",
      "            (dropout): Dropout(p=0.1, inplace=False)\n",
      "          )\n",
      "        )\n",
      "        (11): RobertaLayer(\n",
      "          (attention): RobertaAttention(\n",
      "            (self): RobertaSelfAttention(\n",
      "              (query): Linear(in_features=768, out_features=768, bias=True)\n",
      "              (key): Linear(in_features=768, out_features=768, bias=True)\n",
      "              (value): Linear(in_features=768, out_features=768, bias=True)\n",
      "              (dropout): Dropout(p=0.1, inplace=False)\n",
      "            )\n",
      "            (output): RobertaSelfOutput(\n",
      "              (dense): Linear(in_features=768, out_features=768, bias=True)\n",
      "              (LayerNorm): LayerNorm((768,), eps=1e-05, elementwise_affine=True)\n",
      "              (dropout): Dropout(p=0.1, inplace=False)\n",
      "            )\n",
      "          )\n",
      "          (intermediate): RobertaIntermediate(\n",
      "            (dense): Linear(in_features=768, out_features=3072, bias=True)\n",
      "            (intermediate_act_fn): GELUActivation()\n",
      "          )\n",
      "          (output): RobertaOutput(\n",
      "            (dense): Linear(in_features=3072, out_features=768, bias=True)\n",
      "            (LayerNorm): LayerNorm((768,), eps=1e-05, elementwise_affine=True)\n",
      "            (dropout): Dropout(p=0.1, inplace=False)\n",
      "          )\n",
      "        )\n",
      "      )\n",
      "    )\n",
      "    (pooler): RobertaPooler(\n",
      "      (dense): Linear(in_features=768, out_features=768, bias=True)\n",
      "      (activation): Tanh()\n",
      "    )\n",
      "  )\n",
      "  (dropout): Dropout(p=0.2, inplace=False)\n",
      "  (classifier): Linear(in_features=768, out_features=28, bias=True)\n",
      "  (loss_fn): CrossEntropyLoss()\n",
      ")\n",
      "----------------------\n",
      "parameters: 278,065,180\n",
      "trainable parameters: 278,065,180\n",
      "non-trainable parameters: 0\n"
     ]
    }
   ],
   "source": [
    "print_summary(final_model.model)"
   ]
  },
  {
   "cell_type": "code",
   "execution_count": 26,
   "metadata": {},
   "outputs": [],
   "source": [
    "history = {}"
   ]
  },
  {
   "cell_type": "code",
   "execution_count": 27,
   "metadata": {},
   "outputs": [
    {
     "name": "stdout",
     "output_type": "stream",
     "text": [
      "Epoch   0 => avg_loss: 0.282982\n",
      "# Validation loss => 0.130807 | f1-score: arg_iden = 0.790057 arg_class = 0.485312 #\n",
      "Epoch   1 => avg_loss: 0.131513\n",
      "# Validation loss => 0.100346 | f1-score: arg_iden = 0.865286 arg_class = 0.579250 #\n",
      "Epoch   2 => avg_loss: 0.110099\n",
      "# Validation loss => 0.089721 | f1-score: arg_iden = 0.875543 arg_class = 0.633450 #\n",
      "Epoch   3 => avg_loss: 0.098155\n",
      "# Validation loss => 0.081389 | f1-score: arg_iden = 0.885870 arg_class = 0.668313 #\n",
      "Epoch   4 => avg_loss: 0.088414\n",
      "# Validation loss => 0.074324 | f1-score: arg_iden = 0.887123 arg_class = 0.714344 #\n",
      "Epoch   5 => avg_loss: 0.080356\n",
      "# Validation loss => 0.068180 | f1-score: arg_iden = 0.891625 arg_class = 0.746718 #\n",
      "Epoch   6 => avg_loss: 0.078215\n",
      "# Validation loss => 0.065036 | f1-score: arg_iden = 0.894811 arg_class = 0.767699 #\n",
      "Epoch   7 => avg_loss: 0.069395\n",
      "# Validation loss => 0.060416 | f1-score: arg_iden = 0.897400 arg_class = 0.787543 #\n",
      "Epoch   8 => avg_loss: 0.064998\n",
      "# Validation loss => 0.059391 | f1-score: arg_iden = 0.898838 arg_class = 0.794401 #\n",
      "Epoch   9 => avg_loss: 0.061470\n",
      "# Validation loss => 0.056769 | f1-score: arg_iden = 0.899302 arg_class = 0.805182 #\n",
      "----- Best value obtained, saving model -----\n",
      "Epoch  10 => avg_loss: 0.058003\n",
      "# Validation loss => 0.056502 | f1-score: arg_iden = 0.896735 arg_class = 0.808561 #\n",
      "----- Best value obtained, saving model -----\n",
      "Epoch  11 => avg_loss: 0.055274\n",
      "# Validation loss => 0.055997 | f1-score: arg_iden = 0.897816 arg_class = 0.812663 #\n",
      "----- Best value obtained, saving model -----\n",
      "Epoch  12 => avg_loss: 0.053107\n",
      "# Validation loss => 0.054232 | f1-score: arg_iden = 0.898504 arg_class = 0.818345 #\n",
      "----- Best value obtained, saving model -----\n",
      "Epoch  13 => avg_loss: 0.050645\n",
      "# Validation loss => 0.053985 | f1-score: arg_iden = 0.902329 arg_class = 0.822953 #\n",
      "----- Best value obtained, saving model -----\n",
      "Epoch  14 => avg_loss: 0.048987\n",
      "# Validation loss => 0.053238 | f1-score: arg_iden = 0.901882 arg_class = 0.825791 #\n",
      "----- Best value obtained, saving model -----\n",
      "Epoch  15 => avg_loss: 0.047206\n",
      "# Validation loss => 0.054387 | f1-score: arg_iden = 0.899066 arg_class = 0.823784 #\n",
      "Epoch  16 => avg_loss: 0.046079\n",
      "# Validation loss => 0.053299 | f1-score: arg_iden = 0.898651 arg_class = 0.823681 #\n",
      "Epoch  17 => avg_loss: 0.044750\n",
      "# Validation loss => 0.051994 | f1-score: arg_iden = 0.899940 arg_class = 0.830177 #\n",
      "----- Best value obtained, saving model -----\n",
      "Epoch  18 => avg_loss: 0.043334\n",
      "# Validation loss => 0.051966 | f1-score: arg_iden = 0.899731 arg_class = 0.831088 #\n",
      "----- Best value obtained, saving model -----\n",
      "Epoch  19 => avg_loss: 0.041901\n",
      "# Validation loss => 0.054302 | f1-score: arg_iden = 0.897456 arg_class = 0.827202 #\n",
      "Epoch  20 => avg_loss: 0.041020\n",
      "# Validation loss => 0.052087 | f1-score: arg_iden = 0.901762 arg_class = 0.834279 #\n",
      "----- Best value obtained, saving model -----\n",
      "Epoch  21 => avg_loss: 0.039925\n",
      "# Validation loss => 0.053318 | f1-score: arg_iden = 0.900297 arg_class = 0.827156 #\n",
      "Epoch  22 => avg_loss: 0.038918\n",
      "# Validation loss => 0.051975 | f1-score: arg_iden = 0.901151 arg_class = 0.834458 #\n",
      "----- Best value obtained, saving model -----\n",
      "Epoch  23 => avg_loss: 0.038030\n",
      "# Validation loss => 0.052051 | f1-score: arg_iden = 0.901246 arg_class = 0.833682 #\n",
      "Epoch  24 => avg_loss: 0.037265\n",
      "# Validation loss => 0.053115 | f1-score: arg_iden = 0.902023 arg_class = 0.835443 #\n",
      "----- Best value obtained, saving model -----\n",
      "Epoch  25 => avg_loss: 0.035824\n",
      "# Validation loss => 0.052456 | f1-score: arg_iden = 0.901018 arg_class = 0.833566 #\n",
      "Epoch  26 => avg_loss: 0.035280\n",
      "# Validation loss => 0.052710 | f1-score: arg_iden = 0.900557 arg_class = 0.836516 #\n",
      "----- Best value obtained, saving model -----\n",
      "Epoch  27 => avg_loss: 0.034545\n",
      "# Validation loss => 0.052788 | f1-score: arg_iden = 0.903495 arg_class = 0.837371 #\n",
      "----- Best value obtained, saving model -----\n",
      "Epoch  28 => avg_loss: 0.033969\n",
      "# Validation loss => 0.053779 | f1-score: arg_iden = 0.901996 arg_class = 0.838723 #\n",
      "----- Best value obtained, saving model -----\n",
      "Epoch  29 => avg_loss: 0.032803\n",
      "# Validation loss => 0.054543 | f1-score: arg_iden = 0.898929 arg_class = 0.833906 #\n",
      "Epoch  30 => avg_loss: 0.032121\n",
      "# Validation loss => 0.053314 | f1-score: arg_iden = 0.902505 arg_class = 0.838439 #\n",
      "Epoch  31 => avg_loss: 0.031795\n",
      "# Validation loss => 0.053872 | f1-score: arg_iden = 0.901930 arg_class = 0.837875 #\n",
      "Epoch  32 => avg_loss: 0.030725\n",
      "# Validation loss => 0.054343 | f1-score: arg_iden = 0.900109 arg_class = 0.836551 #\n",
      "Epoch  33 => avg_loss: 0.030076\n",
      "# Validation loss => 0.053380 | f1-score: arg_iden = 0.902015 arg_class = 0.841259 #\n",
      "----- Best value obtained, saving model -----\n",
      "Epoch  34 => avg_loss: 0.029066\n",
      "# Validation loss => 0.055152 | f1-score: arg_iden = 0.901171 arg_class = 0.837468 #\n",
      "Epoch  35 => avg_loss: 0.028803\n",
      "# Validation loss => 0.055592 | f1-score: arg_iden = 0.901654 arg_class = 0.840902 #\n",
      "Epoch  36 => avg_loss: 0.027380\n",
      "# Validation loss => 0.055729 | f1-score: arg_iden = 0.899183 arg_class = 0.841203 #\n",
      "Epoch  37 => avg_loss: 0.027097\n",
      "# Validation loss => 0.056314 | f1-score: arg_iden = 0.899228 arg_class = 0.837854 #\n",
      "Epoch  38 => avg_loss: 0.027010\n",
      "# Validation loss => 0.055755 | f1-score: arg_iden = 0.900187 arg_class = 0.839611 #\n",
      "Epoch  39 => avg_loss: 0.026238\n",
      "# Validation loss => 0.056125 | f1-score: arg_iden = 0.898508 arg_class = 0.837632 #\n",
      "Epoch  40 => avg_loss: 0.025383\n",
      "# Validation loss => 0.056023 | f1-score: arg_iden = 0.901226 arg_class = 0.839629 #\n",
      "Epoch  41 => avg_loss: 0.025227\n",
      "# Validation loss => 0.057204 | f1-score: arg_iden = 0.898571 arg_class = 0.836274 #\n",
      "Epoch  42 => avg_loss: 0.024220\n",
      "# Validation loss => 0.058210 | f1-score: arg_iden = 0.898744 arg_class = 0.838150 #\n",
      "Epoch  43 => avg_loss: 0.024006\n",
      "# Validation loss => 0.057836 | f1-score: arg_iden = 0.900809 arg_class = 0.840076 #\n",
      "Epoch  44 => avg_loss: 0.023509\n",
      "# Validation loss => 0.058670 | f1-score: arg_iden = 0.898738 arg_class = 0.839312 #\n",
      "Epoch  45 => avg_loss: 0.023048\n",
      "# Validation loss => 0.059209 | f1-score: arg_iden = 0.897750 arg_class = 0.835373 #\n",
      "Epoch  46 => avg_loss: 0.022279\n",
      "# Validation loss => 0.059421 | f1-score: arg_iden = 0.899625 arg_class = 0.838372 #\n",
      "Epoch  47 => avg_loss: 0.021921\n",
      "# Validation loss => 0.060423 | f1-score: arg_iden = 0.898513 arg_class = 0.837066 #\n",
      "Epoch  48 => avg_loss: 0.021494\n",
      "# Validation loss => 0.061409 | f1-score: arg_iden = 0.900149 arg_class = 0.835966 #\n",
      "Epoch  49 => avg_loss: 0.021001\n",
      "# Validation loss => 0.061514 | f1-score: arg_iden = 0.899219 arg_class = 0.839086 #\n",
      "Epoch  50 => avg_loss: 0.021027\n",
      "# Validation loss => 0.061678 | f1-score: arg_iden = 0.897862 arg_class = 0.838282 #\n",
      "Epoch  51 => avg_loss: 0.020061\n",
      "# Validation loss => 0.061809 | f1-score: arg_iden = 0.897375 arg_class = 0.839155 #\n",
      "Epoch  52 => avg_loss: 0.019316\n",
      "# Validation loss => 0.063299 | f1-score: arg_iden = 0.898545 arg_class = 0.840740 #\n",
      "Epoch  53 => avg_loss: 0.019060\n",
      "# Validation loss => 0.062662 | f1-score: arg_iden = 0.897959 arg_class = 0.837425 #\n",
      "Epoch  54 => avg_loss: 0.019004\n",
      "# Validation loss => 0.062594 | f1-score: arg_iden = 0.899057 arg_class = 0.839702 #\n",
      "Epoch  55 => avg_loss: 0.018550\n",
      "# Validation loss => 0.063268 | f1-score: arg_iden = 0.898372 arg_class = 0.842795 #\n",
      "----- Best value obtained, saving model -----\n",
      "Epoch  56 => avg_loss: 0.018201\n",
      "# Validation loss => 0.064290 | f1-score: arg_iden = 0.899246 arg_class = 0.836573 #\n",
      "Epoch  57 => avg_loss: 0.018139\n",
      "# Validation loss => 0.065499 | f1-score: arg_iden = 0.897674 arg_class = 0.834582 #\n",
      "Epoch  58 => avg_loss: 0.017858\n",
      "# Validation loss => 0.064535 | f1-score: arg_iden = 0.899126 arg_class = 0.839357 #\n",
      "Epoch  59 => avg_loss: 0.017219\n",
      "# Validation loss => 0.065972 | f1-score: arg_iden = 0.896824 arg_class = 0.834879 #\n"
     ]
    }
   ],
   "source": [
    "from stud.modelsTests.utils.Trainer_aic_transformer_simple import Trainer_aic_transformer_simple\n",
    "\n",
    "trainer = Trainer_aic_transformer_simple()\n",
    "\n",
    "history = trainer.train(\n",
    "    final_model, optimizer, dataloader_train_en, dataloader_dev_en,\n",
    "    epochs=60, device=device,\n",
    "    save_best=True, \n",
    "    min_score=0.8,\n",
    "    save_path_name=os.path.join(model_dir_path, 'aic_transformer_roberta_weights.pth'),\n",
    "    saved_history=history\n",
    ")"
   ]
  },
  {
   "cell_type": "code",
   "execution_count": 28,
   "metadata": {},
   "outputs": [
    {
     "data": {
      "image/png": "[encoded data removed]",
      "text/plain": [
       "<Figure size 576x576 with 1 Axes>"
      ]
     },
     "metadata": {
      "needs_background": "light"
     },
     "output_type": "display_data"
    }
   ],
   "source": [
    "display_history(history)"
   ]
  },
  {
   "cell_type": "code",
   "execution_count": null,
   "metadata": {},
   "outputs": [],
   "source": []
  }
 ],
 "metadata": {
  "interpreter": {
   "hash": "176726de92aa5f7c7bad0ace42430d0e9e67427a9b4905ef1c48cfd9a71ff23e"
  },
  "kernelspec": {
   "display_name": "Python 3.9.12 ('nlp2022-hw2')",
   "language": "python",
   "name": "python3"
  },
  "language_info": {
   "codemirror_mode": {
    "name": "ipython",
    "version": 3
   },
   "file_extension": ".py",
   "mimetype": "text/x-python",
   "name": "python",
   "nbconvert_exporter": "python",
   "pygments_lexer": "ipython3",
   "version": "3.9.12"
  },
  "orig_nbformat": 4
 },
 "nbformat": 4,
 "nbformat_minor": 2
}
