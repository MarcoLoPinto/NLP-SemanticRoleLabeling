{
 "cells": [
  {
   "cell_type": "markdown",
   "id": "3fe2040e",
   "metadata": {
    "papermill": {
     "duration": 0.078963,
     "end_time": "2022-03-31T22:14:09.386664",
     "exception": false,
     "start_time": "2022-03-31T22:14:09.307701",
     "status": "completed"
    },
    "tags": []
   },
   "source": [
    "# Prerequisites"
   ]
  },
  {
   "cell_type": "code",
   "execution_count": 1,
   "metadata": {},
   "outputs": [
    {
     "name": "stderr",
     "output_type": "stream",
     "text": [
      "/home/marco/miniconda3/envs/nlp2022-hw2/lib/python3.9/site-packages/tqdm/auto.py:22: TqdmWarning: IProgress not found. Please update jupyter and ipywidgets. See https://ipywidgets.readthedocs.io/en/stable/user_install.html\n",
      "  from .autonotebook import tqdm as notebook_tqdm\n"
     ]
    }
   ],
   "source": [
    "import os, sys\n",
    "\n",
    "import numpy as np\n",
    "import tqdm\n",
    "import torch"
   ]
  },
  {
   "cell_type": "markdown",
   "id": "5424a631",
   "metadata": {
    "papermill": {
     "duration": 0.049244,
     "end_time": "2022-03-31T22:14:12.552634",
     "exception": false,
     "start_time": "2022-03-31T22:14:12.503390",
     "status": "completed"
    },
    "tags": []
   },
   "source": [
    "Important paths for the notebook:"
   ]
  },
  {
   "cell_type": "code",
   "execution_count": 2,
   "metadata": {},
   "outputs": [],
   "source": [
    "app_root = '../../../../'\n",
    "test_name = 'test4'\n",
    "datasets_path = os.path.join(app_root, 'data')\n",
    "model_dir_path = os.path.join(app_root, 'model', test_name)\n",
    "\n",
    "datasets_paths = {}\n",
    "for lang in os.listdir(datasets_path):\n",
    "    dataset_lang_path = os.path.join(datasets_path, lang)\n",
    "    if os.path.isdir(dataset_lang_path):\n",
    "        datasets_paths[lang] = {}\n",
    "        for d_type in os.listdir(dataset_lang_path):\n",
    "            d_name = d_type.split('.')[0]\n",
    "            datasets_paths[lang][d_name] = os.path.join(dataset_lang_path, d_type)"
   ]
  },
  {
   "cell_type": "code",
   "execution_count": 3,
   "metadata": {},
   "outputs": [
    {
     "data": {
      "text/plain": [
       "'cuda'"
      ]
     },
     "execution_count": 3,
     "metadata": {},
     "output_type": "execute_result"
    }
   ],
   "source": [
    "sys.path.append('../../../')\n",
    "\n",
    "%load_ext autoreload\n",
    "%autoreload 2\n",
    "\n",
    "device = 'cuda' if torch.cuda.is_available() else 'cpu'\n",
    "device"
   ]
  },
  {
   "cell_type": "markdown",
   "id": "c7bc95ee",
   "metadata": {
    "papermill": {
     "duration": 0.048851,
     "end_time": "2022-03-31T22:14:13.015246",
     "exception": false,
     "start_time": "2022-03-31T22:14:12.966395",
     "status": "completed"
    },
    "tags": []
   },
   "source": [
    "Setting the seed for reproducibility:"
   ]
  },
  {
   "cell_type": "code",
   "execution_count": 4,
   "metadata": {},
   "outputs": [],
   "source": [
    "SEED = 28\n",
    "\n",
    "# random.seed(SEED) # not used\n",
    "np.random.seed(SEED)\n",
    "torch.manual_seed(SEED)\n",
    "torch.backends.cudnn.deterministic = True"
   ]
  },
  {
   "cell_type": "code",
   "execution_count": 5,
   "metadata": {},
   "outputs": [],
   "source": [
    "global_params = {\n",
    "    'batch_size': 32,\n",
    "    'PAD_TOKEN': '<pad>',\n",
    "    'UNK_TOKEN': '<unk>',\n",
    "    'transformer_name': \"xlm-roberta-base\",\n",
    "}"
   ]
  },
  {
   "cell_type": "markdown",
   "id": "5a9214a0",
   "metadata": {
    "papermill": {
     "duration": 0.049393,
     "end_time": "2022-03-31T22:14:13.226777",
     "exception": false,
     "start_time": "2022-03-31T22:14:13.177384",
     "status": "completed"
    },
    "tags": []
   },
   "source": [
    "# Dataset"
   ]
  },
  {
   "cell_type": "markdown",
   "metadata": {},
   "source": [
    "I will use RoBERTa"
   ]
  },
  {
   "cell_type": "code",
   "execution_count": 6,
   "metadata": {},
   "outputs": [],
   "source": [
    "from stud.modelsTests.dataset.SRLDataset_transformer import SRLDataset_transformer"
   ]
  },
  {
   "cell_type": "code",
   "execution_count": 7,
   "metadata": {},
   "outputs": [],
   "source": [
    "dataset_train_en = SRLDataset_transformer(  datasets_paths['EN']['train'], \n",
    "                                            tokenizer = global_params['transformer_name'],\n",
    "                                            baselines_file_path = os.path.join(app_root,'data/baselines.json'))\n",
    "dataset_train_es = SRLDataset_transformer(  datasets_paths['ES']['train'], \n",
    "                                            tokenizer = dataset_train_en.tokenizer,\n",
    "                                            labels = dataset_train_en.labels)\n",
    "dataset_train_fr = SRLDataset_transformer(  datasets_paths['FR']['train'], \n",
    "                                            tokenizer = dataset_train_en.tokenizer,\n",
    "                                            labels = dataset_train_en.labels)"
   ]
  },
  {
   "cell_type": "code",
   "execution_count": 8,
   "metadata": {},
   "outputs": [],
   "source": [
    "SRLDataset_transformer.save_dict(\n",
    "    os.path.join(model_dir_path, 'labels.npy'), \n",
    "    dataset_train_en.labels)"
   ]
  },
  {
   "cell_type": "code",
   "execution_count": 9,
   "metadata": {},
   "outputs": [],
   "source": [
    "dataset_dev_en = SRLDataset_transformer(datasets_paths['EN']['dev'], \n",
    "                                        tokenizer = dataset_train_en.tokenizer,\n",
    "                                        labels = dataset_train_en.labels)\n",
    "dataset_dev_es = SRLDataset_transformer(datasets_paths['ES']['dev'], \n",
    "                                        tokenizer = dataset_train_en.tokenizer,\n",
    "                                        labels = dataset_train_en.labels)\n",
    "dataset_dev_fr = SRLDataset_transformer(datasets_paths['FR']['dev'], \n",
    "                                        tokenizer = dataset_train_en.tokenizer,\n",
    "                                        labels = dataset_train_en.labels)"
   ]
  },
  {
   "cell_type": "code",
   "execution_count": 10,
   "metadata": {},
   "outputs": [
    {
     "data": {
      "text/plain": [
       "dict_keys(['dependency_heads', 'dependency_relations', 'lemmas', 'pos_tags', 'predicates', 'roles', 'words', 'predicate_position', 'predicate_label', 'predicate_word'])"
      ]
     },
     "execution_count": 10,
     "metadata": {},
     "output_type": "execute_result"
    }
   ],
   "source": [
    "next(iter(dataset_train_en)).keys()"
   ]
  },
  {
   "cell_type": "code",
   "execution_count": 11,
   "metadata": {},
   "outputs": [],
   "source": [
    "global_params.update({ \n",
    "    'n_roles_labels': len(dataset_train_en.labels['id_to_roles']),\n",
    "    'n_predicates_labels': len(dataset_train_en.labels['id_to_predicates'])\n",
    "})"
   ]
  },
  {
   "cell_type": "markdown",
   "id": "15baf7b6",
   "metadata": {},
   "source": [
    "Saving global variables..."
   ]
  },
  {
   "cell_type": "code",
   "execution_count": 12,
   "metadata": {},
   "outputs": [],
   "source": [
    "np.save(os.path.join(model_dir_path, 'global_params.npy'), global_params)"
   ]
  },
  {
   "cell_type": "markdown",
   "metadata": {},
   "source": [
    "# DataLoader"
   ]
  },
  {
   "cell_type": "code",
   "execution_count": 13,
   "metadata": {},
   "outputs": [],
   "source": [
    "from torch.utils.data import DataLoader"
   ]
  },
  {
   "cell_type": "code",
   "execution_count": 14,
   "metadata": {},
   "outputs": [],
   "source": [
    "import os\n",
    "os.environ[\"TOKENIZERS_PARALLELISM\"] = \"false\"\n",
    "num_workers = 4"
   ]
  },
  {
   "cell_type": "code",
   "execution_count": 15,
   "metadata": {},
   "outputs": [],
   "source": [
    "dataloader_train_en = DataLoader(\n",
    "    dataset_train_en,\n",
    "    batch_size=global_params['batch_size'],\n",
    "    collate_fn=dataset_train_en.create_collate_fn(),\n",
    "    num_workers=num_workers,\n",
    "    shuffle=True,\n",
    ")\n",
    "\n",
    "dataloader_train_es = DataLoader(\n",
    "    dataset_train_es,\n",
    "    batch_size=global_params['batch_size'],\n",
    "    collate_fn=dataset_train_es.create_collate_fn(),\n",
    "    num_workers=num_workers,\n",
    "    shuffle=True,\n",
    ")\n",
    "\n",
    "dataloader_train_fr = DataLoader(\n",
    "    dataset_train_fr,\n",
    "    batch_size=global_params['batch_size'],\n",
    "    collate_fn=dataset_train_fr.create_collate_fn(),\n",
    "    num_workers=num_workers,\n",
    "    shuffle=True,\n",
    ")"
   ]
  },
  {
   "cell_type": "code",
   "execution_count": 16,
   "metadata": {},
   "outputs": [],
   "source": [
    "dataloader_dev_en = DataLoader(\n",
    "    dataset_dev_en,\n",
    "    batch_size=global_params['batch_size'],\n",
    "    collate_fn=dataset_dev_en.create_collate_fn(),\n",
    "    num_workers=num_workers,\n",
    "    shuffle=False,\n",
    ")\n",
    "\n",
    "dataloader_dev_es = DataLoader(\n",
    "    dataset_dev_es,\n",
    "    batch_size=global_params['batch_size'],\n",
    "    collate_fn=dataset_dev_es.create_collate_fn(),\n",
    "    num_workers=num_workers,\n",
    "    shuffle=False,\n",
    ")\n",
    "\n",
    "dataloader_dev_fr = DataLoader(\n",
    "    dataset_dev_es,\n",
    "    batch_size=global_params['batch_size'],\n",
    "    collate_fn=dataset_dev_fr.create_collate_fn(),\n",
    "    num_workers=num_workers,\n",
    "    shuffle=False,\n",
    ")"
   ]
  },
  {
   "cell_type": "markdown",
   "metadata": {},
   "source": [
    "# Printing model"
   ]
  },
  {
   "cell_type": "code",
   "execution_count": 17,
   "metadata": {},
   "outputs": [],
   "source": [
    "from stud.modelsTests.utils.print_infos import *"
   ]
  },
  {
   "cell_type": "markdown",
   "metadata": {},
   "source": [
    "# English"
   ]
  },
  {
   "cell_type": "code",
   "execution_count": 18,
   "metadata": {},
   "outputs": [],
   "source": [
    "loss_function = torch.nn.CrossEntropyLoss(ignore_index = dataset_train_en.labels['roles_pad_id']) # !"
   ]
  },
  {
   "cell_type": "code",
   "execution_count": 19,
   "metadata": {},
   "outputs": [
    {
     "name": "stderr",
     "output_type": "stream",
     "text": [
      "Some weights of the model checkpoint at xlm-roberta-base were not used when initializing XLMRobertaModel: ['lm_head.layer_norm.bias', 'lm_head.dense.weight', 'lm_head.decoder.weight', 'lm_head.dense.bias', 'lm_head.bias', 'lm_head.layer_norm.weight']\n",
      "- This IS expected if you are initializing XLMRobertaModel from the checkpoint of a model trained on another task or with another architecture (e.g. initializing a BertForSequenceClassification model from a BertForPreTraining model).\n",
      "- This IS NOT expected if you are initializing XLMRobertaModel from the checkpoint of a model that you expect to be exactly identical (initializing a BertForSequenceClassification model from a BertForSequenceClassification model).\n"
     ]
    }
   ],
   "source": [
    "from stud.modelsTests.model_arg_iden_class_part.Model_aic_transformer_simple import ArgIdenClassModel\n",
    "import torch.optim as optim\n",
    "\n",
    "final_model = ArgIdenClassModel(\n",
    "    language = 'EN',\n",
    "    device = device,\n",
    "    model_load_weights = False,\n",
    "    loss_fn = loss_function,\n",
    "    fine_tune_transformer=True,\n",
    "    saves_path_folder = test_name,\n",
    ")\n",
    "\n",
    "optimizer = optim.SGD(final_model.model.parameters(), lr=0.0016, momentum=0.9)\n",
    "# optimizer = optim.Adam(final_model.model.parameters(), lr=0.0016)"
   ]
  },
  {
   "cell_type": "code",
   "execution_count": 20,
   "metadata": {},
   "outputs": [],
   "source": [
    "history = {}"
   ]
  },
  {
   "cell_type": "code",
   "execution_count": 21,
   "metadata": {},
   "outputs": [
    {
     "name": "stdout",
     "output_type": "stream",
     "text": [
      "Epoch   0 => avg_loss: 0.226396\n",
      "# Validation loss => 0.113821 | f1-score: arg_iden = 0.856741 arg_class = 0.562193 #\n",
      "Epoch   1 => avg_loss: 0.117762\n",
      "# Validation loss => 0.095326 | f1-score: arg_iden = 0.876635 arg_class = 0.614409 #\n",
      "Epoch   2 => avg_loss: 0.102664\n",
      "# Validation loss => 0.086718 | f1-score: arg_iden = 0.887717 arg_class = 0.659367 #\n",
      "Epoch   3 => avg_loss: 0.092326\n",
      "# Validation loss => 0.077602 | f1-score: arg_iden = 0.887718 arg_class = 0.691731 #\n",
      "Epoch   4 => avg_loss: 0.083607\n",
      "# Validation loss => 0.071977 | f1-score: arg_iden = 0.888136 arg_class = 0.726820 #\n",
      "Epoch   5 => avg_loss: 0.082467\n",
      "# Validation loss => 0.115959 | f1-score: arg_iden = 0.786636 arg_class = 0.563544 #\n",
      "Epoch   6 => avg_loss: 0.084293\n",
      "# Validation loss => 0.065853 | f1-score: arg_iden = 0.890053 arg_class = 0.756180 #\n",
      "Epoch   7 => avg_loss: 0.072595\n",
      "# Validation loss => 0.061227 | f1-score: arg_iden = 0.893732 arg_class = 0.779966 #\n",
      "Epoch   8 => avg_loss: 0.065514\n",
      "# Validation loss => 0.058629 | f1-score: arg_iden = 0.898361 arg_class = 0.790462 #\n",
      "Epoch   9 => avg_loss: 0.061677\n",
      "# Validation loss => 0.057560 | f1-score: arg_iden = 0.897517 arg_class = 0.800199 #\n",
      "----- Best value obtained, saving model -----\n",
      "Epoch  10 => avg_loss: 0.058080\n",
      "# Validation loss => 0.055603 | f1-score: arg_iden = 0.900521 arg_class = 0.809868 #\n",
      "----- Best value obtained, saving model -----\n",
      "Epoch  11 => avg_loss: 0.055531\n",
      "# Validation loss => 0.056258 | f1-score: arg_iden = 0.896654 arg_class = 0.810384 #\n",
      "----- Best value obtained, saving model -----\n",
      "Epoch  12 => avg_loss: 0.053574\n",
      "# Validation loss => 0.054275 | f1-score: arg_iden = 0.899622 arg_class = 0.817168 #\n",
      "----- Best value obtained, saving model -----\n",
      "Epoch  13 => avg_loss: 0.051257\n",
      "# Validation loss => 0.054416 | f1-score: arg_iden = 0.898781 arg_class = 0.816038 #\n",
      "Epoch  14 => avg_loss: 0.049713\n",
      "# Validation loss => 0.053537 | f1-score: arg_iden = 0.900129 arg_class = 0.824508 #\n",
      "----- Best value obtained, saving model -----\n",
      "Epoch  15 => avg_loss: 0.048055\n",
      "# Validation loss => 0.053898 | f1-score: arg_iden = 0.900681 arg_class = 0.824144 #\n",
      "Epoch  16 => avg_loss: 0.046526\n",
      "# Validation loss => 0.053495 | f1-score: arg_iden = 0.899097 arg_class = 0.825874 #\n",
      "----- Best value obtained, saving model -----\n",
      "Epoch  17 => avg_loss: 0.045450\n",
      "# Validation loss => 0.051979 | f1-score: arg_iden = 0.899793 arg_class = 0.829835 #\n",
      "----- Best value obtained, saving model -----\n",
      "Epoch  18 => avg_loss: 0.044026\n",
      "# Validation loss => 0.053289 | f1-score: arg_iden = 0.899401 arg_class = 0.828737 #\n",
      "Epoch  19 => avg_loss: 0.042813\n",
      "# Validation loss => 0.052441 | f1-score: arg_iden = 0.900942 arg_class = 0.831963 #\n",
      "----- Best value obtained, saving model -----\n",
      "Epoch  20 => avg_loss: 0.041360\n",
      "# Validation loss => 0.052195 | f1-score: arg_iden = 0.900508 arg_class = 0.831989 #\n",
      "----- Best value obtained, saving model -----\n",
      "Epoch  21 => avg_loss: 0.040695\n",
      "# Validation loss => 0.054021 | f1-score: arg_iden = 0.896659 arg_class = 0.826146 #\n",
      "Epoch  22 => avg_loss: 0.039128\n",
      "# Validation loss => 0.052252 | f1-score: arg_iden = 0.901010 arg_class = 0.831519 #\n",
      "Epoch  23 => avg_loss: 0.038096\n",
      "# Validation loss => 0.051670 | f1-score: arg_iden = 0.901844 arg_class = 0.835415 #\n",
      "----- Best value obtained, saving model -----\n",
      "Epoch  24 => avg_loss: 0.037747\n",
      "# Validation loss => 0.052979 | f1-score: arg_iden = 0.900177 arg_class = 0.833432 #\n",
      "Epoch  25 => avg_loss: 0.036936\n",
      "# Validation loss => 0.053183 | f1-score: arg_iden = 0.900584 arg_class = 0.833515 #\n",
      "Epoch  26 => avg_loss: 0.035361\n",
      "# Validation loss => 0.052312 | f1-score: arg_iden = 0.900979 arg_class = 0.836878 #\n",
      "----- Best value obtained, saving model -----\n",
      "Epoch  27 => avg_loss: 0.035131\n",
      "# Validation loss => 0.051614 | f1-score: arg_iden = 0.901595 arg_class = 0.836389 #\n",
      "Epoch  28 => avg_loss: 0.034448\n",
      "# Validation loss => 0.052050 | f1-score: arg_iden = 0.900760 arg_class = 0.834601 #\n",
      "Epoch  29 => avg_loss: 0.033340\n",
      "# Validation loss => 0.053283 | f1-score: arg_iden = 0.900951 arg_class = 0.836173 #\n",
      "Epoch  30 => avg_loss: 0.032567\n",
      "# Validation loss => 0.052318 | f1-score: arg_iden = 0.901331 arg_class = 0.835485 #\n",
      "Epoch  31 => avg_loss: 0.031545\n",
      "# Validation loss => 0.053273 | f1-score: arg_iden = 0.901086 arg_class = 0.834748 #\n",
      "Epoch  32 => avg_loss: 0.030977\n",
      "# Validation loss => 0.053401 | f1-score: arg_iden = 0.899960 arg_class = 0.838078 #\n",
      "----- Best value obtained, saving model -----\n",
      "Epoch  33 => avg_loss: 0.030524\n",
      "# Validation loss => 0.053697 | f1-score: arg_iden = 0.900860 arg_class = 0.839182 #\n",
      "----- Best value obtained, saving model -----\n",
      "Epoch  34 => avg_loss: 0.029788\n",
      "# Validation loss => 0.054259 | f1-score: arg_iden = 0.902073 arg_class = 0.836723 #\n",
      "Epoch  35 => avg_loss: 0.029374\n",
      "# Validation loss => 0.054560 | f1-score: arg_iden = 0.898744 arg_class = 0.836538 #\n",
      "Epoch  36 => avg_loss: 0.028594\n",
      "# Validation loss => 0.055967 | f1-score: arg_iden = 0.899802 arg_class = 0.837549 #\n",
      "Epoch  37 => avg_loss: 0.028223\n",
      "# Validation loss => 0.055424 | f1-score: arg_iden = 0.901654 arg_class = 0.839061 #\n",
      "Epoch  38 => avg_loss: 0.027348\n",
      "# Validation loss => 0.055284 | f1-score: arg_iden = 0.900772 arg_class = 0.839770 #\n",
      "----- Best value obtained, saving model -----\n",
      "Epoch  39 => avg_loss: 0.026638\n",
      "# Validation loss => 0.055773 | f1-score: arg_iden = 0.899437 arg_class = 0.837264 #\n",
      "Epoch  40 => avg_loss: 0.026171\n",
      "# Validation loss => 0.055219 | f1-score: arg_iden = 0.901108 arg_class = 0.839437 #\n",
      "Epoch  41 => avg_loss: 0.025748\n",
      "# Validation loss => 0.057536 | f1-score: arg_iden = 0.896721 arg_class = 0.832697 #\n",
      "Epoch  42 => avg_loss: 0.025274\n",
      "# Validation loss => 0.057839 | f1-score: arg_iden = 0.898954 arg_class = 0.835603 #\n",
      "Epoch  43 => avg_loss: 0.024684\n",
      "# Validation loss => 0.058718 | f1-score: arg_iden = 0.897027 arg_class = 0.834219 #\n",
      "Epoch  44 => avg_loss: 0.023566\n",
      "# Validation loss => 0.059011 | f1-score: arg_iden = 0.897082 arg_class = 0.835371 #\n",
      "Epoch  45 => avg_loss: 0.023565\n",
      "# Validation loss => 0.058344 | f1-score: arg_iden = 0.900845 arg_class = 0.838986 #\n",
      "Epoch  46 => avg_loss: 0.022828\n",
      "# Validation loss => 0.058186 | f1-score: arg_iden = 0.900972 arg_class = 0.841040 #\n",
      "----- Best value obtained, saving model -----\n",
      "Epoch  47 => avg_loss: 0.022521\n",
      "# Validation loss => 0.059989 | f1-score: arg_iden = 0.899468 arg_class = 0.837769 #\n",
      "Epoch  48 => avg_loss: 0.022366\n",
      "# Validation loss => 0.059078 | f1-score: arg_iden = 0.898745 arg_class = 0.838684 #\n",
      "Epoch  49 => avg_loss: 0.021628\n",
      "# Validation loss => 0.058922 | f1-score: arg_iden = 0.899852 arg_class = 0.840336 #\n",
      "Epoch  50 => avg_loss: 0.021259\n",
      "# Validation loss => 0.059914 | f1-score: arg_iden = 0.901201 arg_class = 0.841227 #\n",
      "----- Best value obtained, saving model -----\n",
      "Epoch  51 => avg_loss: 0.020966\n",
      "# Validation loss => 0.061021 | f1-score: arg_iden = 0.899513 arg_class = 0.838883 #\n",
      "Epoch  52 => avg_loss: 0.020429\n",
      "# Validation loss => 0.060448 | f1-score: arg_iden = 0.898973 arg_class = 0.836541 #\n",
      "Epoch  53 => avg_loss: 0.019801\n",
      "# Validation loss => 0.061640 | f1-score: arg_iden = 0.898513 arg_class = 0.838057 #\n",
      "Epoch  54 => avg_loss: 0.019466\n",
      "# Validation loss => 0.062671 | f1-score: arg_iden = 0.898528 arg_class = 0.839634 #\n",
      "Epoch  55 => avg_loss: 0.019255\n",
      "# Validation loss => 0.062222 | f1-score: arg_iden = 0.897782 arg_class = 0.838245 #\n",
      "Epoch  56 => avg_loss: 0.018424\n",
      "# Validation loss => 0.063824 | f1-score: arg_iden = 0.899276 arg_class = 0.839536 #\n",
      "Epoch  57 => avg_loss: 0.018113\n",
      "# Validation loss => 0.063252 | f1-score: arg_iden = 0.899447 arg_class = 0.839194 #\n",
      "Epoch  58 => avg_loss: 0.017758\n",
      "# Validation loss => 0.065386 | f1-score: arg_iden = 0.898640 arg_class = 0.838479 #\n",
      "Epoch  59 => avg_loss: 0.017489\n",
      "# Validation loss => 0.066028 | f1-score: arg_iden = 0.897663 arg_class = 0.836967 #\n"
     ]
    }
   ],
   "source": [
    "from stud.modelsTests.utils.Trainer_aic_transformer_simple import Trainer_aic_transformer_simple\n",
    "\n",
    "trainer = Trainer_aic_transformer_simple()\n",
    "\n",
    "history = trainer.train(\n",
    "    final_model, optimizer, dataloader_train_en, dataloader_dev_en,\n",
    "    epochs=60, device=device,\n",
    "    save_best=True, \n",
    "    min_score=0.8,\n",
    "    save_path_name=os.path.join(model_dir_path, 'aic_transformer_weights_en.pth'),\n",
    "    saved_history=history\n",
    ")"
   ]
  },
  {
   "cell_type": "code",
   "execution_count": 22,
   "metadata": {},
   "outputs": [
    {
     "data": {
      "image/png": "[encoded data removed]",
      "text/plain": [
       "<Figure size 576x576 with 1 Axes>"
      ]
     },
     "metadata": {
      "needs_background": "light"
     },
     "output_type": "display_data"
    }
   ],
   "source": [
    "display_history(history)"
   ]
  },
  {
   "cell_type": "code",
   "execution_count": null,
   "metadata": {},
   "outputs": [],
   "source": []
  },
  {
   "cell_type": "markdown",
   "metadata": {},
   "source": [
    "# Spanish"
   ]
  },
  {
   "cell_type": "code",
   "execution_count": 23,
   "metadata": {},
   "outputs": [],
   "source": [
    "loss_function = torch.nn.CrossEntropyLoss(ignore_index = dataset_train_en.labels['roles_pad_id']) # !"
   ]
  },
  {
   "cell_type": "code",
   "execution_count": 24,
   "metadata": {},
   "outputs": [],
   "source": [
    "from stud.modelsTests.model_arg_iden_class_part.Model_aic_transformer_simple import ArgIdenClassModel\n",
    "import torch.optim as optim\n",
    "\n",
    "final_model = ArgIdenClassModel(\n",
    "    language = 'EN',\n",
    "    device = device,\n",
    "    model_load_weights = True, # !!!\n",
    "    loss_fn = loss_function,\n",
    "    fine_tune_transformer=True,\n",
    "    saves_path_folder = test_name,\n",
    ")\n",
    "\n",
    "optimizer = optim.SGD(final_model.model.parameters(), lr=0.0016, momentum=0.9)\n",
    "# optimizer = optim.Adam(final_model.model.parameters(), lr=0.0016)"
   ]
  },
  {
   "cell_type": "code",
   "execution_count": 25,
   "metadata": {},
   "outputs": [],
   "source": [
    "history = {}"
   ]
  },
  {
   "cell_type": "code",
   "execution_count": 26,
   "metadata": {},
   "outputs": [
    {
     "name": "stdout",
     "output_type": "stream",
     "text": [
      "Epoch   0 => avg_loss: 0.113877\n",
      "# Validation loss => 0.085242 | f1-score: arg_iden = 0.856129 arg_class = 0.681353 #\n",
      "----- Best value obtained, saving model -----\n",
      "Epoch   1 => avg_loss: 0.086681\n",
      "# Validation loss => 0.078877 | f1-score: arg_iden = 0.859344 arg_class = 0.683394 #\n",
      "----- Best value obtained, saving model -----\n",
      "Epoch   2 => avg_loss: 0.079318\n",
      "# Validation loss => 0.077046 | f1-score: arg_iden = 0.856402 arg_class = 0.679316 #\n",
      "Epoch   3 => avg_loss: 0.073106\n",
      "# Validation loss => 0.072948 | f1-score: arg_iden = 0.862146 arg_class = 0.696593 #\n",
      "----- Best value obtained, saving model -----\n",
      "Epoch   4 => avg_loss: 0.067324\n",
      "# Validation loss => 0.073354 | f1-score: arg_iden = 0.859081 arg_class = 0.692484 #\n",
      "Epoch   5 => avg_loss: 0.063976\n",
      "# Validation loss => 0.072271 | f1-score: arg_iden = 0.860879 arg_class = 0.698536 #\n",
      "----- Best value obtained, saving model -----\n",
      "Epoch   6 => avg_loss: 0.061072\n",
      "# Validation loss => 0.071678 | f1-score: arg_iden = 0.861091 arg_class = 0.701560 #\n",
      "----- Best value obtained, saving model -----\n",
      "Epoch   7 => avg_loss: 0.057746\n",
      "# Validation loss => 0.071999 | f1-score: arg_iden = 0.861346 arg_class = 0.699426 #\n",
      "Epoch   8 => avg_loss: 0.055621\n",
      "# Validation loss => 0.070378 | f1-score: arg_iden = 0.863140 arg_class = 0.701580 #\n",
      "----- Best value obtained, saving model -----\n",
      "Epoch   9 => avg_loss: 0.052724\n",
      "# Validation loss => 0.073198 | f1-score: arg_iden = 0.861185 arg_class = 0.697970 #\n",
      "Epoch  10 => avg_loss: 0.050890\n",
      "# Validation loss => 0.071391 | f1-score: arg_iden = 0.861972 arg_class = 0.703182 #\n",
      "----- Best value obtained, saving model -----\n",
      "Epoch  11 => avg_loss: 0.050139\n",
      "# Validation loss => 0.071681 | f1-score: arg_iden = 0.861465 arg_class = 0.701896 #\n",
      "Epoch  12 => avg_loss: 0.048691\n",
      "# Validation loss => 0.072127 | f1-score: arg_iden = 0.861025 arg_class = 0.704211 #\n",
      "----- Best value obtained, saving model -----\n",
      "Epoch  13 => avg_loss: 0.045772\n",
      "# Validation loss => 0.072630 | f1-score: arg_iden = 0.865759 arg_class = 0.705002 #\n",
      "----- Best value obtained, saving model -----\n",
      "Epoch  14 => avg_loss: 0.045370\n",
      "# Validation loss => 0.072006 | f1-score: arg_iden = 0.863660 arg_class = 0.706079 #\n",
      "----- Best value obtained, saving model -----\n",
      "Epoch  15 => avg_loss: 0.044728\n",
      "# Validation loss => 0.072391 | f1-score: arg_iden = 0.863532 arg_class = 0.701985 #\n",
      "Epoch  16 => avg_loss: 0.040295\n",
      "# Validation loss => 0.073870 | f1-score: arg_iden = 0.860934 arg_class = 0.707262 #\n",
      "----- Best value obtained, saving model -----\n",
      "Epoch  17 => avg_loss: 0.040261\n",
      "# Validation loss => 0.072907 | f1-score: arg_iden = 0.863400 arg_class = 0.708117 #\n",
      "----- Best value obtained, saving model -----\n",
      "Epoch  18 => avg_loss: 0.040822\n",
      "# Validation loss => 0.072849 | f1-score: arg_iden = 0.862487 arg_class = 0.711808 #\n",
      "----- Best value obtained, saving model -----\n",
      "Epoch  19 => avg_loss: 0.038221\n",
      "# Validation loss => 0.072600 | f1-score: arg_iden = 0.863860 arg_class = 0.711733 #\n",
      "Epoch  20 => avg_loss: 0.035479\n",
      "# Validation loss => 0.075116 | f1-score: arg_iden = 0.862290 arg_class = 0.703458 #\n",
      "Epoch  21 => avg_loss: 0.035594\n",
      "# Validation loss => 0.075085 | f1-score: arg_iden = 0.862627 arg_class = 0.708446 #\n",
      "Epoch  22 => avg_loss: 0.034895\n",
      "# Validation loss => 0.076635 | f1-score: arg_iden = 0.860550 arg_class = 0.706830 #\n",
      "Epoch  23 => avg_loss: 0.032710\n",
      "# Validation loss => 0.075946 | f1-score: arg_iden = 0.863009 arg_class = 0.712434 #\n",
      "----- Best value obtained, saving model -----\n",
      "Epoch  24 => avg_loss: 0.032065\n",
      "# Validation loss => 0.075719 | f1-score: arg_iden = 0.864058 arg_class = 0.712363 #\n",
      "Epoch  25 => avg_loss: 0.030431\n",
      "# Validation loss => 0.077885 | f1-score: arg_iden = 0.860937 arg_class = 0.704889 #\n",
      "Epoch  26 => avg_loss: 0.030725\n",
      "# Validation loss => 0.077106 | f1-score: arg_iden = 0.861270 arg_class = 0.709966 #\n",
      "Epoch  27 => avg_loss: 0.029049\n",
      "# Validation loss => 0.077372 | f1-score: arg_iden = 0.861172 arg_class = 0.707724 #\n",
      "Epoch  28 => avg_loss: 0.027989\n",
      "# Validation loss => 0.079034 | f1-score: arg_iden = 0.861382 arg_class = 0.706578 #\n",
      "Epoch  29 => avg_loss: 0.027457\n",
      "# Validation loss => 0.079807 | f1-score: arg_iden = 0.862058 arg_class = 0.708355 #\n",
      "Epoch  30 => avg_loss: 0.026892\n",
      "# Validation loss => 0.080448 | f1-score: arg_iden = 0.859206 arg_class = 0.706550 #\n",
      "Epoch  31 => avg_loss: 0.025769\n",
      "# Validation loss => 0.080659 | f1-score: arg_iden = 0.858615 arg_class = 0.707337 #\n",
      "Epoch  32 => avg_loss: 0.026140\n",
      "# Validation loss => 0.081208 | f1-score: arg_iden = 0.858318 arg_class = 0.702858 #\n",
      "Epoch  33 => avg_loss: 0.024310\n",
      "# Validation loss => 0.081071 | f1-score: arg_iden = 0.859859 arg_class = 0.709797 #\n",
      "Epoch  34 => avg_loss: 0.023994\n",
      "# Validation loss => 0.081828 | f1-score: arg_iden = 0.858741 arg_class = 0.706504 #\n",
      "Epoch  35 => avg_loss: 0.022656\n",
      "# Validation loss => 0.082239 | f1-score: arg_iden = 0.858215 arg_class = 0.708090 #\n",
      "Epoch  36 => avg_loss: 0.023189\n",
      "# Validation loss => 0.082395 | f1-score: arg_iden = 0.859465 arg_class = 0.709866 #\n",
      "Epoch  37 => avg_loss: 0.020820\n",
      "# Validation loss => 0.083384 | f1-score: arg_iden = 0.859373 arg_class = 0.708234 #\n",
      "Epoch  38 => avg_loss: 0.021039\n",
      "# Validation loss => 0.084591 | f1-score: arg_iden = 0.858294 arg_class = 0.706466 #\n",
      "Epoch  39 => avg_loss: 0.019747\n",
      "# Validation loss => 0.085911 | f1-score: arg_iden = 0.858473 arg_class = 0.709704 #\n",
      "Epoch  40 => avg_loss: 0.019452\n",
      "# Validation loss => 0.085331 | f1-score: arg_iden = 0.858370 arg_class = 0.710874 #\n",
      "Epoch  41 => avg_loss: 0.019408\n",
      "# Validation loss => 0.087640 | f1-score: arg_iden = 0.857055 arg_class = 0.709790 #\n",
      "Epoch  42 => avg_loss: 0.018570\n",
      "# Validation loss => 0.088205 | f1-score: arg_iden = 0.857734 arg_class = 0.706467 #\n",
      "Epoch  43 => avg_loss: 0.018177\n",
      "# Validation loss => 0.088079 | f1-score: arg_iden = 0.859349 arg_class = 0.710559 #\n",
      "Epoch  44 => avg_loss: 0.018653\n",
      "# Validation loss => 0.090629 | f1-score: arg_iden = 0.853576 arg_class = 0.702957 #\n",
      "Epoch  45 => avg_loss: 0.017045\n",
      "# Validation loss => 0.089492 | f1-score: arg_iden = 0.857823 arg_class = 0.707575 #\n",
      "Epoch  46 => avg_loss: 0.016698\n",
      "# Validation loss => 0.090427 | f1-score: arg_iden = 0.858638 arg_class = 0.703359 #\n",
      "Epoch  47 => avg_loss: 0.015920\n",
      "# Validation loss => 0.090828 | f1-score: arg_iden = 0.857439 arg_class = 0.708861 #\n",
      "Epoch  48 => avg_loss: 0.016025\n",
      "# Validation loss => 0.092212 | f1-score: arg_iden = 0.856995 arg_class = 0.706126 #\n",
      "Epoch  49 => avg_loss: 0.015903\n",
      "# Validation loss => 0.091261 | f1-score: arg_iden = 0.858366 arg_class = 0.709004 #\n",
      "Epoch  50 => avg_loss: 0.014646\n",
      "# Validation loss => 0.094960 | f1-score: arg_iden = 0.855564 arg_class = 0.701402 #\n",
      "Epoch  51 => avg_loss: 0.015149\n",
      "# Validation loss => 0.093081 | f1-score: arg_iden = 0.859168 arg_class = 0.707391 #\n",
      "Epoch  52 => avg_loss: 0.014755\n",
      "# Validation loss => 0.094008 | f1-score: arg_iden = 0.855936 arg_class = 0.703627 #\n",
      "Epoch  53 => avg_loss: 0.013456\n",
      "# Validation loss => 0.095161 | f1-score: arg_iden = 0.857821 arg_class = 0.702229 #\n",
      "Epoch  54 => avg_loss: 0.012715\n",
      "# Validation loss => 0.094915 | f1-score: arg_iden = 0.858740 arg_class = 0.706406 #\n",
      "Epoch  55 => avg_loss: 0.013641\n",
      "# Validation loss => 0.095578 | f1-score: arg_iden = 0.860159 arg_class = 0.706104 #\n",
      "Epoch  56 => avg_loss: 0.012661\n",
      "# Validation loss => 0.098622 | f1-score: arg_iden = 0.852213 arg_class = 0.704019 #\n",
      "Epoch  57 => avg_loss: 0.012417\n",
      "# Validation loss => 0.097072 | f1-score: arg_iden = 0.856099 arg_class = 0.700198 #\n",
      "Epoch  58 => avg_loss: 0.012711\n",
      "# Validation loss => 0.098408 | f1-score: arg_iden = 0.855325 arg_class = 0.701416 #\n",
      "Epoch  59 => avg_loss: 0.011284\n",
      "# Validation loss => 0.097865 | f1-score: arg_iden = 0.855485 arg_class = 0.705687 #\n"
     ]
    }
   ],
   "source": [
    "from stud.modelsTests.utils.Trainer_aic_transformer_simple import Trainer_aic_transformer_simple\n",
    "\n",
    "trainer = Trainer_aic_transformer_simple()\n",
    "\n",
    "history = trainer.train(\n",
    "    final_model, optimizer, dataloader_train_es, dataloader_dev_es,\n",
    "    epochs=60, device=device,\n",
    "    save_best=True, \n",
    "    min_score=0.6,\n",
    "    save_path_name=os.path.join(model_dir_path, 'aic_transformer_weights_es.pth'),\n",
    "    saved_history=history\n",
    ")"
   ]
  },
  {
   "cell_type": "code",
   "execution_count": 27,
   "metadata": {},
   "outputs": [
    {
     "data": {
      "image/png": "[encoded data removed]",
      "text/plain": [
       "<Figure size 576x576 with 1 Axes>"
      ]
     },
     "metadata": {
      "needs_background": "light"
     },
     "output_type": "display_data"
    }
   ],
   "source": [
    "display_history(history)"
   ]
  },
  {
   "cell_type": "code",
   "execution_count": null,
   "metadata": {},
   "outputs": [],
   "source": []
  },
  {
   "cell_type": "markdown",
   "metadata": {},
   "source": [
    "# French"
   ]
  },
  {
   "cell_type": "code",
   "execution_count": 28,
   "metadata": {},
   "outputs": [],
   "source": [
    "loss_function = torch.nn.CrossEntropyLoss(ignore_index = dataset_train_en.labels['roles_pad_id']) # !"
   ]
  },
  {
   "cell_type": "code",
   "execution_count": 29,
   "metadata": {},
   "outputs": [],
   "source": [
    "from stud.modelsTests.model_arg_iden_class_part.Model_aic_transformer_simple import ArgIdenClassModel\n",
    "import torch.optim as optim\n",
    "\n",
    "final_model = ArgIdenClassModel(\n",
    "    language = 'EN',\n",
    "    device = device,\n",
    "    model_load_weights = True, # !!!\n",
    "    loss_fn = loss_function,\n",
    "    fine_tune_transformer=True,\n",
    "    saves_path_folder = test_name,\n",
    ")\n",
    "\n",
    "optimizer = optim.SGD(final_model.model.parameters(), lr=0.0016, momentum=0.9)\n",
    "# optimizer = optim.Adam(final_model.model.parameters(), lr=0.0016)"
   ]
  },
  {
   "cell_type": "code",
   "execution_count": 30,
   "metadata": {},
   "outputs": [],
   "source": [
    "history = {}"
   ]
  },
  {
   "cell_type": "code",
   "execution_count": 31,
   "metadata": {},
   "outputs": [
    {
     "name": "stdout",
     "output_type": "stream",
     "text": [
      "Epoch   0 => avg_loss: 0.107764\n",
      "# Validation loss => 0.094001 | f1-score: arg_iden = 0.841540 arg_class = 0.647672 #\n",
      "----- Best value obtained, saving model -----\n",
      "Epoch   1 => avg_loss: 0.089630\n",
      "# Validation loss => 0.086482 | f1-score: arg_iden = 0.844070 arg_class = 0.647184 #\n",
      "Epoch   2 => avg_loss: 0.079617\n",
      "# Validation loss => 0.082955 | f1-score: arg_iden = 0.848041 arg_class = 0.655623 #\n",
      "----- Best value obtained, saving model -----\n",
      "Epoch   3 => avg_loss: 0.073092\n",
      "# Validation loss => 0.082860 | f1-score: arg_iden = 0.847504 arg_class = 0.663464 #\n",
      "----- Best value obtained, saving model -----\n",
      "Epoch   4 => avg_loss: 0.068149\n",
      "# Validation loss => 0.081641 | f1-score: arg_iden = 0.849124 arg_class = 0.660266 #\n",
      "Epoch   5 => avg_loss: 0.064653\n",
      "# Validation loss => 0.081038 | f1-score: arg_iden = 0.850102 arg_class = 0.655952 #\n",
      "Epoch   6 => avg_loss: 0.060221\n",
      "# Validation loss => 0.081272 | f1-score: arg_iden = 0.850415 arg_class = 0.660149 #\n",
      "Epoch   7 => avg_loss: 0.057223\n",
      "# Validation loss => 0.082098 | f1-score: arg_iden = 0.847540 arg_class = 0.653040 #\n",
      "Epoch   8 => avg_loss: 0.055364\n",
      "# Validation loss => 0.082626 | f1-score: arg_iden = 0.849771 arg_class = 0.653974 #\n",
      "Epoch   9 => avg_loss: 0.054306\n",
      "# Validation loss => 0.083130 | f1-score: arg_iden = 0.847234 arg_class = 0.657927 #\n",
      "Epoch  10 => avg_loss: 0.051934\n",
      "# Validation loss => 0.080261 | f1-score: arg_iden = 0.854801 arg_class = 0.666170 #\n",
      "----- Best value obtained, saving model -----\n",
      "Epoch  11 => avg_loss: 0.050407\n",
      "# Validation loss => 0.083086 | f1-score: arg_iden = 0.847531 arg_class = 0.660288 #\n",
      "Epoch  12 => avg_loss: 0.049522\n",
      "# Validation loss => 0.082652 | f1-score: arg_iden = 0.850927 arg_class = 0.662592 #\n",
      "Epoch  13 => avg_loss: 0.046656\n",
      "# Validation loss => 0.080838 | f1-score: arg_iden = 0.850849 arg_class = 0.661115 #\n",
      "Epoch  14 => avg_loss: 0.047137\n",
      "# Validation loss => 0.082656 | f1-score: arg_iden = 0.851002 arg_class = 0.660368 #\n",
      "Epoch  15 => avg_loss: 0.043728\n",
      "# Validation loss => 0.082674 | f1-score: arg_iden = 0.852134 arg_class = 0.660752 #\n",
      "Epoch  16 => avg_loss: 0.044046\n",
      "# Validation loss => 0.082981 | f1-score: arg_iden = 0.846879 arg_class = 0.660243 #\n",
      "Epoch  17 => avg_loss: 0.042702\n",
      "# Validation loss => 0.084488 | f1-score: arg_iden = 0.848674 arg_class = 0.660426 #\n",
      "Epoch  18 => avg_loss: 0.040005\n",
      "# Validation loss => 0.083723 | f1-score: arg_iden = 0.848980 arg_class = 0.665038 #\n",
      "Epoch  19 => avg_loss: 0.038713\n",
      "# Validation loss => 0.084564 | f1-score: arg_iden = 0.849361 arg_class = 0.661848 #\n",
      "Epoch  20 => avg_loss: 0.038607\n",
      "# Validation loss => 0.085589 | f1-score: arg_iden = 0.848277 arg_class = 0.663543 #\n",
      "Epoch  21 => avg_loss: 0.037192\n",
      "# Validation loss => 0.084841 | f1-score: arg_iden = 0.849947 arg_class = 0.667229 #\n",
      "----- Best value obtained, saving model -----\n",
      "Epoch  22 => avg_loss: 0.038394\n",
      "# Validation loss => 0.086814 | f1-score: arg_iden = 0.849131 arg_class = 0.657285 #\n",
      "Epoch  23 => avg_loss: 0.036892\n",
      "# Validation loss => 0.088173 | f1-score: arg_iden = 0.847651 arg_class = 0.658249 #\n",
      "Epoch  24 => avg_loss: 0.036092\n",
      "# Validation loss => 0.088069 | f1-score: arg_iden = 0.848267 arg_class = 0.660426 #\n",
      "Epoch  25 => avg_loss: 0.036331\n",
      "# Validation loss => 0.087492 | f1-score: arg_iden = 0.849703 arg_class = 0.663473 #\n",
      "Epoch  26 => avg_loss: 0.034275\n",
      "# Validation loss => 0.089251 | f1-score: arg_iden = 0.845935 arg_class = 0.652645 #\n",
      "Epoch  27 => avg_loss: 0.031292\n",
      "# Validation loss => 0.091031 | f1-score: arg_iden = 0.845908 arg_class = 0.659511 #\n",
      "Epoch  28 => avg_loss: 0.029860\n",
      "# Validation loss => 0.091369 | f1-score: arg_iden = 0.845533 arg_class = 0.656121 #\n",
      "Epoch  29 => avg_loss: 0.034177\n",
      "# Validation loss => 0.091774 | f1-score: arg_iden = 0.845348 arg_class = 0.658198 #\n",
      "Epoch  30 => avg_loss: 0.031910\n",
      "# Validation loss => 0.091519 | f1-score: arg_iden = 0.849025 arg_class = 0.655693 #\n",
      "Epoch  31 => avg_loss: 0.027819\n",
      "# Validation loss => 0.092000 | f1-score: arg_iden = 0.847697 arg_class = 0.660983 #\n",
      "Epoch  32 => avg_loss: 0.026326\n",
      "# Validation loss => 0.091672 | f1-score: arg_iden = 0.848319 arg_class = 0.656303 #\n",
      "Epoch  33 => avg_loss: 0.025743\n",
      "# Validation loss => 0.092710 | f1-score: arg_iden = 0.847093 arg_class = 0.656090 #\n",
      "Epoch  34 => avg_loss: 0.024795\n",
      "# Validation loss => 0.093362 | f1-score: arg_iden = 0.847315 arg_class = 0.655621 #\n",
      "Epoch  35 => avg_loss: 0.025260\n",
      "# Validation loss => 0.095658 | f1-score: arg_iden = 0.846940 arg_class = 0.654763 #\n",
      "Epoch  36 => avg_loss: 0.024787\n",
      "# Validation loss => 0.094983 | f1-score: arg_iden = 0.849631 arg_class = 0.659462 #\n",
      "Epoch  37 => avg_loss: 0.026908\n",
      "# Validation loss => 0.095039 | f1-score: arg_iden = 0.843685 arg_class = 0.651730 #\n",
      "Epoch  38 => avg_loss: 0.024334\n",
      "# Validation loss => 0.094787 | f1-score: arg_iden = 0.848897 arg_class = 0.655861 #\n",
      "Epoch  39 => avg_loss: 0.021942\n",
      "# Validation loss => 0.095169 | f1-score: arg_iden = 0.848478 arg_class = 0.656243 #\n",
      "Epoch  40 => avg_loss: 0.021239\n",
      "# Validation loss => 0.097315 | f1-score: arg_iden = 0.844865 arg_class = 0.658168 #\n",
      "Epoch  41 => avg_loss: 0.021120\n",
      "# Validation loss => 0.097864 | f1-score: arg_iden = 0.845770 arg_class = 0.657452 #\n",
      "Epoch  42 => avg_loss: 0.019984\n",
      "# Validation loss => 0.098433 | f1-score: arg_iden = 0.847174 arg_class = 0.654340 #\n",
      "Epoch  43 => avg_loss: 0.020269\n",
      "# Validation loss => 0.099422 | f1-score: arg_iden = 0.847546 arg_class = 0.656406 #\n",
      "Epoch  44 => avg_loss: 0.020834\n",
      "# Validation loss => 0.099666 | f1-score: arg_iden = 0.848855 arg_class = 0.654097 #\n",
      "Epoch  45 => avg_loss: 0.018519\n",
      "# Validation loss => 0.101294 | f1-score: arg_iden = 0.844577 arg_class = 0.649912 #\n",
      "Epoch  46 => avg_loss: 0.018615\n",
      "# Validation loss => 0.102072 | f1-score: arg_iden = 0.849358 arg_class = 0.652300 #\n",
      "Epoch  47 => avg_loss: 0.017606\n",
      "# Validation loss => 0.102374 | f1-score: arg_iden = 0.848548 arg_class = 0.654229 #\n",
      "Epoch  48 => avg_loss: 0.017271\n",
      "# Validation loss => 0.103205 | f1-score: arg_iden = 0.843574 arg_class = 0.653406 #\n",
      "Epoch  49 => avg_loss: 0.016481\n",
      "# Validation loss => 0.105499 | f1-score: arg_iden = 0.842333 arg_class = 0.653502 #\n",
      "Epoch  50 => avg_loss: 0.018206\n",
      "# Validation loss => 0.105938 | f1-score: arg_iden = 0.842471 arg_class = 0.652578 #\n",
      "Epoch  51 => avg_loss: 0.016574\n",
      "# Validation loss => 0.105875 | f1-score: arg_iden = 0.845968 arg_class = 0.654923 #\n",
      "Epoch  52 => avg_loss: 0.017463\n",
      "# Validation loss => 0.106139 | f1-score: arg_iden = 0.845491 arg_class = 0.653353 #\n",
      "Epoch  53 => avg_loss: 0.015428\n",
      "# Validation loss => 0.106317 | f1-score: arg_iden = 0.845165 arg_class = 0.655515 #\n",
      "Epoch  54 => avg_loss: 0.015136\n",
      "# Validation loss => 0.107436 | f1-score: arg_iden = 0.843993 arg_class = 0.651394 #\n",
      "Epoch  55 => avg_loss: 0.014216\n",
      "# Validation loss => 0.108582 | f1-score: arg_iden = 0.845946 arg_class = 0.654470 #\n",
      "Epoch  56 => avg_loss: 0.013827\n",
      "# Validation loss => 0.107503 | f1-score: arg_iden = 0.846421 arg_class = 0.652791 #\n",
      "Epoch  57 => avg_loss: 0.012977\n",
      "# Validation loss => 0.110798 | f1-score: arg_iden = 0.842149 arg_class = 0.651564 #\n",
      "Epoch  58 => avg_loss: 0.013444\n",
      "# Validation loss => 0.111667 | f1-score: arg_iden = 0.841906 arg_class = 0.650220 #\n",
      "Epoch  59 => avg_loss: 0.011700\n",
      "# Validation loss => 0.113758 | f1-score: arg_iden = 0.840997 arg_class = 0.650726 #\n"
     ]
    }
   ],
   "source": [
    "from stud.modelsTests.utils.Trainer_aic_transformer_simple import Trainer_aic_transformer_simple\n",
    "\n",
    "trainer = Trainer_aic_transformer_simple()\n",
    "\n",
    "history = trainer.train(\n",
    "    final_model, optimizer, dataloader_train_fr, dataloader_dev_fr,\n",
    "    epochs=60, device=device,\n",
    "    save_best=True, \n",
    "    min_score=0.6,\n",
    "    save_path_name=os.path.join(model_dir_path, 'aic_transformer_weights_fr.pth'),\n",
    "    saved_history=history\n",
    ")"
   ]
  },
  {
   "cell_type": "code",
   "execution_count": 32,
   "metadata": {},
   "outputs": [
    {
     "data": {
      "image/png": "[encoded data removed]",
      "text/plain": [
       "<Figure size 576x576 with 1 Axes>"
      ]
     },
     "metadata": {
      "needs_background": "light"
     },
     "output_type": "display_data"
    }
   ],
   "source": [
    "display_history(history)"
   ]
  }
 ],
 "metadata": {
  "interpreter": {
   "hash": "176726de92aa5f7c7bad0ace42430d0e9e67427a9b4905ef1c48cfd9a71ff23e"
  },
  "kernelspec": {
   "display_name": "Python 3.9.12 ('nlp2022-hw2')",
   "language": "python",
   "name": "python3"
  },
  "language_info": {
   "codemirror_mode": {
    "name": "ipython",
    "version": 3
   },
   "file_extension": ".py",
   "mimetype": "text/x-python",
   "name": "python",
   "nbconvert_exporter": "python",
   "pygments_lexer": "ipython3",
   "version": "3.9.12"
  },
  "orig_nbformat": 4
 },
 "nbformat": 4,
 "nbformat_minor": 2
}
