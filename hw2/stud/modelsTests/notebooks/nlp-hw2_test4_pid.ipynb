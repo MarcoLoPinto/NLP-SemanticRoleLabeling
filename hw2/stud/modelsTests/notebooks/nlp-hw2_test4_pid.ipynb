{
 "cells": [
  {
   "cell_type": "markdown",
   "id": "3fe2040e",
   "metadata": {
    "papermill": {
     "duration": 0.078963,
     "end_time": "2022-03-31T22:14:09.386664",
     "exception": false,
     "start_time": "2022-03-31T22:14:09.307701",
     "status": "completed"
    },
    "tags": []
   },
   "source": [
    "# Prerequisites"
   ]
  },
  {
   "cell_type": "code",
   "execution_count": 1,
   "metadata": {},
   "outputs": [
    {
     "name": "stderr",
     "output_type": "stream",
     "text": [
      "/home/marco/miniconda3/envs/nlp2022-hw2/lib/python3.9/site-packages/tqdm/auto.py:22: TqdmWarning: IProgress not found. Please update jupyter and ipywidgets. See https://ipywidgets.readthedocs.io/en/stable/user_install.html\n",
      "  from .autonotebook import tqdm as notebook_tqdm\n"
     ]
    }
   ],
   "source": [
    "import os, sys\n",
    "\n",
    "import numpy as np\n",
    "import tqdm\n",
    "import torch"
   ]
  },
  {
   "cell_type": "markdown",
   "id": "5424a631",
   "metadata": {
    "papermill": {
     "duration": 0.049244,
     "end_time": "2022-03-31T22:14:12.552634",
     "exception": false,
     "start_time": "2022-03-31T22:14:12.503390",
     "status": "completed"
    },
    "tags": []
   },
   "source": [
    "Important paths for the notebook:"
   ]
  },
  {
   "cell_type": "code",
   "execution_count": 2,
   "metadata": {},
   "outputs": [],
   "source": [
    "app_root = '../../../../'\n",
    "test_name = 'test4'\n",
    "datasets_path = os.path.join(app_root, 'data')\n",
    "model_dir_path = os.path.join(app_root, 'model', test_name)\n",
    "\n",
    "datasets_paths = {}\n",
    "for lang in os.listdir(datasets_path):\n",
    "    dataset_lang_path = os.path.join(datasets_path, lang)\n",
    "    if os.path.isdir(dataset_lang_path):\n",
    "        datasets_paths[lang] = {}\n",
    "        for d_type in os.listdir(dataset_lang_path):\n",
    "            d_name = d_type.split('.')[0]\n",
    "            datasets_paths[lang][d_name] = os.path.join(dataset_lang_path, d_type)"
   ]
  },
  {
   "cell_type": "code",
   "execution_count": 3,
   "metadata": {},
   "outputs": [
    {
     "data": {
      "text/plain": [
       "'cuda'"
      ]
     },
     "execution_count": 3,
     "metadata": {},
     "output_type": "execute_result"
    }
   ],
   "source": [
    "sys.path.append('../../../')\n",
    "\n",
    "%load_ext autoreload\n",
    "%autoreload 2\n",
    "\n",
    "device = 'cuda' if torch.cuda.is_available() else 'cpu'\n",
    "device"
   ]
  },
  {
   "cell_type": "markdown",
   "id": "c7bc95ee",
   "metadata": {
    "papermill": {
     "duration": 0.048851,
     "end_time": "2022-03-31T22:14:13.015246",
     "exception": false,
     "start_time": "2022-03-31T22:14:12.966395",
     "status": "completed"
    },
    "tags": []
   },
   "source": [
    "Setting the seed for reproducibility:"
   ]
  },
  {
   "cell_type": "code",
   "execution_count": 4,
   "metadata": {},
   "outputs": [],
   "source": [
    "SEED = 28\n",
    "\n",
    "# random.seed(SEED) # not used\n",
    "np.random.seed(SEED)\n",
    "torch.manual_seed(SEED)\n",
    "torch.backends.cudnn.deterministic = True"
   ]
  },
  {
   "cell_type": "code",
   "execution_count": 5,
   "metadata": {},
   "outputs": [],
   "source": [
    "global_params = {\n",
    "    'batch_size': 32,\n",
    "    'PAD_TOKEN': '<pad>',\n",
    "    'UNK_TOKEN': '<unk>',\n",
    "    'transformer_name': \"xlm-roberta-base\",\n",
    "}"
   ]
  },
  {
   "cell_type": "markdown",
   "id": "5a9214a0",
   "metadata": {
    "papermill": {
     "duration": 0.049393,
     "end_time": "2022-03-31T22:14:13.226777",
     "exception": false,
     "start_time": "2022-03-31T22:14:13.177384",
     "status": "completed"
    },
    "tags": []
   },
   "source": [
    "# Dataset"
   ]
  },
  {
   "cell_type": "code",
   "execution_count": 6,
   "metadata": {},
   "outputs": [],
   "source": [
    "from stud.modelsTests.dataset.SRLDataset_transformer import SRLDataset_transformer"
   ]
  },
  {
   "cell_type": "code",
   "execution_count": 7,
   "metadata": {},
   "outputs": [],
   "source": [
    "dataset_train_en = SRLDataset_transformer(  datasets_paths['EN']['train'], \n",
    "                                            tokenizer = global_params['transformer_name'],\n",
    "                                            baselines_file_path = os.path.join(app_root,'data/baselines.json'),\n",
    "                                            split_predicates = False)\n",
    "dataset_train_es = SRLDataset_transformer(  datasets_paths['ES']['train'], \n",
    "                                            tokenizer = dataset_train_en.tokenizer,\n",
    "                                            labels = dataset_train_en.labels,\n",
    "                                            split_predicates = False)\n",
    "dataset_train_fr = SRLDataset_transformer(  datasets_paths['FR']['train'], \n",
    "                                            tokenizer = dataset_train_en.tokenizer,\n",
    "                                            labels = dataset_train_en.labels,\n",
    "                                            split_predicates = False)"
   ]
  },
  {
   "cell_type": "code",
   "execution_count": 8,
   "metadata": {},
   "outputs": [],
   "source": [
    "SRLDataset_transformer.save_dict(\n",
    "    os.path.join(model_dir_path, 'labels.npy'), \n",
    "    dataset_train_en.labels)"
   ]
  },
  {
   "cell_type": "code",
   "execution_count": 9,
   "metadata": {},
   "outputs": [],
   "source": [
    "dataset_dev_en = SRLDataset_transformer(datasets_paths['EN']['dev'], \n",
    "                                        tokenizer = dataset_train_en.tokenizer,\n",
    "                                        labels = dataset_train_en.labels,\n",
    "                                        split_predicates = False)\n",
    "dataset_dev_es = SRLDataset_transformer(datasets_paths['ES']['dev'], \n",
    "                                        tokenizer = dataset_train_en.tokenizer,\n",
    "                                        labels = dataset_train_en.labels,\n",
    "                                        split_predicates = False)\n",
    "dataset_dev_fr = SRLDataset_transformer(datasets_paths['FR']['dev'], \n",
    "                                        tokenizer = dataset_train_en.tokenizer,\n",
    "                                        labels = dataset_train_en.labels,\n",
    "                                        split_predicates = False)"
   ]
  },
  {
   "cell_type": "code",
   "execution_count": 10,
   "metadata": {},
   "outputs": [
    {
     "data": {
      "text/plain": [
       "dict_keys(['dependency_heads', 'dependency_relations', 'lemmas', 'pos_tags', 'predicates', 'roles', 'words'])"
      ]
     },
     "execution_count": 10,
     "metadata": {},
     "output_type": "execute_result"
    }
   ],
   "source": [
    "next(iter(dataset_train_en)).keys()"
   ]
  },
  {
   "cell_type": "code",
   "execution_count": 11,
   "metadata": {},
   "outputs": [],
   "source": [
    "global_params.update({ \n",
    "    'n_roles_labels': len(dataset_train_en.labels['id_to_roles']),\n",
    "    'n_predicates_labels': len(dataset_train_en.labels['id_to_predicates'])\n",
    "})"
   ]
  },
  {
   "cell_type": "markdown",
   "id": "15baf7b6",
   "metadata": {},
   "source": [
    "Saving global variables..."
   ]
  },
  {
   "cell_type": "code",
   "execution_count": 12,
   "metadata": {},
   "outputs": [],
   "source": [
    "np.save(os.path.join(model_dir_path, 'global_params.npy'), global_params)"
   ]
  },
  {
   "cell_type": "markdown",
   "metadata": {},
   "source": [
    "# DataLoader"
   ]
  },
  {
   "cell_type": "code",
   "execution_count": 13,
   "metadata": {},
   "outputs": [],
   "source": [
    "from torch.utils.data import DataLoader"
   ]
  },
  {
   "cell_type": "code",
   "execution_count": 14,
   "metadata": {},
   "outputs": [],
   "source": [
    "import os\n",
    "os.environ[\"TOKENIZERS_PARALLELISM\"] = \"false\"\n",
    "num_workers = 4"
   ]
  },
  {
   "cell_type": "code",
   "execution_count": 15,
   "metadata": {},
   "outputs": [],
   "source": [
    "dataloader_train_en = DataLoader(\n",
    "    dataset_train_en,\n",
    "    batch_size=global_params['batch_size'],\n",
    "    collate_fn=dataset_train_en.create_collate_fn(),\n",
    "    num_workers=num_workers,\n",
    "    shuffle=True,\n",
    ")\n",
    "\n",
    "dataloader_train_es = DataLoader(\n",
    "    dataset_train_es,\n",
    "    batch_size=global_params['batch_size'],\n",
    "    collate_fn=dataset_train_es.create_collate_fn(),\n",
    "    num_workers=num_workers,\n",
    "    shuffle=True,\n",
    ")\n",
    "\n",
    "dataloader_train_fr = DataLoader(\n",
    "    dataset_train_fr,\n",
    "    batch_size=global_params['batch_size'],\n",
    "    collate_fn=dataset_train_fr.create_collate_fn(),\n",
    "    num_workers=num_workers,\n",
    "    shuffle=True,\n",
    ")"
   ]
  },
  {
   "cell_type": "code",
   "execution_count": 16,
   "metadata": {},
   "outputs": [],
   "source": [
    "dataloader_dev_en = DataLoader(\n",
    "    dataset_dev_en,\n",
    "    batch_size=global_params['batch_size'],\n",
    "    collate_fn=dataset_dev_en.create_collate_fn(),\n",
    "    num_workers=num_workers,\n",
    "    shuffle=False,\n",
    ")\n",
    "\n",
    "dataloader_dev_es = DataLoader(\n",
    "    dataset_dev_es,\n",
    "    batch_size=global_params['batch_size'],\n",
    "    collate_fn=dataset_dev_es.create_collate_fn(),\n",
    "    num_workers=num_workers,\n",
    "    shuffle=False,\n",
    ")\n",
    "\n",
    "dataloader_dev_fr = DataLoader(\n",
    "    dataset_dev_fr,\n",
    "    batch_size=global_params['batch_size'],\n",
    "    collate_fn=dataset_dev_fr.create_collate_fn(),\n",
    "    num_workers=num_workers,\n",
    "    shuffle=False,\n",
    ")"
   ]
  },
  {
   "cell_type": "markdown",
   "metadata": {},
   "source": [
    "# Printing model"
   ]
  },
  {
   "cell_type": "code",
   "execution_count": 17,
   "metadata": {},
   "outputs": [],
   "source": [
    "from stud.modelsTests.utils.print_infos import *"
   ]
  },
  {
   "cell_type": "markdown",
   "metadata": {},
   "source": [
    "# English"
   ]
  },
  {
   "cell_type": "markdown",
   "metadata": {},
   "source": [
    "## Predicate diamb part"
   ]
  },
  {
   "cell_type": "code",
   "execution_count": 18,
   "metadata": {},
   "outputs": [],
   "source": [
    "loss_function = torch.nn.CrossEntropyLoss(ignore_index = dataset_train_en.labels['predicates_pad_id']) # !"
   ]
  },
  {
   "cell_type": "markdown",
   "metadata": {},
   "source": [
    "This first test will use the position of the predicates (so, doing only disambiguation)"
   ]
  },
  {
   "cell_type": "code",
   "execution_count": 19,
   "metadata": {},
   "outputs": [
    {
     "name": "stderr",
     "output_type": "stream",
     "text": [
      "Some weights of the model checkpoint at xlm-roberta-base were not used when initializing XLMRobertaModel: ['lm_head.decoder.weight', 'lm_head.layer_norm.weight', 'lm_head.dense.bias', 'lm_head.layer_norm.bias', 'lm_head.dense.weight', 'lm_head.bias']\n",
      "- This IS expected if you are initializing XLMRobertaModel from the checkpoint of a model trained on another task or with another architecture (e.g. initializing a BertForSequenceClassification model from a BertForPreTraining model).\n",
      "- This IS NOT expected if you are initializing XLMRobertaModel from the checkpoint of a model that you expect to be exactly identical (initializing a BertForSequenceClassification model from a BertForSequenceClassification model).\n"
     ]
    }
   ],
   "source": [
    "from stud.modelsTests.model_pred_iden_dis_part.Model_pid_transformer_simple import PredIdenDisModel\n",
    "import torch.optim as optim\n",
    "\n",
    "final_model = PredIdenDisModel(\n",
    "    language = 'EN',\n",
    "    device = device,\n",
    "    model_load_weights = False,\n",
    "    loss_fn = loss_function,\n",
    "    fine_tune_transformer = True,\n",
    "    has_predicates_positions = True, # !\n",
    "    has_pos_tags = False,\n",
    ")\n",
    "\n",
    "optimizer = optim.SGD(final_model.model.parameters(), lr=0.0016, momentum=0.9)\n",
    "# optimizer = optim.Adam(model.parameters(), lr=0.0016)"
   ]
  },
  {
   "cell_type": "code",
   "execution_count": 20,
   "metadata": {},
   "outputs": [],
   "source": [
    "history = {}"
   ]
  },
  {
   "cell_type": "code",
   "execution_count": 21,
   "metadata": {},
   "outputs": [
    {
     "name": "stdout",
     "output_type": "stream",
     "text": [
      "Epoch   0 => avg_loss: 4.936601\n",
      "# Validation loss => 3.652391 | f1-score: arg_iden = 1.000000 arg_class = 0.430866 #\n",
      "Epoch   1 => avg_loss: 2.591473\n",
      "# Validation loss => 1.578116 | f1-score: arg_iden = 1.000000 arg_class = 0.652566 #\n",
      "Epoch   2 => avg_loss: 1.047984\n",
      "# Validation loss => 0.625394 | f1-score: arg_iden = 1.000000 arg_class = 0.734822 #\n",
      "Epoch   3 => avg_loss: 0.488957\n",
      "# Validation loss => 0.343101 | f1-score: arg_iden = 1.000000 arg_class = 0.784175 #\n",
      "Epoch   4 => avg_loss: 0.307820\n",
      "# Validation loss => 0.237645 | f1-score: arg_iden = 1.000000 arg_class = 0.803369 #\n",
      "Epoch   5 => avg_loss: 0.227835\n",
      "# Validation loss => 0.184775 | f1-score: arg_iden = 1.000000 arg_class = 0.821778 #\n",
      "Epoch   6 => avg_loss: 0.183993\n",
      "# Validation loss => 0.153004 | f1-score: arg_iden = 1.000000 arg_class = 0.828045 #\n",
      "Epoch   7 => avg_loss: 0.154359\n",
      "# Validation loss => 0.132497 | f1-score: arg_iden = 1.000000 arg_class = 0.833921 #\n",
      "----- Best value obtained, saving model -----\n",
      "Epoch   8 => avg_loss: 0.134117\n",
      "# Validation loss => 0.117254 | f1-score: arg_iden = 1.000000 arg_class = 0.842930 #\n",
      "----- Best value obtained, saving model -----\n",
      "Epoch   9 => avg_loss: 0.118781\n",
      "# Validation loss => 0.106875 | f1-score: arg_iden = 1.000000 arg_class = 0.843713 #\n",
      "----- Best value obtained, saving model -----\n",
      "Epoch  10 => avg_loss: 0.107784\n",
      "# Validation loss => 0.097915 | f1-score: arg_iden = 1.000000 arg_class = 0.851156 #\n",
      "----- Best value obtained, saving model -----\n",
      "Epoch  11 => avg_loss: 0.097074\n",
      "# Validation loss => 0.091135 | f1-score: arg_iden = 1.000000 arg_class = 0.855464 #\n",
      "----- Best value obtained, saving model -----\n",
      "Epoch  12 => avg_loss: 0.090083\n",
      "# Validation loss => 0.086672 | f1-score: arg_iden = 1.000000 arg_class = 0.860948 #\n",
      "----- Best value obtained, saving model -----\n",
      "Epoch  13 => avg_loss: 0.083507\n",
      "# Validation loss => 0.081389 | f1-score: arg_iden = 1.000000 arg_class = 0.865257 #\n",
      "----- Best value obtained, saving model -----\n",
      "Epoch  14 => avg_loss: 0.078045\n",
      "# Validation loss => 0.078017 | f1-score: arg_iden = 1.000000 arg_class = 0.867215 #\n",
      "----- Best value obtained, saving model -----\n",
      "Epoch  15 => avg_loss: 0.072938\n",
      "# Validation loss => 0.074421 | f1-score: arg_iden = 1.000000 arg_class = 0.873090 #\n",
      "----- Best value obtained, saving model -----\n",
      "Epoch  16 => avg_loss: 0.068218\n",
      "# Validation loss => 0.071901 | f1-score: arg_iden = 1.000000 arg_class = 0.872699 #\n",
      "Epoch  17 => avg_loss: 0.064655\n",
      "# Validation loss => 0.069616 | f1-score: arg_iden = 1.000000 arg_class = 0.874657 #\n",
      "----- Best value obtained, saving model -----\n",
      "Epoch  18 => avg_loss: 0.060533\n",
      "# Validation loss => 0.067320 | f1-score: arg_iden = 1.000000 arg_class = 0.878574 #\n",
      "----- Best value obtained, saving model -----\n",
      "Epoch  19 => avg_loss: 0.057959\n",
      "# Validation loss => 0.065418 | f1-score: arg_iden = 1.000000 arg_class = 0.880924 #\n",
      "----- Best value obtained, saving model -----\n",
      "Epoch  20 => avg_loss: 0.055289\n",
      "# Validation loss => 0.063895 | f1-score: arg_iden = 1.000000 arg_class = 0.881316 #\n",
      "----- Best value obtained, saving model -----\n",
      "Epoch  21 => avg_loss: 0.052644\n",
      "# Validation loss => 0.062169 | f1-score: arg_iden = 1.000000 arg_class = 0.884841 #\n",
      "----- Best value obtained, saving model -----\n",
      "Epoch  22 => avg_loss: 0.050285\n",
      "# Validation loss => 0.060934 | f1-score: arg_iden = 1.000000 arg_class = 0.883275 #\n",
      "Epoch  23 => avg_loss: 0.048343\n",
      "# Validation loss => 0.059774 | f1-score: arg_iden = 1.000000 arg_class = 0.884841 #\n",
      "Epoch  24 => avg_loss: 0.045845\n",
      "# Validation loss => 0.059289 | f1-score: arg_iden = 1.000000 arg_class = 0.885233 #\n",
      "----- Best value obtained, saving model -----\n",
      "Epoch  25 => avg_loss: 0.044348\n",
      "# Validation loss => 0.057829 | f1-score: arg_iden = 1.000000 arg_class = 0.886800 #\n",
      "----- Best value obtained, saving model -----\n",
      "Epoch  26 => avg_loss: 0.042658\n",
      "# Validation loss => 0.056590 | f1-score: arg_iden = 1.000000 arg_class = 0.886408 #\n",
      "Epoch  27 => avg_loss: 0.041381\n",
      "# Validation loss => 0.055611 | f1-score: arg_iden = 1.000000 arg_class = 0.886016 #\n",
      "Epoch  28 => avg_loss: 0.039452\n",
      "# Validation loss => 0.055513 | f1-score: arg_iden = 1.000000 arg_class = 0.884841 #\n",
      "Epoch  29 => avg_loss: 0.038218\n",
      "# Validation loss => 0.055129 | f1-score: arg_iden = 1.000000 arg_class = 0.884058 #\n",
      "Epoch  30 => avg_loss: 0.037516\n",
      "# Validation loss => 0.054112 | f1-score: arg_iden = 1.000000 arg_class = 0.888758 #\n",
      "----- Best value obtained, saving model -----\n",
      "Epoch  31 => avg_loss: 0.035986\n",
      "# Validation loss => 0.053702 | f1-score: arg_iden = 1.000000 arg_class = 0.887583 #\n",
      "Epoch  32 => avg_loss: 0.035112\n",
      "# Validation loss => 0.052950 | f1-score: arg_iden = 1.000000 arg_class = 0.889542 #\n",
      "----- Best value obtained, saving model -----\n",
      "Epoch  33 => avg_loss: 0.033942\n",
      "# Validation loss => 0.052692 | f1-score: arg_iden = 1.000000 arg_class = 0.889150 #\n",
      "Epoch  34 => avg_loss: 0.032183\n",
      "# Validation loss => 0.051598 | f1-score: arg_iden = 1.000000 arg_class = 0.887975 #\n",
      "Epoch  35 => avg_loss: 0.031833\n",
      "# Validation loss => 0.051855 | f1-score: arg_iden = 1.000000 arg_class = 0.887975 #\n",
      "Epoch  36 => avg_loss: 0.030712\n",
      "# Validation loss => 0.051208 | f1-score: arg_iden = 1.000000 arg_class = 0.889933 #\n",
      "----- Best value obtained, saving model -----\n",
      "Epoch  37 => avg_loss: 0.029616\n",
      "# Validation loss => 0.051515 | f1-score: arg_iden = 1.000000 arg_class = 0.889542 #\n",
      "Epoch  38 => avg_loss: 0.028982\n",
      "# Validation loss => 0.050525 | f1-score: arg_iden = 1.000000 arg_class = 0.889933 #\n",
      "Epoch  39 => avg_loss: 0.028421\n",
      "# Validation loss => 0.049930 | f1-score: arg_iden = 1.000000 arg_class = 0.889542 #\n",
      "Epoch  40 => avg_loss: 0.027455\n",
      "# Validation loss => 0.049683 | f1-score: arg_iden = 1.000000 arg_class = 0.892675 #\n",
      "----- Best value obtained, saving model -----\n",
      "Epoch  41 => avg_loss: 0.026706\n",
      "# Validation loss => 0.049740 | f1-score: arg_iden = 1.000000 arg_class = 0.890325 #\n",
      "Epoch  42 => avg_loss: 0.026111\n",
      "# Validation loss => 0.049094 | f1-score: arg_iden = 1.000000 arg_class = 0.891500 #\n",
      "Epoch  43 => avg_loss: 0.025348\n",
      "# Validation loss => 0.049354 | f1-score: arg_iden = 1.000000 arg_class = 0.893459 #\n",
      "----- Best value obtained, saving model -----\n",
      "Epoch  44 => avg_loss: 0.024618\n",
      "# Validation loss => 0.048482 | f1-score: arg_iden = 1.000000 arg_class = 0.892675 #\n",
      "Epoch  45 => avg_loss: 0.024351\n",
      "# Validation loss => 0.048087 | f1-score: arg_iden = 1.000000 arg_class = 0.891500 #\n",
      "Epoch  46 => avg_loss: 0.023488\n",
      "# Validation loss => 0.047869 | f1-score: arg_iden = 1.000000 arg_class = 0.890717 #\n",
      "Epoch  47 => avg_loss: 0.023144\n",
      "# Validation loss => 0.048243 | f1-score: arg_iden = 1.000000 arg_class = 0.894242 #\n",
      "----- Best value obtained, saving model -----\n",
      "Epoch  48 => avg_loss: 0.022271\n",
      "# Validation loss => 0.048106 | f1-score: arg_iden = 1.000000 arg_class = 0.892675 #\n",
      "Epoch  49 => avg_loss: 0.022026\n",
      "# Validation loss => 0.047996 | f1-score: arg_iden = 1.000000 arg_class = 0.893850 #\n",
      "Epoch  50 => avg_loss: 0.021352\n",
      "# Validation loss => 0.047942 | f1-score: arg_iden = 1.000000 arg_class = 0.890325 #\n",
      "Epoch  51 => avg_loss: 0.020457\n",
      "# Validation loss => 0.048045 | f1-score: arg_iden = 1.000000 arg_class = 0.891500 #\n",
      "Epoch  52 => avg_loss: 0.020648\n",
      "# Validation loss => 0.047461 | f1-score: arg_iden = 1.000000 arg_class = 0.895025 #\n",
      "----- Best value obtained, saving model -----\n",
      "Epoch  53 => avg_loss: 0.019870\n",
      "# Validation loss => 0.047462 | f1-score: arg_iden = 1.000000 arg_class = 0.894242 #\n",
      "Epoch  54 => avg_loss: 0.019828\n",
      "# Validation loss => 0.047692 | f1-score: arg_iden = 1.000000 arg_class = 0.895025 #\n",
      "Epoch  55 => avg_loss: 0.019132\n",
      "# Validation loss => 0.047641 | f1-score: arg_iden = 1.000000 arg_class = 0.890717 #\n",
      "Epoch  56 => avg_loss: 0.018676\n",
      "# Validation loss => 0.047407 | f1-score: arg_iden = 1.000000 arg_class = 0.891108 #\n",
      "Epoch  57 => avg_loss: 0.018107\n",
      "# Validation loss => 0.047337 | f1-score: arg_iden = 1.000000 arg_class = 0.892284 #\n",
      "Epoch  58 => avg_loss: 0.018209\n",
      "# Validation loss => 0.047177 | f1-score: arg_iden = 1.000000 arg_class = 0.891108 #\n",
      "Epoch  59 => avg_loss: 0.017369\n",
      "# Validation loss => 0.047035 | f1-score: arg_iden = 1.000000 arg_class = 0.892675 #\n"
     ]
    }
   ],
   "source": [
    "from stud.modelsTests.utils.Trainer_pid_transformer_simple import Trainer_pid_transformer_simple\n",
    "\n",
    "trainer = Trainer_pid_transformer_simple()\n",
    "\n",
    "history = trainer.train(\n",
    "    final_model, optimizer, dataloader_train_en, dataloader_dev_en,\n",
    "    epochs=60, device=device,\n",
    "    save_best=True, \n",
    "    min_score=0.83,\n",
    "    save_path_name=os.path.join(model_dir_path, 'pd_transformer_weights_en.pth'),\n",
    "    saved_history=history\n",
    ")"
   ]
  },
  {
   "cell_type": "code",
   "execution_count": 22,
   "metadata": {},
   "outputs": [
    {
     "data": {
      "image/png": "[encoded data removed]",
      "text/plain": [
       "<Figure size 576x576 with 1 Axes>"
      ]
     },
     "metadata": {
      "needs_background": "light"
     },
     "output_type": "display_data"
    }
   ],
   "source": [
    "display_history(history)"
   ]
  },
  {
   "cell_type": "markdown",
   "metadata": {},
   "source": [
    "## Predicate iden + diamb part"
   ]
  },
  {
   "cell_type": "code",
   "execution_count": 23,
   "metadata": {},
   "outputs": [],
   "source": [
    "loss_function = torch.nn.CrossEntropyLoss(ignore_index = dataset_train_en.labels['predicates_pad_id']) # !"
   ]
  },
  {
   "cell_type": "markdown",
   "metadata": {},
   "source": [
    "Here, I won't use the position of the predicates:"
   ]
  },
  {
   "cell_type": "code",
   "execution_count": 24,
   "metadata": {},
   "outputs": [
    {
     "name": "stderr",
     "output_type": "stream",
     "text": [
      "Some weights of the model checkpoint at xlm-roberta-base were not used when initializing XLMRobertaModel: ['lm_head.decoder.weight', 'lm_head.layer_norm.weight', 'lm_head.dense.bias', 'lm_head.layer_norm.bias', 'lm_head.dense.weight', 'lm_head.bias']\n",
      "- This IS expected if you are initializing XLMRobertaModel from the checkpoint of a model trained on another task or with another architecture (e.g. initializing a BertForSequenceClassification model from a BertForPreTraining model).\n",
      "- This IS NOT expected if you are initializing XLMRobertaModel from the checkpoint of a model that you expect to be exactly identical (initializing a BertForSequenceClassification model from a BertForSequenceClassification model).\n"
     ]
    }
   ],
   "source": [
    "from stud.modelsTests.model_pred_iden_dis_part.Model_pid_transformer_simple import PredIdenDisModel\n",
    "import torch.optim as optim\n",
    "\n",
    "final_model = PredIdenDisModel(\n",
    "    language = 'EN',\n",
    "    device = device,\n",
    "    model_load_weights = False,\n",
    "    loss_fn = loss_function,\n",
    "    fine_tune_transformer = True,\n",
    "    has_predicates_positions = False, # !\n",
    "    has_pos_tags = False,\n",
    ")\n",
    "\n",
    "optimizer = optim.SGD(final_model.model.parameters(), lr=0.0016, momentum=0.9)\n",
    "# optimizer = optim.Adam(model.parameters(), lr=0.0016)"
   ]
  },
  {
   "cell_type": "code",
   "execution_count": 25,
   "metadata": {},
   "outputs": [],
   "source": [
    "history = {}"
   ]
  },
  {
   "cell_type": "code",
   "execution_count": 26,
   "metadata": {},
   "outputs": [
    {
     "name": "stdout",
     "output_type": "stream",
     "text": [
      "Epoch   0 => avg_loss: 0.560331\n",
      "# Validation loss => 0.332557 | f1-score: arg_iden = 0.893626 arg_class = 0.204221 #\n",
      "Epoch   1 => avg_loss: 0.338630\n",
      "# Validation loss => 0.271426 | f1-score: arg_iden = 0.921992 arg_class = 0.374924 #\n",
      "Epoch   2 => avg_loss: 0.277134\n",
      "# Validation loss => 0.207981 | f1-score: arg_iden = 0.919540 arg_class = 0.537608 #\n",
      "Epoch   3 => avg_loss: 0.221000\n",
      "# Validation loss => 0.164825 | f1-score: arg_iden = 0.933831 arg_class = 0.616140 #\n",
      "Epoch   4 => avg_loss: 0.187299\n",
      "# Validation loss => 0.135011 | f1-score: arg_iden = 0.932698 arg_class = 0.680564 #\n",
      "Epoch   5 => avg_loss: 0.154160\n",
      "# Validation loss => 0.115029 | f1-score: arg_iden = 0.940481 arg_class = 0.731179 #\n",
      "Epoch   6 => avg_loss: 0.134140\n",
      "# Validation loss => 0.103851 | f1-score: arg_iden = 0.934272 arg_class = 0.750000 #\n",
      "Epoch   7 => avg_loss: 0.119337\n",
      "# Validation loss => 0.094638 | f1-score: arg_iden = 0.942001 arg_class = 0.772285 #\n",
      "Epoch   8 => avg_loss: 0.106786\n",
      "# Validation loss => 0.088412 | f1-score: arg_iden = 0.930748 arg_class = 0.781559 #\n",
      "Epoch   9 => avg_loss: 0.097894\n",
      "# Validation loss => 0.083344 | f1-score: arg_iden = 0.937046 arg_class = 0.795842 #\n",
      "Epoch  10 => avg_loss: 0.090957\n",
      "# Validation loss => 0.079908 | f1-score: arg_iden = 0.941953 arg_class = 0.801786 #\n",
      "----- Best value obtained, saving model -----\n",
      "Epoch  11 => avg_loss: 0.084108\n",
      "# Validation loss => 0.076500 | f1-score: arg_iden = 0.942802 arg_class = 0.805058 #\n",
      "----- Best value obtained, saving model -----\n",
      "Epoch  12 => avg_loss: 0.078840\n",
      "# Validation loss => 0.073711 | f1-score: arg_iden = 0.938593 arg_class = 0.810338 #\n",
      "----- Best value obtained, saving model -----\n",
      "Epoch  13 => avg_loss: 0.074562\n",
      "# Validation loss => 0.074151 | f1-score: arg_iden = 0.945021 arg_class = 0.813918 #\n",
      "----- Best value obtained, saving model -----\n",
      "Epoch  14 => avg_loss: 0.069391\n",
      "# Validation loss => 0.071853 | f1-score: arg_iden = 0.941723 arg_class = 0.817038 #\n",
      "----- Best value obtained, saving model -----\n",
      "Epoch  15 => avg_loss: 0.066491\n",
      "# Validation loss => 0.070770 | f1-score: arg_iden = 0.941381 arg_class = 0.816792 #\n",
      "Epoch  16 => avg_loss: 0.063589\n",
      "# Validation loss => 0.071394 | f1-score: arg_iden = 0.944891 arg_class = 0.822044 #\n",
      "----- Best value obtained, saving model -----\n",
      "Epoch  17 => avg_loss: 0.061603\n",
      "# Validation loss => 0.067222 | f1-score: arg_iden = 0.939370 arg_class = 0.820866 #\n",
      "Epoch  18 => avg_loss: 0.058135\n",
      "# Validation loss => 0.069177 | f1-score: arg_iden = 0.942546 arg_class = 0.824585 #\n",
      "----- Best value obtained, saving model -----\n",
      "Epoch  19 => avg_loss: 0.055290\n",
      "# Validation loss => 0.066711 | f1-score: arg_iden = 0.944221 arg_class = 0.826529 #\n",
      "----- Best value obtained, saving model -----\n",
      "Epoch  20 => avg_loss: 0.053369\n",
      "# Validation loss => 0.066497 | f1-score: arg_iden = 0.940632 arg_class = 0.826137 #\n",
      "Epoch  21 => avg_loss: 0.050952\n",
      "# Validation loss => 0.068474 | f1-score: arg_iden = 0.943331 arg_class = 0.826178 #\n",
      "Epoch  22 => avg_loss: 0.048728\n",
      "# Validation loss => 0.065921 | f1-score: arg_iden = 0.941563 arg_class = 0.828947 #\n",
      "----- Best value obtained, saving model -----\n",
      "Epoch  23 => avg_loss: 0.047569\n",
      "# Validation loss => 0.064621 | f1-score: arg_iden = 0.942502 arg_class = 0.830225 #\n",
      "----- Best value obtained, saving model -----\n",
      "Epoch  24 => avg_loss: 0.045262\n",
      "# Validation loss => 0.065460 | f1-score: arg_iden = 0.942037 arg_class = 0.834200 #\n",
      "----- Best value obtained, saving model -----\n",
      "Epoch  25 => avg_loss: 0.043293\n",
      "# Validation loss => 0.064801 | f1-score: arg_iden = 0.943382 arg_class = 0.827440 #\n",
      "Epoch  26 => avg_loss: 0.043160\n",
      "# Validation loss => 0.064805 | f1-score: arg_iden = 0.942241 arg_class = 0.834039 #\n",
      "Epoch  27 => avg_loss: 0.041134\n",
      "# Validation loss => 0.065528 | f1-score: arg_iden = 0.943613 arg_class = 0.835059 #\n",
      "----- Best value obtained, saving model -----\n",
      "Epoch  28 => avg_loss: 0.039630\n",
      "# Validation loss => 0.064512 | f1-score: arg_iden = 0.943273 arg_class = 0.836719 #\n",
      "----- Best value obtained, saving model -----\n",
      "Epoch  29 => avg_loss: 0.038592\n",
      "# Validation loss => 0.063797 | f1-score: arg_iden = 0.942386 arg_class = 0.836469 #\n",
      "Epoch  30 => avg_loss: 0.037468\n",
      "# Validation loss => 0.064252 | f1-score: arg_iden = 0.941749 arg_class = 0.834600 #\n",
      "Epoch  31 => avg_loss: 0.037337\n",
      "# Validation loss => 0.064961 | f1-score: arg_iden = 0.941856 arg_class = 0.833654 #\n",
      "Epoch  32 => avg_loss: 0.036111\n",
      "# Validation loss => 0.064189 | f1-score: arg_iden = 0.940446 arg_class = 0.832978 #\n",
      "Epoch  33 => avg_loss: 0.034638\n",
      "# Validation loss => 0.063703 | f1-score: arg_iden = 0.941268 arg_class = 0.835512 #\n",
      "Epoch  34 => avg_loss: 0.033842\n",
      "# Validation loss => 0.063492 | f1-score: arg_iden = 0.943720 arg_class = 0.838169 #\n",
      "----- Best value obtained, saving model -----\n",
      "Epoch  35 => avg_loss: 0.032356\n",
      "# Validation loss => 0.064112 | f1-score: arg_iden = 0.941130 arg_class = 0.836735 #\n",
      "Epoch  36 => avg_loss: 0.031810\n",
      "# Validation loss => 0.065985 | f1-score: arg_iden = 0.943158 arg_class = 0.836746 #\n",
      "Epoch  37 => avg_loss: 0.030717\n",
      "# Validation loss => 0.064988 | f1-score: arg_iden = 0.939488 arg_class = 0.836307 #\n",
      "Epoch  38 => avg_loss: 0.030416\n",
      "# Validation loss => 0.065175 | f1-score: arg_iden = 0.938396 arg_class = 0.836885 #\n",
      "Epoch  39 => avg_loss: 0.028983\n",
      "# Validation loss => 0.064932 | f1-score: arg_iden = 0.942912 arg_class = 0.840613 #\n",
      "----- Best value obtained, saving model -----\n",
      "Epoch  40 => avg_loss: 0.028939\n",
      "# Validation loss => 0.065627 | f1-score: arg_iden = 0.942414 arg_class = 0.835278 #\n",
      "Epoch  41 => avg_loss: 0.027724\n",
      "# Validation loss => 0.067085 | f1-score: arg_iden = 0.943382 arg_class = 0.840092 #\n",
      "Epoch  42 => avg_loss: 0.027187\n",
      "# Validation loss => 0.065831 | f1-score: arg_iden = 0.943975 arg_class = 0.839601 #\n",
      "Epoch  43 => avg_loss: 0.027011\n",
      "# Validation loss => 0.066301 | f1-score: arg_iden = 0.940812 arg_class = 0.833656 #\n",
      "Epoch  44 => avg_loss: 0.025954\n",
      "# Validation loss => 0.067210 | f1-score: arg_iden = 0.942076 arg_class = 0.835787 #\n",
      "Epoch  45 => avg_loss: 0.025543\n",
      "# Validation loss => 0.065575 | f1-score: arg_iden = 0.938807 arg_class = 0.834237 #\n",
      "Epoch  46 => avg_loss: 0.025020\n",
      "# Validation loss => 0.065984 | f1-score: arg_iden = 0.941903 arg_class = 0.836132 #\n",
      "Epoch  47 => avg_loss: 0.024648\n",
      "# Validation loss => 0.066282 | f1-score: arg_iden = 0.941766 arg_class = 0.837640 #\n",
      "Epoch  48 => avg_loss: 0.023999\n",
      "# Validation loss => 0.066003 | f1-score: arg_iden = 0.940604 arg_class = 0.834664 #\n",
      "Epoch  49 => avg_loss: 0.023459\n",
      "# Validation loss => 0.066797 | f1-score: arg_iden = 0.940607 arg_class = 0.838460 #\n",
      "Epoch  50 => avg_loss: 0.022368\n",
      "# Validation loss => 0.065688 | f1-score: arg_iden = 0.940903 arg_class = 0.838597 #\n",
      "Epoch  51 => avg_loss: 0.021634\n",
      "# Validation loss => 0.067097 | f1-score: arg_iden = 0.940994 arg_class = 0.836525 #\n",
      "Epoch  52 => avg_loss: 0.021834\n",
      "# Validation loss => 0.067287 | f1-score: arg_iden = 0.940267 arg_class = 0.836265 #\n",
      "Epoch  53 => avg_loss: 0.021171\n",
      "# Validation loss => 0.066943 | f1-score: arg_iden = 0.941817 arg_class = 0.835960 #\n",
      "Epoch  54 => avg_loss: 0.020492\n",
      "# Validation loss => 0.069393 | f1-score: arg_iden = 0.943649 arg_class = 0.838968 #\n",
      "Epoch  55 => avg_loss: 0.020303\n",
      "# Validation loss => 0.068748 | f1-score: arg_iden = 0.942168 arg_class = 0.841057 #\n",
      "----- Best value obtained, saving model -----\n",
      "Epoch  56 => avg_loss: 0.020130\n",
      "# Validation loss => 0.067096 | f1-score: arg_iden = 0.941565 arg_class = 0.837119 #\n",
      "Epoch  57 => avg_loss: 0.019164\n",
      "# Validation loss => 0.068093 | f1-score: arg_iden = 0.944305 arg_class = 0.840239 #\n",
      "Epoch  58 => avg_loss: 0.019158\n",
      "# Validation loss => 0.067834 | f1-score: arg_iden = 0.941312 arg_class = 0.840100 #\n",
      "Epoch  59 => avg_loss: 0.018272\n",
      "# Validation loss => 0.067943 | f1-score: arg_iden = 0.940880 arg_class = 0.840861 #\n"
     ]
    }
   ],
   "source": [
    "from stud.modelsTests.utils.Trainer_pid_transformer_simple import Trainer_pid_transformer_simple\n",
    "\n",
    "trainer = Trainer_pid_transformer_simple()\n",
    "\n",
    "history = trainer.train(\n",
    "    final_model, optimizer, dataloader_train_en, dataloader_dev_en,\n",
    "    epochs=60, device=device,\n",
    "    save_best=True, \n",
    "    min_score=0.8,\n",
    "    save_path_name=os.path.join(model_dir_path, 'pid_transformer_weights_en.pth'),\n",
    "    saved_history=history\n",
    ")"
   ]
  },
  {
   "cell_type": "code",
   "execution_count": 27,
   "metadata": {},
   "outputs": [
    {
     "data": {
      "image/png": "[encoded data removed]",
      "text/plain": [
       "<Figure size 576x576 with 1 Axes>"
      ]
     },
     "metadata": {
      "needs_background": "light"
     },
     "output_type": "display_data"
    }
   ],
   "source": [
    "display_history(history)"
   ]
  },
  {
   "cell_type": "code",
   "execution_count": null,
   "metadata": {},
   "outputs": [],
   "source": []
  },
  {
   "cell_type": "markdown",
   "metadata": {},
   "source": [
    "# Spanish"
   ]
  },
  {
   "cell_type": "markdown",
   "metadata": {},
   "source": [
    "## Predicate diamb part"
   ]
  },
  {
   "cell_type": "code",
   "execution_count": 28,
   "metadata": {},
   "outputs": [],
   "source": [
    "loss_function = torch.nn.CrossEntropyLoss(ignore_index = dataset_train_en.labels['predicates_pad_id']) # !"
   ]
  },
  {
   "cell_type": "markdown",
   "metadata": {},
   "source": [
    "This first test will use the position of the predicates (so, doing only disambiguation)"
   ]
  },
  {
   "cell_type": "code",
   "execution_count": 29,
   "metadata": {},
   "outputs": [],
   "source": [
    "from stud.modelsTests.model_pred_iden_dis_part.Model_pid_transformer_simple import PredIdenDisModel\n",
    "import torch.optim as optim\n",
    "\n",
    "final_model = PredIdenDisModel(\n",
    "    language = 'EN',\n",
    "    device = device,\n",
    "    model_load_weights = True, # !!!\n",
    "    loss_fn = loss_function,\n",
    "    fine_tune_transformer = True,\n",
    "    has_predicates_positions = True, # !\n",
    "    has_pos_tags = False,\n",
    ")\n",
    "\n",
    "optimizer = optim.SGD(final_model.model.parameters(), lr=0.0016, momentum=0.9)\n",
    "# optimizer = optim.Adam(model.parameters(), lr=0.0016)"
   ]
  },
  {
   "cell_type": "code",
   "execution_count": 30,
   "metadata": {},
   "outputs": [],
   "source": [
    "history = {}"
   ]
  },
  {
   "cell_type": "code",
   "execution_count": 31,
   "metadata": {},
   "outputs": [
    {
     "name": "stdout",
     "output_type": "stream",
     "text": [
      "Epoch   0 => avg_loss: 0.143176\n",
      "# Validation loss => 0.128129 | f1-score: arg_iden = 0.999599 arg_class = 0.603849 #\n",
      "----- Best value obtained, saving model -----\n",
      "Epoch   1 => avg_loss: 0.125071\n",
      "# Validation loss => 0.119572 | f1-score: arg_iden = 0.999599 arg_class = 0.625902 #\n",
      "----- Best value obtained, saving model -----\n",
      "Epoch   2 => avg_loss: 0.115830\n",
      "# Validation loss => 0.117103 | f1-score: arg_iden = 0.999599 arg_class = 0.637530 #\n",
      "----- Best value obtained, saving model -----\n",
      "Epoch   3 => avg_loss: 0.106842\n",
      "# Validation loss => 0.115106 | f1-score: arg_iden = 0.999599 arg_class = 0.637931 #\n",
      "----- Best value obtained, saving model -----\n",
      "Epoch   4 => avg_loss: 0.098154\n",
      "# Validation loss => 0.112583 | f1-score: arg_iden = 0.999599 arg_class = 0.642743 #\n",
      "----- Best value obtained, saving model -----\n",
      "Epoch   5 => avg_loss: 0.093103\n",
      "# Validation loss => 0.111509 | f1-score: arg_iden = 0.999599 arg_class = 0.648356 #\n",
      "----- Best value obtained, saving model -----\n",
      "Epoch   6 => avg_loss: 0.086646\n",
      "# Validation loss => 0.110785 | f1-score: arg_iden = 0.999599 arg_class = 0.644747 #\n",
      "Epoch   7 => avg_loss: 0.083359\n",
      "# Validation loss => 0.110401 | f1-score: arg_iden = 0.999599 arg_class = 0.653569 #\n",
      "----- Best value obtained, saving model -----\n",
      "Epoch   8 => avg_loss: 0.082435\n",
      "# Validation loss => 0.109224 | f1-score: arg_iden = 0.999599 arg_class = 0.657979 #\n",
      "----- Best value obtained, saving model -----\n",
      "Epoch   9 => avg_loss: 0.077631\n",
      "# Validation loss => 0.108732 | f1-score: arg_iden = 0.999599 arg_class = 0.663593 #\n",
      "----- Best value obtained, saving model -----\n",
      "Epoch  10 => avg_loss: 0.072956\n",
      "# Validation loss => 0.108122 | f1-score: arg_iden = 0.999599 arg_class = 0.664796 #\n",
      "----- Best value obtained, saving model -----\n",
      "Epoch  11 => avg_loss: 0.071227\n",
      "# Validation loss => 0.107751 | f1-score: arg_iden = 0.999599 arg_class = 0.662390 #\n",
      "Epoch  12 => avg_loss: 0.067319\n",
      "# Validation loss => 0.108476 | f1-score: arg_iden = 0.999599 arg_class = 0.659984 #\n",
      "Epoch  13 => avg_loss: 0.063022\n",
      "# Validation loss => 0.107954 | f1-score: arg_iden = 0.999599 arg_class = 0.664395 #\n",
      "Epoch  14 => avg_loss: 0.063281\n",
      "# Validation loss => 0.107408 | f1-score: arg_iden = 0.999599 arg_class = 0.671612 #\n",
      "----- Best value obtained, saving model -----\n",
      "Epoch  15 => avg_loss: 0.060586\n",
      "# Validation loss => 0.107653 | f1-score: arg_iden = 0.999599 arg_class = 0.668805 #\n",
      "Epoch  16 => avg_loss: 0.057751\n",
      "# Validation loss => 0.107272 | f1-score: arg_iden = 0.999599 arg_class = 0.668805 #\n",
      "Epoch  17 => avg_loss: 0.056411\n",
      "# Validation loss => 0.108090 | f1-score: arg_iden = 0.999599 arg_class = 0.663192 #\n",
      "Epoch  18 => avg_loss: 0.053955\n",
      "# Validation loss => 0.107649 | f1-score: arg_iden = 0.999599 arg_class = 0.667602 #\n",
      "Epoch  19 => avg_loss: 0.052608\n",
      "# Validation loss => 0.108622 | f1-score: arg_iden = 0.999599 arg_class = 0.665597 #\n",
      "Epoch  20 => avg_loss: 0.051718\n",
      "# Validation loss => 0.108525 | f1-score: arg_iden = 0.999599 arg_class = 0.671211 #\n",
      "Epoch  21 => avg_loss: 0.050017\n",
      "# Validation loss => 0.108077 | f1-score: arg_iden = 0.999599 arg_class = 0.673216 #\n",
      "----- Best value obtained, saving model -----\n",
      "Epoch  22 => avg_loss: 0.050151\n",
      "# Validation loss => 0.108604 | f1-score: arg_iden = 0.999599 arg_class = 0.670810 #\n",
      "Epoch  23 => avg_loss: 0.045691\n",
      "# Validation loss => 0.108514 | f1-score: arg_iden = 0.999599 arg_class = 0.671211 #\n",
      "Epoch  24 => avg_loss: 0.045051\n",
      "# Validation loss => 0.108837 | f1-score: arg_iden = 0.999599 arg_class = 0.667602 #\n",
      "Epoch  25 => avg_loss: 0.043540\n",
      "# Validation loss => 0.109226 | f1-score: arg_iden = 0.999599 arg_class = 0.666399 #\n",
      "Epoch  26 => avg_loss: 0.042876\n",
      "# Validation loss => 0.108579 | f1-score: arg_iden = 0.999599 arg_class = 0.665196 #\n",
      "Epoch  27 => avg_loss: 0.043155\n",
      "# Validation loss => 0.109261 | f1-score: arg_iden = 0.999599 arg_class = 0.661989 #\n",
      "Epoch  28 => avg_loss: 0.041863\n",
      "# Validation loss => 0.109202 | f1-score: arg_iden = 0.999599 arg_class = 0.663593 #\n",
      "Epoch  29 => avg_loss: 0.039783\n",
      "# Validation loss => 0.109347 | f1-score: arg_iden = 0.999599 arg_class = 0.668805 #\n",
      "Epoch  30 => avg_loss: 0.039253\n",
      "# Validation loss => 0.109700 | f1-score: arg_iden = 0.999599 arg_class = 0.661588 #\n",
      "Epoch  31 => avg_loss: 0.036112\n",
      "# Validation loss => 0.109605 | f1-score: arg_iden = 0.999599 arg_class = 0.663994 #\n",
      "Epoch  32 => avg_loss: 0.036522\n",
      "# Validation loss => 0.109068 | f1-score: arg_iden = 0.999599 arg_class = 0.668805 #\n",
      "Epoch  33 => avg_loss: 0.035122\n",
      "# Validation loss => 0.109777 | f1-score: arg_iden = 0.999599 arg_class = 0.664796 #\n",
      "Epoch  34 => avg_loss: 0.035726\n",
      "# Validation loss => 0.109798 | f1-score: arg_iden = 0.999599 arg_class = 0.666800 #\n",
      "Epoch  35 => avg_loss: 0.034168\n",
      "# Validation loss => 0.109945 | f1-score: arg_iden = 0.999599 arg_class = 0.666399 #\n",
      "Epoch  36 => avg_loss: 0.033792\n",
      "# Validation loss => 0.110041 | f1-score: arg_iden = 0.999599 arg_class = 0.665998 #\n",
      "Epoch  37 => avg_loss: 0.032015\n",
      "# Validation loss => 0.110772 | f1-score: arg_iden = 0.999599 arg_class = 0.667201 #\n",
      "Epoch  38 => avg_loss: 0.032821\n",
      "# Validation loss => 0.111274 | f1-score: arg_iden = 0.999599 arg_class = 0.665196 #\n",
      "Epoch  39 => avg_loss: 0.031085\n",
      "# Validation loss => 0.110970 | f1-score: arg_iden = 0.999599 arg_class = 0.667201 #\n",
      "Epoch  40 => avg_loss: 0.030539\n",
      "# Validation loss => 0.111584 | f1-score: arg_iden = 0.999599 arg_class = 0.664395 #\n",
      "Epoch  41 => avg_loss: 0.029310\n",
      "# Validation loss => 0.111631 | f1-score: arg_iden = 0.999599 arg_class = 0.665998 #\n",
      "Epoch  42 => avg_loss: 0.028915\n",
      "# Validation loss => 0.111734 | f1-score: arg_iden = 0.999599 arg_class = 0.668003 #\n",
      "Epoch  43 => avg_loss: 0.028261\n",
      "# Validation loss => 0.111482 | f1-score: arg_iden = 0.999599 arg_class = 0.664796 #\n",
      "Epoch  44 => avg_loss: 0.027677\n",
      "# Validation loss => 0.110848 | f1-score: arg_iden = 0.999599 arg_class = 0.668404 #\n",
      "Epoch  45 => avg_loss: 0.026240\n",
      "# Validation loss => 0.111330 | f1-score: arg_iden = 0.999599 arg_class = 0.669206 #\n",
      "Epoch  46 => avg_loss: 0.026407\n",
      "# Validation loss => 0.111649 | f1-score: arg_iden = 0.999599 arg_class = 0.666800 #\n",
      "Epoch  47 => avg_loss: 0.027662\n",
      "# Validation loss => 0.112060 | f1-score: arg_iden = 0.999599 arg_class = 0.664395 #\n",
      "Epoch  48 => avg_loss: 0.024504\n",
      "# Validation loss => 0.112296 | f1-score: arg_iden = 0.999599 arg_class = 0.665597 #\n",
      "Epoch  49 => avg_loss: 0.025982\n",
      "# Validation loss => 0.111863 | f1-score: arg_iden = 0.999599 arg_class = 0.670409 #\n",
      "Epoch  50 => avg_loss: 0.025157\n",
      "# Validation loss => 0.111735 | f1-score: arg_iden = 0.999599 arg_class = 0.671211 #\n",
      "Epoch  51 => avg_loss: 0.023893\n",
      "# Validation loss => 0.111897 | f1-score: arg_iden = 0.999599 arg_class = 0.669206 #\n",
      "Epoch  52 => avg_loss: 0.023961\n",
      "# Validation loss => 0.112321 | f1-score: arg_iden = 0.999599 arg_class = 0.668404 #\n",
      "Epoch  53 => avg_loss: 0.022453\n",
      "# Validation loss => 0.112264 | f1-score: arg_iden = 0.999599 arg_class = 0.668003 #\n",
      "Epoch  54 => avg_loss: 0.023429\n",
      "# Validation loss => 0.112703 | f1-score: arg_iden = 0.999599 arg_class = 0.668404 #\n",
      "Epoch  55 => avg_loss: 0.023791\n",
      "# Validation loss => 0.113044 | f1-score: arg_iden = 0.999599 arg_class = 0.664796 #\n",
      "Epoch  56 => avg_loss: 0.022016\n",
      "# Validation loss => 0.112856 | f1-score: arg_iden = 0.999599 arg_class = 0.666800 #\n",
      "Epoch  57 => avg_loss: 0.021844\n",
      "# Validation loss => 0.113289 | f1-score: arg_iden = 0.999599 arg_class = 0.666800 #\n",
      "Epoch  58 => avg_loss: 0.021597\n",
      "# Validation loss => 0.113427 | f1-score: arg_iden = 0.999599 arg_class = 0.663192 #\n",
      "Epoch  59 => avg_loss: 0.020660\n",
      "# Validation loss => 0.114155 | f1-score: arg_iden = 0.999599 arg_class = 0.670008 #\n"
     ]
    }
   ],
   "source": [
    "from stud.modelsTests.utils.Trainer_pid_transformer_simple import Trainer_pid_transformer_simple\n",
    "\n",
    "trainer = Trainer_pid_transformer_simple()\n",
    "\n",
    "history = trainer.train(\n",
    "    final_model, optimizer, dataloader_train_es, dataloader_dev_es,\n",
    "    epochs=60, device=device,\n",
    "    save_best=True, \n",
    "    min_score=0.6,\n",
    "    save_path_name=os.path.join(model_dir_path, 'pd_transformer_weights_es.pth'),\n",
    "    saved_history=history\n",
    ")"
   ]
  },
  {
   "cell_type": "code",
   "execution_count": 32,
   "metadata": {},
   "outputs": [
    {
     "data": {
      "image/png": "[encoded data removed]",
      "text/plain": [
       "<Figure size 576x576 with 1 Axes>"
      ]
     },
     "metadata": {
      "needs_background": "light"
     },
     "output_type": "display_data"
    }
   ],
   "source": [
    "display_history(history)"
   ]
  },
  {
   "cell_type": "markdown",
   "metadata": {},
   "source": [
    "## Predicate iden + diamb part"
   ]
  },
  {
   "cell_type": "code",
   "execution_count": 33,
   "metadata": {},
   "outputs": [],
   "source": [
    "loss_function = torch.nn.CrossEntropyLoss(ignore_index = dataset_train_en.labels['predicates_pad_id']) # !"
   ]
  },
  {
   "cell_type": "markdown",
   "metadata": {},
   "source": [
    "Here, I won't use the position of the predicates:"
   ]
  },
  {
   "cell_type": "code",
   "execution_count": 34,
   "metadata": {},
   "outputs": [],
   "source": [
    "from stud.modelsTests.model_pred_iden_dis_part.Model_pid_transformer_simple import PredIdenDisModel\n",
    "import torch.optim as optim\n",
    "\n",
    "final_model = PredIdenDisModel(\n",
    "    language = 'EN',\n",
    "    device = device,\n",
    "    model_load_weights = True, # !!!\n",
    "    loss_fn = loss_function,\n",
    "    fine_tune_transformer = True,\n",
    "    has_predicates_positions = False, # !\n",
    "    has_pos_tags = False,\n",
    ")\n",
    "\n",
    "optimizer = optim.SGD(final_model.model.parameters(), lr=0.0016, momentum=0.9)\n",
    "# optimizer = optim.Adam(model.parameters(), lr=0.0016)"
   ]
  },
  {
   "cell_type": "code",
   "execution_count": 35,
   "metadata": {},
   "outputs": [],
   "source": [
    "history = {}"
   ]
  },
  {
   "cell_type": "code",
   "execution_count": 36,
   "metadata": {},
   "outputs": [
    {
     "name": "stdout",
     "output_type": "stream",
     "text": [
      "Epoch   0 => avg_loss: 0.161341\n",
      "# Validation loss => 0.146593 | f1-score: arg_iden = 0.964193 arg_class = 0.577716 #\n",
      "Epoch   1 => avg_loss: 0.134683\n",
      "# Validation loss => 0.135705 | f1-score: arg_iden = 0.971337 arg_class = 0.596512 #\n",
      "Epoch   2 => avg_loss: 0.120976\n",
      "# Validation loss => 0.128561 | f1-score: arg_iden = 0.975492 arg_class = 0.603857 #\n",
      "----- Best value obtained, saving model -----\n",
      "Epoch   3 => avg_loss: 0.108993\n",
      "# Validation loss => 0.123943 | f1-score: arg_iden = 0.977947 arg_class = 0.621091 #\n",
      "----- Best value obtained, saving model -----\n",
      "Epoch   4 => avg_loss: 0.102875\n",
      "# Validation loss => 0.122203 | f1-score: arg_iden = 0.978561 arg_class = 0.620317 #\n",
      "Epoch   5 => avg_loss: 0.096604\n",
      "# Validation loss => 0.119950 | f1-score: arg_iden = 0.979543 arg_class = 0.627758 #\n",
      "----- Best value obtained, saving model -----\n",
      "Epoch   6 => avg_loss: 0.089684\n",
      "# Validation loss => 0.119659 | f1-score: arg_iden = 0.979567 arg_class = 0.629808 #\n",
      "----- Best value obtained, saving model -----\n",
      "Epoch   7 => avg_loss: 0.085784\n",
      "# Validation loss => 0.119152 | f1-score: arg_iden = 0.980958 arg_class = 0.634195 #\n",
      "----- Best value obtained, saving model -----\n",
      "Epoch   8 => avg_loss: 0.084671\n",
      "# Validation loss => 0.118454 | f1-score: arg_iden = 0.981359 arg_class = 0.638605 #\n",
      "----- Best value obtained, saving model -----\n",
      "Epoch   9 => avg_loss: 0.079030\n",
      "# Validation loss => 0.117602 | f1-score: arg_iden = 0.980950 arg_class = 0.638861 #\n",
      "----- Best value obtained, saving model -----\n",
      "Epoch  10 => avg_loss: 0.073748\n",
      "# Validation loss => 0.117994 | f1-score: arg_iden = 0.980596 arg_class = 0.640928 #\n",
      "----- Best value obtained, saving model -----\n",
      "Epoch  11 => avg_loss: 0.069175\n",
      "# Validation loss => 0.117612 | f1-score: arg_iden = 0.979388 arg_class = 0.644387 #\n",
      "----- Best value obtained, saving model -----\n",
      "Epoch  12 => avg_loss: 0.067628\n",
      "# Validation loss => 0.117310 | f1-score: arg_iden = 0.979944 arg_class = 0.648215 #\n",
      "----- Best value obtained, saving model -----\n",
      "Epoch  13 => avg_loss: 0.064322\n",
      "# Validation loss => 0.117674 | f1-score: arg_iden = 0.979747 arg_class = 0.648887 #\n",
      "----- Best value obtained, saving model -----\n",
      "Epoch  14 => avg_loss: 0.064202\n",
      "# Validation loss => 0.117569 | f1-score: arg_iden = 0.980973 arg_class = 0.646505 #\n",
      "Epoch  15 => avg_loss: 0.059098\n",
      "# Validation loss => 0.116511 | f1-score: arg_iden = 0.980369 arg_class = 0.655449 #\n",
      "----- Best value obtained, saving model -----\n",
      "Epoch  16 => avg_loss: 0.058874\n",
      "# Validation loss => 0.116712 | f1-score: arg_iden = 0.980966 arg_class = 0.654779 #\n",
      "Epoch  17 => avg_loss: 0.056245\n",
      "# Validation loss => 0.116911 | f1-score: arg_iden = 0.980376 arg_class = 0.658791 #\n",
      "----- Best value obtained, saving model -----\n",
      "Epoch  18 => avg_loss: 0.050359\n",
      "# Validation loss => 0.116997 | f1-score: arg_iden = 0.980353 arg_class = 0.657177 #\n",
      "Epoch  19 => avg_loss: 0.049778\n",
      "# Validation loss => 0.117040 | f1-score: arg_iden = 0.980565 arg_class = 0.658786 #\n",
      "Epoch  20 => avg_loss: 0.049231\n",
      "# Validation loss => 0.117060 | f1-score: arg_iden = 0.981124 arg_class = 0.657430 #\n",
      "Epoch  21 => avg_loss: 0.048885\n",
      "# Validation loss => 0.117609 | f1-score: arg_iden = 0.980943 arg_class = 0.659178 #\n",
      "----- Best value obtained, saving model -----\n",
      "Epoch  22 => avg_loss: 0.046564\n",
      "# Validation loss => 0.117319 | f1-score: arg_iden = 0.981140 arg_class = 0.657705 #\n",
      "Epoch  23 => avg_loss: 0.043905\n",
      "# Validation loss => 0.116897 | f1-score: arg_iden = 0.980471 arg_class = 0.658345 #\n",
      "Epoch  24 => avg_loss: 0.041760\n",
      "# Validation loss => 0.117400 | f1-score: arg_iden = 0.980549 arg_class = 0.658913 #\n",
      "Epoch  25 => avg_loss: 0.039582\n",
      "# Validation loss => 0.117192 | f1-score: arg_iden = 0.980565 arg_class = 0.660789 #\n",
      "----- Best value obtained, saving model -----\n",
      "Epoch  26 => avg_loss: 0.038603\n",
      "# Validation loss => 0.116916 | f1-score: arg_iden = 0.981132 arg_class = 0.662385 #\n",
      "----- Best value obtained, saving model -----\n",
      "Epoch  27 => avg_loss: 0.037622\n",
      "# Validation loss => 0.117431 | f1-score: arg_iden = 0.980738 arg_class = 0.662119 #\n",
      "Epoch  28 => avg_loss: 0.034861\n",
      "# Validation loss => 0.118428 | f1-score: arg_iden = 0.981556 arg_class = 0.661588 #\n",
      "Epoch  29 => avg_loss: 0.034737\n",
      "# Validation loss => 0.118131 | f1-score: arg_iden = 0.981299 arg_class = 0.661170 #\n",
      "Epoch  30 => avg_loss: 0.032492\n",
      "# Validation loss => 0.118220 | f1-score: arg_iden = 0.980337 arg_class = 0.662119 #\n",
      "Epoch  31 => avg_loss: 0.034254\n",
      "# Validation loss => 0.118449 | f1-score: arg_iden = 0.981124 arg_class = 0.665462 #\n",
      "----- Best value obtained, saving model -----\n",
      "Epoch  32 => avg_loss: 0.033115\n",
      "# Validation loss => 0.118973 | f1-score: arg_iden = 0.980905 arg_class = 0.661709 #\n",
      "Epoch  33 => avg_loss: 0.031034\n",
      "# Validation loss => 0.119463 | f1-score: arg_iden = 0.981359 arg_class = 0.662257 #\n",
      "Epoch  34 => avg_loss: 0.030237\n",
      "# Validation loss => 0.119321 | f1-score: arg_iden = 0.981709 arg_class = 0.662513 #\n",
      "Epoch  35 => avg_loss: 0.030556\n",
      "# Validation loss => 0.119173 | f1-score: arg_iden = 0.981716 arg_class = 0.663050 #\n",
      "Epoch  36 => avg_loss: 0.028704\n",
      "# Validation loss => 0.119286 | f1-score: arg_iden = 0.982118 arg_class = 0.659835 #\n",
      "Epoch  37 => avg_loss: 0.027667\n",
      "# Validation loss => 0.119722 | f1-score: arg_iden = 0.981344 arg_class = 0.660381 #\n",
      "Epoch  38 => avg_loss: 0.027377\n",
      "# Validation loss => 0.120416 | f1-score: arg_iden = 0.981162 arg_class = 0.662124 #\n",
      "Epoch  39 => avg_loss: 0.025606\n",
      "# Validation loss => 0.120629 | f1-score: arg_iden = 0.981694 arg_class = 0.664253 #\n",
      "Epoch  40 => avg_loss: 0.024145\n",
      "# Validation loss => 0.120081 | f1-score: arg_iden = 0.981723 arg_class = 0.659570 #\n",
      "Epoch  41 => avg_loss: 0.024669\n",
      "# Validation loss => 0.120984 | f1-score: arg_iden = 0.981329 arg_class = 0.658502 #\n",
      "Epoch  42 => avg_loss: 0.022807\n",
      "# Validation loss => 0.121253 | f1-score: arg_iden = 0.982111 arg_class = 0.661307 #\n",
      "Epoch  43 => avg_loss: 0.021894\n",
      "# Validation loss => 0.121403 | f1-score: arg_iden = 0.981731 arg_class = 0.660510 #\n",
      "Epoch  44 => avg_loss: 0.022206\n",
      "# Validation loss => 0.122036 | f1-score: arg_iden = 0.981170 arg_class = 0.657452 #\n",
      "Epoch  45 => avg_loss: 0.021136\n",
      "# Validation loss => 0.121169 | f1-score: arg_iden = 0.981526 arg_class = 0.656627 #\n",
      "Epoch  46 => avg_loss: 0.021105\n",
      "# Validation loss => 0.121263 | f1-score: arg_iden = 0.981534 arg_class = 0.660779 #\n",
      "Epoch  47 => avg_loss: 0.020295\n",
      "# Validation loss => 0.121450 | f1-score: arg_iden = 0.980966 arg_class = 0.657984 #\n",
      "Epoch  48 => avg_loss: 0.020690\n",
      "# Validation loss => 0.121577 | f1-score: arg_iden = 0.980966 arg_class = 0.657183 #\n",
      "Epoch  49 => avg_loss: 0.019549\n",
      "# Validation loss => 0.121686 | f1-score: arg_iden = 0.981920 arg_class = 0.661310 #\n",
      "Epoch  50 => avg_loss: 0.018490\n",
      "# Validation loss => 0.121806 | f1-score: arg_iden = 0.981314 arg_class = 0.663050 #\n",
      "Epoch  51 => avg_loss: 0.018837\n",
      "# Validation loss => 0.122118 | f1-score: arg_iden = 0.981519 arg_class = 0.658899 #\n",
      "Epoch  52 => avg_loss: 0.017067\n",
      "# Validation loss => 0.122673 | f1-score: arg_iden = 0.981307 arg_class = 0.656482 #\n",
      "Epoch  53 => avg_loss: 0.018331\n",
      "# Validation loss => 0.123418 | f1-score: arg_iden = 0.982154 arg_class = 0.656106 #\n",
      "Epoch  54 => avg_loss: 0.016656\n",
      "# Validation loss => 0.122920 | f1-score: arg_iden = 0.982343 arg_class = 0.659711 #\n",
      "Epoch  55 => avg_loss: 0.015474\n",
      "# Validation loss => 0.123008 | f1-score: arg_iden = 0.982132 arg_class = 0.660108 #\n",
      "Epoch  56 => avg_loss: 0.016081\n",
      "# Validation loss => 0.122921 | f1-score: arg_iden = 0.981913 arg_class = 0.661576 #\n",
      "Epoch  57 => avg_loss: 0.014853\n",
      "# Validation loss => 0.123322 | f1-score: arg_iden = 0.982125 arg_class = 0.661579 #\n",
      "Epoch  58 => avg_loss: 0.015589\n",
      "# Validation loss => 0.123527 | f1-score: arg_iden = 0.981913 arg_class = 0.661174 #\n",
      "Epoch  59 => avg_loss: 0.014642\n",
      "# Validation loss => 0.123684 | f1-score: arg_iden = 0.981709 arg_class = 0.660503 #\n"
     ]
    }
   ],
   "source": [
    "from stud.modelsTests.utils.Trainer_pid_transformer_simple import Trainer_pid_transformer_simple\n",
    "\n",
    "trainer = Trainer_pid_transformer_simple()\n",
    "\n",
    "history = trainer.train(\n",
    "    final_model, optimizer, dataloader_train_es, dataloader_dev_es,\n",
    "    epochs=60, device=device,\n",
    "    save_best=True, \n",
    "    min_score=0.6,\n",
    "    save_path_name=os.path.join(model_dir_path, 'pid_transformer_weights_es.pth'),\n",
    "    saved_history=history\n",
    ")"
   ]
  },
  {
   "cell_type": "code",
   "execution_count": 37,
   "metadata": {},
   "outputs": [
    {
     "data": {
      "image/png": "[encoded data removed]",
      "text/plain": [
       "<Figure size 576x576 with 1 Axes>"
      ]
     },
     "metadata": {
      "needs_background": "light"
     },
     "output_type": "display_data"
    }
   ],
   "source": [
    "display_history(history)"
   ]
  },
  {
   "cell_type": "code",
   "execution_count": null,
   "metadata": {},
   "outputs": [],
   "source": []
  },
  {
   "cell_type": "code",
   "execution_count": null,
   "metadata": {},
   "outputs": [],
   "source": []
  },
  {
   "cell_type": "markdown",
   "metadata": {},
   "source": [
    "# French"
   ]
  },
  {
   "cell_type": "markdown",
   "metadata": {},
   "source": [
    "## Predicate diamb part"
   ]
  },
  {
   "cell_type": "code",
   "execution_count": 38,
   "metadata": {},
   "outputs": [],
   "source": [
    "loss_function = torch.nn.CrossEntropyLoss(ignore_index = dataset_train_en.labels['predicates_pad_id']) # !"
   ]
  },
  {
   "cell_type": "markdown",
   "metadata": {},
   "source": [
    "This first test will use the position of the predicates (so, doing only disambiguation)"
   ]
  },
  {
   "cell_type": "code",
   "execution_count": 39,
   "metadata": {},
   "outputs": [],
   "source": [
    "from stud.modelsTests.model_pred_iden_dis_part.Model_pid_transformer_simple import PredIdenDisModel\n",
    "import torch.optim as optim\n",
    "\n",
    "final_model = PredIdenDisModel(\n",
    "    language = 'EN',\n",
    "    device = device,\n",
    "    model_load_weights = True, # !!!\n",
    "    loss_fn = loss_function,\n",
    "    fine_tune_transformer = True,\n",
    "    has_predicates_positions = True, # !\n",
    "    has_pos_tags = False,\n",
    ")\n",
    "\n",
    "optimizer = optim.SGD(final_model.model.parameters(), lr=0.0016, momentum=0.9)\n",
    "# optimizer = optim.Adam(model.parameters(), lr=0.0016)"
   ]
  },
  {
   "cell_type": "code",
   "execution_count": 40,
   "metadata": {},
   "outputs": [],
   "source": [
    "history = {}"
   ]
  },
  {
   "cell_type": "code",
   "execution_count": 41,
   "metadata": {},
   "outputs": [
    {
     "name": "stdout",
     "output_type": "stream",
     "text": [
      "Epoch   0 => avg_loss: 0.169611\n",
      "# Validation loss => 0.138478 | f1-score: arg_iden = 0.999608 arg_class = 0.567737 #\n",
      "Epoch   1 => avg_loss: 0.142701\n",
      "# Validation loss => 0.129012 | f1-score: arg_iden = 0.999608 arg_class = 0.575568 #\n",
      "Epoch   2 => avg_loss: 0.132138\n",
      "# Validation loss => 0.123527 | f1-score: arg_iden = 0.999608 arg_class = 0.588097 #\n",
      "Epoch   3 => avg_loss: 0.125636\n",
      "# Validation loss => 0.120187 | f1-score: arg_iden = 0.999608 arg_class = 0.595145 #\n",
      "Epoch   4 => avg_loss: 0.115378\n",
      "# Validation loss => 0.118871 | f1-score: arg_iden = 0.999608 arg_class = 0.597494 #\n",
      "Epoch   5 => avg_loss: 0.112014\n",
      "# Validation loss => 0.118062 | f1-score: arg_iden = 0.999608 arg_class = 0.606108 #\n",
      "----- Best value obtained, saving model -----\n",
      "Epoch   6 => avg_loss: 0.108295\n",
      "# Validation loss => 0.118433 | f1-score: arg_iden = 0.999608 arg_class = 0.604150 #\n",
      "Epoch   7 => avg_loss: 0.098397\n",
      "# Validation loss => 0.118067 | f1-score: arg_iden = 0.999608 arg_class = 0.606891 #\n",
      "----- Best value obtained, saving model -----\n",
      "Epoch   8 => avg_loss: 0.098749\n",
      "# Validation loss => 0.116517 | f1-score: arg_iden = 0.999608 arg_class = 0.608066 #\n",
      "----- Best value obtained, saving model -----\n",
      "Epoch   9 => avg_loss: 0.094361\n",
      "# Validation loss => 0.116667 | f1-score: arg_iden = 0.999608 arg_class = 0.609632 #\n",
      "----- Best value obtained, saving model -----\n",
      "Epoch  10 => avg_loss: 0.087318\n",
      "# Validation loss => 0.116517 | f1-score: arg_iden = 0.999608 arg_class = 0.614330 #\n",
      "----- Best value obtained, saving model -----\n",
      "Epoch  11 => avg_loss: 0.084097\n",
      "# Validation loss => 0.117881 | f1-score: arg_iden = 0.999608 arg_class = 0.613939 #\n",
      "Epoch  12 => avg_loss: 0.083229\n",
      "# Validation loss => 0.116425 | f1-score: arg_iden = 0.999608 arg_class = 0.611981 #\n",
      "Epoch  13 => avg_loss: 0.076368\n",
      "# Validation loss => 0.116411 | f1-score: arg_iden = 0.999608 arg_class = 0.613939 #\n",
      "Epoch  14 => avg_loss: 0.076766\n",
      "# Validation loss => 0.116398 | f1-score: arg_iden = 0.999608 arg_class = 0.616288 #\n",
      "----- Best value obtained, saving model -----\n",
      "Epoch  15 => avg_loss: 0.077712\n",
      "# Validation loss => 0.116282 | f1-score: arg_iden = 0.999608 arg_class = 0.618246 #\n",
      "----- Best value obtained, saving model -----\n",
      "Epoch  16 => avg_loss: 0.075389\n",
      "# Validation loss => 0.115325 | f1-score: arg_iden = 0.999608 arg_class = 0.619812 #\n",
      "----- Best value obtained, saving model -----\n",
      "Epoch  17 => avg_loss: 0.071546\n",
      "# Validation loss => 0.114925 | f1-score: arg_iden = 0.999608 arg_class = 0.621378 #\n",
      "----- Best value obtained, saving model -----\n",
      "Epoch  18 => avg_loss: 0.066855\n",
      "# Validation loss => 0.116799 | f1-score: arg_iden = 0.999608 arg_class = 0.617463 #\n",
      "Epoch  19 => avg_loss: 0.066544\n",
      "# Validation loss => 0.115367 | f1-score: arg_iden = 0.999608 arg_class = 0.623336 #\n",
      "----- Best value obtained, saving model -----\n",
      "Epoch  20 => avg_loss: 0.061988\n",
      "# Validation loss => 0.116177 | f1-score: arg_iden = 0.999608 arg_class = 0.621378 #\n",
      "Epoch  21 => avg_loss: 0.063111\n",
      "# Validation loss => 0.115603 | f1-score: arg_iden = 0.999608 arg_class = 0.622161 #\n",
      "Epoch  22 => avg_loss: 0.062120\n",
      "# Validation loss => 0.115764 | f1-score: arg_iden = 0.999608 arg_class = 0.622553 #\n",
      "Epoch  23 => avg_loss: 0.056932\n",
      "# Validation loss => 0.115314 | f1-score: arg_iden = 0.999608 arg_class = 0.625685 #\n",
      "----- Best value obtained, saving model -----\n",
      "Epoch  24 => avg_loss: 0.057060\n",
      "# Validation loss => 0.116523 | f1-score: arg_iden = 0.999608 arg_class = 0.619812 #\n",
      "Epoch  25 => avg_loss: 0.054197\n",
      "# Validation loss => 0.116294 | f1-score: arg_iden = 0.999608 arg_class = 0.627643 #\n",
      "----- Best value obtained, saving model -----\n",
      "Epoch  26 => avg_loss: 0.053618\n",
      "# Validation loss => 0.116479 | f1-score: arg_iden = 0.999608 arg_class = 0.628818 #\n",
      "----- Best value obtained, saving model -----\n",
      "Epoch  27 => avg_loss: 0.053254\n",
      "# Validation loss => 0.115497 | f1-score: arg_iden = 0.999608 arg_class = 0.633125 #\n",
      "----- Best value obtained, saving model -----\n",
      "Epoch  28 => avg_loss: 0.050341\n",
      "# Validation loss => 0.116522 | f1-score: arg_iden = 0.999608 arg_class = 0.626860 #\n",
      "Epoch  29 => avg_loss: 0.048650\n",
      "# Validation loss => 0.116441 | f1-score: arg_iden = 0.999608 arg_class = 0.624119 #\n",
      "Epoch  30 => avg_loss: 0.048245\n",
      "# Validation loss => 0.116176 | f1-score: arg_iden = 0.999608 arg_class = 0.623336 #\n",
      "Epoch  31 => avg_loss: 0.046293\n",
      "# Validation loss => 0.116053 | f1-score: arg_iden = 0.999608 arg_class = 0.620595 #\n",
      "Epoch  32 => avg_loss: 0.046796\n",
      "# Validation loss => 0.115918 | f1-score: arg_iden = 0.999608 arg_class = 0.624119 #\n",
      "Epoch  33 => avg_loss: 0.046655\n",
      "# Validation loss => 0.116329 | f1-score: arg_iden = 0.999608 arg_class = 0.626077 #\n",
      "Epoch  34 => avg_loss: 0.043122\n",
      "# Validation loss => 0.116704 | f1-score: arg_iden = 0.999608 arg_class = 0.626468 #\n",
      "Epoch  35 => avg_loss: 0.042100\n",
      "# Validation loss => 0.116609 | f1-score: arg_iden = 0.999608 arg_class = 0.626468 #\n",
      "Epoch  36 => avg_loss: 0.043577\n",
      "# Validation loss => 0.117350 | f1-score: arg_iden = 0.999608 arg_class = 0.626077 #\n",
      "Epoch  37 => avg_loss: 0.040444\n",
      "# Validation loss => 0.117810 | f1-score: arg_iden = 0.999608 arg_class = 0.629209 #\n",
      "Epoch  38 => avg_loss: 0.040880\n",
      "# Validation loss => 0.118403 | f1-score: arg_iden = 0.999608 arg_class = 0.624511 #\n",
      "Epoch  39 => avg_loss: 0.038906\n",
      "# Validation loss => 0.117858 | f1-score: arg_iden = 0.999608 arg_class = 0.623727 #\n",
      "Epoch  40 => avg_loss: 0.038000\n",
      "# Validation loss => 0.118442 | f1-score: arg_iden = 0.999608 arg_class = 0.619029 #\n",
      "Epoch  41 => avg_loss: 0.037811\n",
      "# Validation loss => 0.118097 | f1-score: arg_iden = 0.999608 arg_class = 0.627643 #\n",
      "Epoch  42 => avg_loss: 0.037136\n",
      "# Validation loss => 0.117897 | f1-score: arg_iden = 0.999608 arg_class = 0.620987 #\n",
      "Epoch  43 => avg_loss: 0.035577\n",
      "# Validation loss => 0.118228 | f1-score: arg_iden = 0.999608 arg_class = 0.622553 #\n",
      "Epoch  44 => avg_loss: 0.033921\n",
      "# Validation loss => 0.119168 | f1-score: arg_iden = 0.999608 arg_class = 0.622553 #\n",
      "Epoch  45 => avg_loss: 0.034975\n",
      "# Validation loss => 0.118931 | f1-score: arg_iden = 0.999608 arg_class = 0.616680 #\n",
      "Epoch  46 => avg_loss: 0.032111\n",
      "# Validation loss => 0.119394 | f1-score: arg_iden = 0.999608 arg_class = 0.620595 #\n",
      "Epoch  47 => avg_loss: 0.031178\n",
      "# Validation loss => 0.119462 | f1-score: arg_iden = 0.999608 arg_class = 0.623336 #\n",
      "Epoch  48 => avg_loss: 0.031143\n",
      "# Validation loss => 0.118957 | f1-score: arg_iden = 0.999608 arg_class = 0.622553 #\n",
      "Epoch  49 => avg_loss: 0.030318\n",
      "# Validation loss => 0.118681 | f1-score: arg_iden = 0.999608 arg_class = 0.621378 #\n",
      "Epoch  50 => avg_loss: 0.030771\n",
      "# Validation loss => 0.119767 | f1-score: arg_iden = 0.999608 arg_class = 0.624902 #\n",
      "Epoch  51 => avg_loss: 0.029917\n",
      "# Validation loss => 0.120013 | f1-score: arg_iden = 0.999608 arg_class = 0.624511 #\n",
      "Epoch  52 => avg_loss: 0.028314\n",
      "# Validation loss => 0.119567 | f1-score: arg_iden = 0.999608 arg_class = 0.621378 #\n",
      "Epoch  53 => avg_loss: 0.029129\n",
      "# Validation loss => 0.119563 | f1-score: arg_iden = 0.999608 arg_class = 0.623336 #\n",
      "Epoch  54 => avg_loss: 0.028443\n",
      "# Validation loss => 0.119694 | f1-score: arg_iden = 0.999608 arg_class = 0.624511 #\n",
      "Epoch  55 => avg_loss: 0.027064\n",
      "# Validation loss => 0.120670 | f1-score: arg_iden = 0.999608 arg_class = 0.622944 #\n",
      "Epoch  56 => avg_loss: 0.027753\n",
      "# Validation loss => 0.120480 | f1-score: arg_iden = 0.999608 arg_class = 0.624511 #\n",
      "Epoch  57 => avg_loss: 0.028188\n",
      "# Validation loss => 0.120486 | f1-score: arg_iden = 0.999608 arg_class = 0.622161 #\n",
      "Epoch  58 => avg_loss: 0.026742\n",
      "# Validation loss => 0.120523 | f1-score: arg_iden = 0.999608 arg_class = 0.620595 #\n",
      "Epoch  59 => avg_loss: 0.024376\n",
      "# Validation loss => 0.121489 | f1-score: arg_iden = 0.999608 arg_class = 0.622553 #\n"
     ]
    }
   ],
   "source": [
    "from stud.modelsTests.utils.Trainer_pid_transformer_simple import Trainer_pid_transformer_simple\n",
    "\n",
    "trainer = Trainer_pid_transformer_simple()\n",
    "\n",
    "history = trainer.train(\n",
    "    final_model, optimizer, dataloader_train_fr, dataloader_dev_fr,\n",
    "    epochs=60, device=device,\n",
    "    save_best=True, \n",
    "    min_score=0.6,\n",
    "    save_path_name=os.path.join(model_dir_path, 'pd_transformer_weights_fr.pth'),\n",
    "    saved_history=history\n",
    ")"
   ]
  },
  {
   "cell_type": "code",
   "execution_count": 42,
   "metadata": {},
   "outputs": [
    {
     "data": {
      "image/png": "[encoded data removed]",
      "text/plain": [
       "<Figure size 576x576 with 1 Axes>"
      ]
     },
     "metadata": {
      "needs_background": "light"
     },
     "output_type": "display_data"
    }
   ],
   "source": [
    "display_history(history)"
   ]
  },
  {
   "cell_type": "markdown",
   "metadata": {},
   "source": [
    "## Predicate iden + diamb part"
   ]
  },
  {
   "cell_type": "code",
   "execution_count": 43,
   "metadata": {},
   "outputs": [],
   "source": [
    "loss_function = torch.nn.CrossEntropyLoss(ignore_index = dataset_train_en.labels['predicates_pad_id']) # !"
   ]
  },
  {
   "cell_type": "markdown",
   "metadata": {},
   "source": [
    "Here, I won't use the position of the predicates:"
   ]
  },
  {
   "cell_type": "code",
   "execution_count": 44,
   "metadata": {},
   "outputs": [],
   "source": [
    "from stud.modelsTests.model_pred_iden_dis_part.Model_pid_transformer_simple import PredIdenDisModel\n",
    "import torch.optim as optim\n",
    "\n",
    "final_model = PredIdenDisModel(\n",
    "    language = 'EN',\n",
    "    device = device,\n",
    "    model_load_weights = True, # !!!\n",
    "    loss_fn = loss_function,\n",
    "    fine_tune_transformer = True,\n",
    "    has_predicates_positions = False, # !\n",
    "    has_pos_tags = False,\n",
    ")\n",
    "\n",
    "optimizer = optim.SGD(final_model.model.parameters(), lr=0.0016, momentum=0.9)\n",
    "# optimizer = optim.Adam(model.parameters(), lr=0.0016)"
   ]
  },
  {
   "cell_type": "code",
   "execution_count": 45,
   "metadata": {},
   "outputs": [],
   "source": [
    "history = {}"
   ]
  },
  {
   "cell_type": "code",
   "execution_count": 46,
   "metadata": {},
   "outputs": [
    {
     "name": "stdout",
     "output_type": "stream",
     "text": [
      "Epoch   0 => avg_loss: 0.198372\n",
      "# Validation loss => 0.162577 | f1-score: arg_iden = 0.944652 arg_class = 0.518022 #\n",
      "Epoch   1 => avg_loss: 0.170656\n",
      "# Validation loss => 0.151130 | f1-score: arg_iden = 0.953529 arg_class = 0.536652 #\n",
      "Epoch   2 => avg_loss: 0.153637\n",
      "# Validation loss => 0.142837 | f1-score: arg_iden = 0.954287 arg_class = 0.552089 #\n",
      "Epoch   3 => avg_loss: 0.138999\n",
      "# Validation loss => 0.138119 | f1-score: arg_iden = 0.956830 arg_class = 0.565346 #\n",
      "Epoch   4 => avg_loss: 0.130680\n",
      "# Validation loss => 0.134802 | f1-score: arg_iden = 0.955312 arg_class = 0.567229 #\n",
      "Epoch   5 => avg_loss: 0.121130\n",
      "# Validation loss => 0.132076 | f1-score: arg_iden = 0.958260 arg_class = 0.571820 #\n",
      "Epoch   6 => avg_loss: 0.115609\n",
      "# Validation loss => 0.131072 | f1-score: arg_iden = 0.958464 arg_class = 0.575627 #\n",
      "Epoch   7 => avg_loss: 0.109418\n",
      "# Validation loss => 0.129948 | f1-score: arg_iden = 0.960079 arg_class = 0.580924 #\n",
      "Epoch   8 => avg_loss: 0.108025\n",
      "# Validation loss => 0.129631 | f1-score: arg_iden = 0.962368 arg_class = 0.579773 #\n",
      "Epoch   9 => avg_loss: 0.101290\n",
      "# Validation loss => 0.129513 | f1-score: arg_iden = 0.961365 arg_class = 0.579329 #\n",
      "Epoch  10 => avg_loss: 0.096860\n",
      "# Validation loss => 0.129193 | f1-score: arg_iden = 0.961554 arg_class = 0.579051 #\n",
      "Epoch  11 => avg_loss: 0.089638\n",
      "# Validation loss => 0.129743 | f1-score: arg_iden = 0.961259 arg_class = 0.583677 #\n",
      "Epoch  12 => avg_loss: 0.089205\n",
      "# Validation loss => 0.129770 | f1-score: arg_iden = 0.961787 arg_class = 0.584754 #\n",
      "Epoch  13 => avg_loss: 0.085581\n",
      "# Validation loss => 0.130020 | f1-score: arg_iden = 0.961049 arg_class = 0.584459 #\n",
      "Epoch  14 => avg_loss: 0.083001\n",
      "# Validation loss => 0.130301 | f1-score: arg_iden = 0.959513 arg_class = 0.584513 #\n",
      "Epoch  15 => avg_loss: 0.078413\n",
      "# Validation loss => 0.130722 | f1-score: arg_iden = 0.962659 arg_class = 0.591984 #\n",
      "Epoch  16 => avg_loss: 0.076633\n",
      "# Validation loss => 0.131014 | f1-score: arg_iden = 0.962774 arg_class = 0.588558 #\n",
      "Epoch  17 => avg_loss: 0.074294\n",
      "# Validation loss => 0.131480 | f1-score: arg_iden = 0.964119 arg_class = 0.591264 #\n",
      "Epoch  18 => avg_loss: 0.073075\n",
      "# Validation loss => 0.130850 | f1-score: arg_iden = 0.962571 arg_class = 0.591025 #\n",
      "Epoch  19 => avg_loss: 0.064558\n",
      "# Validation loss => 0.131568 | f1-score: arg_iden = 0.963253 arg_class = 0.588741 #\n",
      "Epoch  20 => avg_loss: 0.063768\n",
      "# Validation loss => 0.131513 | f1-score: arg_iden = 0.962338 arg_class = 0.595135 #\n",
      "Epoch  21 => avg_loss: 0.063064\n",
      "# Validation loss => 0.131925 | f1-score: arg_iden = 0.963006 arg_class = 0.595420 #\n",
      "Epoch  22 => avg_loss: 0.058731\n",
      "# Validation loss => 0.131539 | f1-score: arg_iden = 0.962659 arg_class = 0.593548 #\n",
      "Epoch  23 => avg_loss: 0.058840\n",
      "# Validation loss => 0.132588 | f1-score: arg_iden = 0.962286 arg_class = 0.594479 #\n",
      "Epoch  24 => avg_loss: 0.055510\n",
      "# Validation loss => 0.133273 | f1-score: arg_iden = 0.961636 arg_class = 0.593184 #\n",
      "Epoch  25 => avg_loss: 0.053616\n",
      "# Validation loss => 0.132323 | f1-score: arg_iden = 0.962456 arg_class = 0.592491 #\n",
      "Epoch  26 => avg_loss: 0.052548\n",
      "# Validation loss => 0.132932 | f1-score: arg_iden = 0.962327 arg_class = 0.595745 #\n",
      "Epoch  27 => avg_loss: 0.051982\n",
      "# Validation loss => 0.133330 | f1-score: arg_iden = 0.963381 arg_class = 0.594079 #\n",
      "Epoch  28 => avg_loss: 0.051542\n",
      "# Validation loss => 0.133163 | f1-score: arg_iden = 0.963324 arg_class = 0.598908 #\n",
      "Epoch  29 => avg_loss: 0.048956\n",
      "# Validation loss => 0.132361 | f1-score: arg_iden = 0.963818 arg_class = 0.601604 #\n",
      "----- Best value obtained, saving model -----\n",
      "Epoch  30 => avg_loss: 0.046527\n",
      "# Validation loss => 0.133054 | f1-score: arg_iden = 0.963860 arg_class = 0.596601 #\n",
      "Epoch  31 => avg_loss: 0.044617\n",
      "# Validation loss => 0.132839 | f1-score: arg_iden = 0.964439 arg_class = 0.599844 #\n",
      "Epoch  32 => avg_loss: 0.044998\n",
      "# Validation loss => 0.133073 | f1-score: arg_iden = 0.964293 arg_class = 0.597463 #\n",
      "Epoch  33 => avg_loss: 0.041002\n",
      "# Validation loss => 0.133511 | f1-score: arg_iden = 0.963151 arg_class = 0.601677 #\n",
      "----- Best value obtained, saving model -----\n",
      "Epoch  34 => avg_loss: 0.039678\n",
      "# Validation loss => 0.133622 | f1-score: arg_iden = 0.963093 arg_class = 0.602617 #\n",
      "----- Best value obtained, saving model -----\n",
      "Epoch  35 => avg_loss: 0.040195\n",
      "# Validation loss => 0.133108 | f1-score: arg_iden = 0.964020 arg_class = 0.601486 #\n",
      "Epoch  36 => avg_loss: 0.040481\n",
      "# Validation loss => 0.134466 | f1-score: arg_iden = 0.963917 arg_class = 0.603472 #\n",
      "----- Best value obtained, saving model -----\n",
      "Epoch  37 => avg_loss: 0.036600\n",
      "# Validation loss => 0.134576 | f1-score: arg_iden = 0.964293 arg_class = 0.601756 #\n",
      "Epoch  38 => avg_loss: 0.035581\n",
      "# Validation loss => 0.133769 | f1-score: arg_iden = 0.964384 arg_class = 0.599217 #\n",
      "Epoch  39 => avg_loss: 0.037057\n",
      "# Validation loss => 0.134400 | f1-score: arg_iden = 0.964683 arg_class = 0.604098 #\n",
      "----- Best value obtained, saving model -----\n",
      "Epoch  40 => avg_loss: 0.034476\n",
      "# Validation loss => 0.134537 | f1-score: arg_iden = 0.964279 arg_class = 0.603553 #\n",
      "Epoch  41 => avg_loss: 0.033358\n",
      "# Validation loss => 0.135137 | f1-score: arg_iden = 0.964710 arg_class = 0.600507 #\n",
      "Epoch  42 => avg_loss: 0.030434\n",
      "# Validation loss => 0.134924 | f1-score: arg_iden = 0.964912 arg_class = 0.601170 #\n",
      "Epoch  43 => avg_loss: 0.030567\n",
      "# Validation loss => 0.135185 | f1-score: arg_iden = 0.964321 arg_class = 0.599727 #\n",
      "Epoch  44 => avg_loss: 0.032975\n",
      "# Validation loss => 0.135578 | f1-score: arg_iden = 0.964550 arg_class = 0.601870 #\n",
      "Epoch  45 => avg_loss: 0.028718\n",
      "# Validation loss => 0.134974 | f1-score: arg_iden = 0.965396 arg_class = 0.604106 #\n",
      "----- Best value obtained, saving model -----\n",
      "Epoch  46 => avg_loss: 0.027244\n",
      "# Validation loss => 0.135643 | f1-score: arg_iden = 0.964348 arg_class = 0.608221 #\n",
      "----- Best value obtained, saving model -----\n",
      "Epoch  47 => avg_loss: 0.029567\n",
      "# Validation loss => 0.136419 | f1-score: arg_iden = 0.965423 arg_class = 0.602461 #\n",
      "Epoch  48 => avg_loss: 0.027536\n",
      "# Validation loss => 0.137010 | f1-score: arg_iden = 0.965329 arg_class = 0.602259 #\n",
      "Epoch  49 => avg_loss: 0.027597\n",
      "# Validation loss => 0.136931 | f1-score: arg_iden = 0.964600 arg_class = 0.598474 #\n",
      "Epoch  50 => avg_loss: 0.026541\n",
      "# Validation loss => 0.137155 | f1-score: arg_iden = 0.964981 arg_class = 0.600778 #\n",
      "Epoch  51 => avg_loss: 0.025637\n",
      "# Validation loss => 0.137007 | f1-score: arg_iden = 0.964425 arg_class = 0.598514 #\n",
      "Epoch  52 => avg_loss: 0.023404\n",
      "# Validation loss => 0.137653 | f1-score: arg_iden = 0.964830 arg_class = 0.599062 #\n",
      "Epoch  53 => avg_loss: 0.022755\n",
      "# Validation loss => 0.137467 | f1-score: arg_iden = 0.965504 arg_class = 0.599883 #\n",
      "Epoch  54 => avg_loss: 0.023104\n",
      "# Validation loss => 0.138044 | f1-score: arg_iden = 0.966283 arg_class = 0.600663 #\n",
      "Epoch  55 => avg_loss: 0.023268\n",
      "# Validation loss => 0.137872 | f1-score: arg_iden = 0.965612 arg_class = 0.602579 #\n",
      "Epoch  56 => avg_loss: 0.020967\n",
      "# Validation loss => 0.138375 | f1-score: arg_iden = 0.965087 arg_class = 0.601131 #\n",
      "Epoch  57 => avg_loss: 0.019455\n",
      "# Validation loss => 0.137694 | f1-score: arg_iden = 0.964775 arg_class = 0.601174 #\n",
      "Epoch  58 => avg_loss: 0.019940\n",
      "# Validation loss => 0.138082 | f1-score: arg_iden = 0.965531 arg_class = 0.598247 #\n",
      "Epoch  59 => avg_loss: 0.020068\n",
      "# Validation loss => 0.138671 | f1-score: arg_iden = 0.965679 arg_class = 0.597504 #\n"
     ]
    }
   ],
   "source": [
    "from stud.modelsTests.utils.Trainer_pid_transformer_simple import Trainer_pid_transformer_simple\n",
    "\n",
    "trainer = Trainer_pid_transformer_simple()\n",
    "\n",
    "history = trainer.train(\n",
    "    final_model, optimizer, dataloader_train_fr, dataloader_dev_fr,\n",
    "    epochs=60, device=device,\n",
    "    save_best=True, \n",
    "    min_score=0.6,\n",
    "    save_path_name=os.path.join(model_dir_path, 'pid_transformer_weights_fr.pth'),\n",
    "    saved_history=history\n",
    ")"
   ]
  },
  {
   "cell_type": "code",
   "execution_count": 47,
   "metadata": {},
   "outputs": [
    {
     "data": {
      "image/png": "[encoded data removed]",
      "text/plain": [
       "<Figure size 576x576 with 1 Axes>"
      ]
     },
     "metadata": {
      "needs_background": "light"
     },
     "output_type": "display_data"
    }
   ],
   "source": [
    "display_history(history)"
   ]
  }
 ],
 "metadata": {
  "interpreter": {
   "hash": "176726de92aa5f7c7bad0ace42430d0e9e67427a9b4905ef1c48cfd9a71ff23e"
  },
  "kernelspec": {
   "display_name": "Python 3.9.12 ('nlp2022-hw2')",
   "language": "python",
   "name": "python3"
  },
  "language_info": {
   "codemirror_mode": {
    "name": "ipython",
    "version": 3
   },
   "file_extension": ".py",
   "mimetype": "text/x-python",
   "name": "python",
   "nbconvert_exporter": "python",
   "pygments_lexer": "ipython3",
   "version": "3.9.12 (main, Jun  1 2022, 11:38:51) \n[GCC 7.5.0]"
  },
  "orig_nbformat": 4
 },
 "nbformat": 4,
 "nbformat_minor": 2
}
